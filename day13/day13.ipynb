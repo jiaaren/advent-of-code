{
 "cells": [
  {
   "cell_type": "code",
   "execution_count": 1,
   "metadata": {},
   "outputs": [],
   "source": [
    "from pathlib import Path\n",
    "txt = Path('day13.txt').read_text().split(\"\\n\\n\")\n",
    "coor = [x.strip().split(',') for x in txt[0].split(\"\\n\")]"
   ]
  },
  {
   "cell_type": "code",
   "execution_count": 2,
   "metadata": {},
   "outputs": [],
   "source": [
    "maxy = 0\n",
    "maxx = 0\n",
    "for i in range(len(coor)):\n",
    "    coor[i][0] = int(coor[i][0])\n",
    "    coor[i][1] = int(coor[i][1])\n",
    "    if (coor[i][0] > maxx):\n",
    "        maxx = coor[i][0]\n",
    "    if (coor[i][1] > maxy):\n",
    "        maxy = coor[i][1]"
   ]
  },
  {
   "cell_type": "code",
   "execution_count": 3,
   "metadata": {},
   "outputs": [
    {
     "data": {
      "text/plain": [
       "(1310, 894)"
      ]
     },
     "execution_count": 3,
     "metadata": {},
     "output_type": "execute_result"
    }
   ],
   "source": [
    "maxx, maxy"
   ]
  },
  {
   "cell_type": "code",
   "execution_count": 4,
   "metadata": {},
   "outputs": [],
   "source": [
    "grid = [['.' for x in range(maxx + 1)] for y in range(maxy + 1)]\n",
    "for x, y in coor:\n",
    "    grid[y][x] = '@'"
   ]
  },
  {
   "cell_type": "code",
   "execution_count": 5,
   "metadata": {},
   "outputs": [],
   "source": [
    "def fold_y(grid, amt):\n",
    "    fold_up = grid[0:amt].copy()\n",
    "    fold_down = grid[amt + 1:].copy()\n",
    "    h = len(fold_up)\n",
    "    w = len(fold_up[0])\n",
    "    for r in range(h):\n",
    "        for c in range(w):\n",
    "            u = fold_up[r][c]\n",
    "            d = fold_down[h - 1 - r][c]\n",
    "            if u == '@' or d == '@':\n",
    "                fold_up[r][c] = '@'\n",
    "    return (fold_up)"
   ]
  },
  {
   "cell_type": "code",
   "execution_count": 6,
   "metadata": {},
   "outputs": [],
   "source": [
    "def fold_x(grid, amt):\n",
    "    tmp_grid = grid.copy()\n",
    "    fold_left = [x[0:amt] for x in tmp_grid]\n",
    "    fold_right = [x[amt+1:] for x in tmp_grid]\n",
    "    h = len(fold_left)\n",
    "    w = len(fold_left[0])\n",
    "    for r in range(h):\n",
    "        for c in range(w):\n",
    "            l = fold_left[r][c]\n",
    "            ri = fold_right[r][w - 1 - c]\n",
    "            if l == '@' or ri == '@':\n",
    "                fold_left[r][c] = '@'\n",
    "    return (fold_left)"
   ]
  },
  {
   "cell_type": "code",
   "execution_count": 7,
   "metadata": {},
   "outputs": [],
   "source": [
    "def calc_hash(grid):\n",
    "    count = 0\n",
    "    for i in grid:\n",
    "        for j in i:\n",
    "            if j == '@':\n",
    "                count += 1\n",
    "    return count"
   ]
  },
  {
   "cell_type": "code",
   "execution_count": 8,
   "metadata": {},
   "outputs": [
    {
     "data": {
      "text/plain": [
       "[['x', 655],\n",
       " ['y', 447],\n",
       " ['x', 327],\n",
       " ['y', 223],\n",
       " ['x', 163],\n",
       " ['y', 111],\n",
       " ['x', 81],\n",
       " ['y', 55],\n",
       " ['x', 40],\n",
       " ['y', 27],\n",
       " ['y', 13],\n",
       " ['y', 6]]"
      ]
     },
     "execution_count": 8,
     "metadata": {},
     "output_type": "execute_result"
    }
   ],
   "source": [
    "folds = [x.split(\"=\") for x in txt[1].split(\"\\n\")]\n",
    "folds = [[a[-1], int(b)] for a, b in folds]\n",
    "folds"
   ]
  },
  {
   "cell_type": "code",
   "execution_count": 9,
   "metadata": {},
   "outputs": [
    {
     "name": "stdout",
     "output_type": "stream",
     "text": [
      "count after fold in x at 655 - 751\n",
      "count after fold in y at 447 - 625\n",
      "count after fold in x at 327 - 515\n",
      "count after fold in y at 223 - 429\n",
      "count after fold in x at 163 - 349\n",
      "count after fold in y at 111 - 284\n",
      "count after fold in x at 81 - 238\n",
      "count after fold in y at 55 - 203\n",
      "count after fold in x at 40 - 163\n",
      "count after fold in y at 27 - 141\n",
      "count after fold in y at 13 - 118\n",
      "count after fold in y at 6 - 95\n"
     ]
    }
   ],
   "source": [
    "for a, b in folds:\n",
    "    if a == 'x':\n",
    "        grid = fold_x(grid, b)\n",
    "    else:\n",
    "        grid = fold_y(grid, b)\n",
    "    print(f'count after fold in {a} at {b} - {calc_hash(grid)}')\n",
    "    \n",
    "# P1 ans - 751"
   ]
  },
  {
   "cell_type": "code",
   "execution_count": 10,
   "metadata": {},
   "outputs": [
    {
     "name": "stdout",
     "output_type": "stream",
     "text": [
      "@@@...@@..@..@.@@@..@..@.@....@..@.@....\n",
      "@..@.@..@.@..@.@..@.@.@..@....@.@..@....\n",
      "@..@.@....@@@@.@..@.@@...@....@@...@....\n",
      "@@@..@.@@.@..@.@@@..@.@..@....@.@..@....\n",
      "@....@..@.@..@.@.@..@.@..@....@.@..@....\n",
      "@.....@@@.@..@.@..@.@..@.@@@@.@..@.@@@@.\n"
     ]
    }
   ],
   "source": [
    "for y in grid:\n",
    "    for x in y:\n",
    "        print(x, end='')\n",
    "    print()\n",
    "    \n",
    "# P2 ans - PGHRKLKL"
   ]
  }
 ],
 "metadata": {
  "kernelspec": {
   "display_name": "Python 3",
   "language": "python",
   "name": "python3"
  },
  "language_info": {
   "codemirror_mode": {
    "name": "ipython",
    "version": 3
   },
   "file_extension": ".py",
   "mimetype": "text/x-python",
   "name": "python",
   "nbconvert_exporter": "python",
   "pygments_lexer": "ipython3",
   "version": "3.8.3"
  }
 },
 "nbformat": 4,
 "nbformat_minor": 4
}
