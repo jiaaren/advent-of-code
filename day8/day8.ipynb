{
 "cells": [
  {
   "cell_type": "code",
   "execution_count": 1,
   "metadata": {},
   "outputs": [],
   "source": [
    "with open('day8.txt', 'r') as f:\n",
    "    f_lst = [x.strip() for x in f]"
   ]
  },
  {
   "cell_type": "code",
   "execution_count": 2,
   "metadata": {},
   "outputs": [],
   "source": [
    "arr = [2, 3, 4, 7]"
   ]
  },
  {
   "cell_type": "code",
   "execution_count": 3,
   "metadata": {},
   "outputs": [],
   "source": [
    "count = 0\n",
    "\n",
    "for row in f_lst:\n",
    "    items = row.rsplit(' | ')[1].split(' ')\n",
    "    for x in items:\n",
    "        unique = len(set(x))\n",
    "        if unique in arr:\n",
    "            count += 1"
   ]
  },
  {
   "cell_type": "code",
   "execution_count": 4,
   "metadata": {},
   "outputs": [
    {
     "data": {
      "text/plain": [
       "375"
      ]
     },
     "execution_count": 4,
     "metadata": {},
     "output_type": "execute_result"
    }
   ],
   "source": [
    "# part 1\n",
    "count"
   ]
  },
  {
   "cell_type": "code",
   "execution_count": null,
   "metadata": {},
   "outputs": [],
   "source": []
  },
  {
   "cell_type": "code",
   "execution_count": 5,
   "metadata": {},
   "outputs": [
    {
     "name": "stdout",
     "output_type": "stream",
     "text": [
      "decode  ['fceabd', 'decba', 'debgf', 'acgefb', 'cfedb', 'ecf', 'fdgaceb', 'acfd', 'fc', 'gdbaec']\n",
      "data    ['cedbag', 'cdeabf', 'fdca', 'bgadec']\n"
     ]
    }
   ],
   "source": [
    "decode = []\n",
    "data = []\n",
    "for x in f_lst:\n",
    "    split_raw = x.split(' | ')\n",
    "    decode.append(split_raw[0].split(' '))\n",
    "    data.append(split_raw[1].split(' '))\n",
    "    \n",
    "# first row of decode\n",
    "print('decode ', decode[0])\n",
    "# first row of data\n",
    "print('data   ', data[0])"
   ]
  },
  {
   "cell_type": "code",
   "execution_count": 6,
   "metadata": {},
   "outputs": [
    {
     "name": "stdout",
     "output_type": "stream",
     "text": [
      "data    {7: 'ecf', 8: 'fdgaceb', 4: 'acfd', 1: 'fc'}\n"
     ]
    }
   ],
   "source": [
    "decode_dict = []\n",
    "\n",
    "# to update 1, 4, 7, 8 in decode_dict\n",
    "for each in decode:\n",
    "    tmp = {}\n",
    "    for x in each:\n",
    "        str_len = len(set(x))\n",
    "        if str_len == 2:\n",
    "            tmp[1] = x\n",
    "        elif str_len == 4:\n",
    "            tmp[4] = x\n",
    "        elif str_len == 3:\n",
    "            tmp[7] = x\n",
    "        elif str_len == 7:\n",
    "            tmp[8] = x\n",
    "    decode_dict.append(tmp) \n",
    "    \n",
    "# first row of decode dict\n",
    "print('data   ', decode_dict[0])"
   ]
  },
  {
   "cell_type": "code",
   "execution_count": 7,
   "metadata": {},
   "outputs": [
    {
     "name": "stdout",
     "output_type": "stream",
     "text": [
      "data    {7: 'ecf', 8: 'fdgaceb', 4: 'acfd', 1: 'fc', 9: 'fceabd', 0: 'acgefb', 3: 'cfedb'}\n"
     ]
    }
   ],
   "source": [
    "# to update 9, 0, 3\n",
    "for i, each, item in zip(range(len(decode)), decode, decode_dict):\n",
    "    for x in each:\n",
    "        set_len = len(set(x))\n",
    "        if set_len in arr:\n",
    "            continue\n",
    "        if set(decode_dict[i][4]).issubset(set(x)):\n",
    "            decode_dict[i][9] = x\n",
    "        elif set(decode_dict[i][1]).issubset(set(x)) and set_len == 6:\n",
    "            decode_dict[i][0] = x\n",
    "        elif set(decode_dict[i][7]).issubset(set(x)) and set_len == 5:\n",
    "            decode_dict[i][3] = x\n",
    "            \n",
    "# first row of decode dict\n",
    "print('data   ', decode_dict[0])"
   ]
  },
  {
   "cell_type": "code",
   "execution_count": 8,
   "metadata": {},
   "outputs": [
    {
     "data": {
      "text/plain": [
       "[7, 8, 4, 1, 9, 0, 3]"
      ]
     },
     "execution_count": 8,
     "metadata": {},
     "output_type": "execute_result"
    }
   ],
   "source": [
    "# lists down numbers already included\n",
    "new_arr = list(decode_dict[0].keys())\n",
    "new_arr"
   ]
  },
  {
   "cell_type": "code",
   "execution_count": 9,
   "metadata": {},
   "outputs": [],
   "source": [
    "# to update 6 in decode_dict, need information from 9 and 0\n",
    "for i, each, item in zip(range(len(decode)), decode, decode_dict):\n",
    "    for x in each:\n",
    "        set_len = len(set(x))\n",
    "        if set_len == 6 and x != decode_dict[i][9] and x != decode_dict[i][0]:\n",
    "            decode_dict[i][6] = x\n",
    "            \n",
    "# to update 5 in decode_dict, need information from 6\n",
    "for i, each, item in zip(range(len(decode)), decode, decode_dict):\n",
    "    for x in each:\n",
    "        set_len = len(set(x))\n",
    "        if set(x).issubset(decode_dict[i][6]) and x != decode_dict[i][6]:\n",
    "            decode_dict[i][5] = x\n",
    "            \n",
    "# to update 2 in decode_dict, need information from 5\n",
    "for i, each, item in zip(range(len(decode)), decode, decode_dict):\n",
    "    for x in each:\n",
    "        set_len = len(set(x))\n",
    "        if set_len == 5 and x != decode_dict[i][3] and x != decode_dict[i][5]:\n",
    "            decode_dict[i][2] = x"
   ]
  },
  {
   "cell_type": "code",
   "execution_count": 10,
   "metadata": {},
   "outputs": [
    {
     "name": "stdout",
     "output_type": "stream",
     "text": [
      "data    {7: 'ecf', 8: 'fdgaceb', 4: 'acfd', 1: 'fc', 9: 'fceabd', 0: 'acgefb', 3: 'cfedb', 6: 'gdbaec', 5: 'decba', 2: 'debgf'}\n"
     ]
    }
   ],
   "source": [
    "# COMPLETED\n",
    "# first row of decode dict\n",
    "print('data   ', decode_dict[0])"
   ]
  },
  {
   "cell_type": "code",
   "execution_count": 11,
   "metadata": {},
   "outputs": [
    {
     "name": "stdout",
     "output_type": "stream",
     "text": [
      "True\n"
     ]
    }
   ],
   "source": [
    "# check all decode_dict has length 10\n",
    "for each in decode_dict:\n",
    "    if len(each.keys()) != 10:\n",
    "        print(False)\n",
    "        break;\n",
    "else:\n",
    "    print(True)"
   ]
  },
  {
   "cell_type": "code",
   "execution_count": 12,
   "metadata": {},
   "outputs": [],
   "source": [
    "# accepts num_str and index and returns number\n",
    "def find_num(num_str, index):\n",
    "    str_len = len(set(num_str))\n",
    "    for i in range(10):\n",
    "        if str_len == len(set(decode_dict[index][i])) and set(num_str).issubset(set(decode_dict[index][i])):\n",
    "            return i"
   ]
  },
  {
   "cell_type": "code",
   "execution_count": 13,
   "metadata": {},
   "outputs": [
    {
     "data": {
      "text/plain": [
       "4"
      ]
     },
     "execution_count": 13,
     "metadata": {},
     "output_type": "execute_result"
    }
   ],
   "source": [
    "# test\n",
    "find_num('fdca', 0)"
   ]
  },
  {
   "cell_type": "code",
   "execution_count": 14,
   "metadata": {},
   "outputs": [],
   "source": [
    "total = 0\n",
    "\n",
    "for index, each in zip(range(len(decode_dict)), data):\n",
    "    tot_num = 0\n",
    "    for num in each:\n",
    "        tot_num = tot_num * 10 + find_num(num, index)\n",
    "    total += tot_num"
   ]
  },
  {
   "cell_type": "code",
   "execution_count": 15,
   "metadata": {},
   "outputs": [
    {
     "data": {
      "text/plain": [
       "1019355"
      ]
     },
     "execution_count": 15,
     "metadata": {},
     "output_type": "execute_result"
    }
   ],
   "source": [
    "# part 2\n",
    "total"
   ]
  },
  {
   "cell_type": "code",
   "execution_count": null,
   "metadata": {},
   "outputs": [],
   "source": []
  }
 ],
 "metadata": {
  "kernelspec": {
   "display_name": "Python 3",
   "language": "python",
   "name": "python3"
  },
  "language_info": {
   "codemirror_mode": {
    "name": "ipython",
    "version": 3
   },
   "file_extension": ".py",
   "mimetype": "text/x-python",
   "name": "python",
   "nbconvert_exporter": "python",
   "pygments_lexer": "ipython3",
   "version": "3.8.3"
  }
 },
 "nbformat": 4,
 "nbformat_minor": 4
}
