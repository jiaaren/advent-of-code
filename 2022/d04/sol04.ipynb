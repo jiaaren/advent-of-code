{
 "cells": [
  {
   "cell_type": "code",
   "execution_count": 10,
   "metadata": {},
   "outputs": [],
   "source": [
    "# WRONG\n",
    "\n",
    "# with open('input.txt') as f:\n",
    "#     file = f.read()\n",
    "\n",
    "# pair_lst = file.split('\\n')\n",
    "\n",
    "# inside = 0\n",
    "\n",
    "# for pair in pair_lst:\n",
    "#     pair_split = pair.split(',')\n",
    "#     range_one = [int(x) for x in pair_split[0].split('-')]\n",
    "#     range_two = [int(x) for x in pair_split[1].split('-')]\n",
    "    \n",
    "#     str_one = ''\n",
    "#     for i in range(range_one[0], range_one[1] + 1):\n",
    "#         str_one += str(i)\n",
    "#     str_two = ''\n",
    "#     for i in range(range_two[0], range_two[1] + 1):\n",
    "#         str_two += str(i)\n",
    "#     if str_one in str_two or str_two in str_one:\n",
    "#         inside += 1\n",
    "\n",
    "# print(inside)"
   ]
  },
  {
   "cell_type": "code",
   "execution_count": 24,
   "metadata": {},
   "outputs": [
    {
     "name": "stdout",
     "output_type": "stream",
     "text": [
      "444\n"
     ]
    }
   ],
   "source": [
    "with open('input.txt') as f:\n",
    "    file = f.read()\n",
    "\n",
    "pair_lst = file.split('\\n')\n",
    "\n",
    "inside = 0\n",
    "\n",
    "for pair in pair_lst:\n",
    "    pair_split = pair.split(',')\n",
    "    range_one = [int(x) for x in pair_split[0].split('-')]\n",
    "    range_two = [int(x) for x in pair_split[1].split('-')]\n",
    "\n",
    "    len_one = len(range_one)\n",
    "    len_two = len(range_two)\n",
    "\n",
    "    if len_one <= len_two and range_one[0] >= range_two[0] and range_one[1] <= range_two[1]:\n",
    "        # print('1', range_one, range_two)\n",
    "        inside += 1\n",
    "    elif len_two <= len_two and range_two[0] >= range_one[0] and range_two[1] <= range_one[1]:\n",
    "        # print('2', range_one, range_two)\n",
    "        inside += 1\n",
    "\n",
    "print(inside)"
   ]
  },
  {
   "cell_type": "code",
   "execution_count": 33,
   "metadata": {},
   "outputs": [
    {
     "name": "stdout",
     "output_type": "stream",
     "text": [
      "801\n"
     ]
    }
   ],
   "source": [
    "with open('input.txt') as f:\n",
    "    file = f.read()\n",
    "\n",
    "pair_lst = file.split('\\n')\n",
    "\n",
    "overlap = 0\n",
    "\n",
    "# 88 47\n",
    "\n",
    "for pair in pair_lst:\n",
    "    pair_split = pair.split(',')\n",
    "    range_one = [int(x) for x in pair_split[0].split('-')]\n",
    "    range_two = [int(x) for x in pair_split[1].split('-')]\n",
    "\n",
    "    if range_one[1] >= range_two[0] and range_one[0] <= range_two[1]:\n",
    "        overlap += 1\n",
    "        # print(range_one, range_two)\n",
    "    else:\n",
    "\n",
    "        # print(range_one, range_two)\n",
    "        pass\n",
    "\n",
    "print(overlap)"
   ]
  },
  {
   "cell_type": "code",
   "execution_count": null,
   "metadata": {},
   "outputs": [],
   "source": []
  }
 ],
 "metadata": {
  "kernelspec": {
   "display_name": "Python 3.8.2 64-bit",
   "language": "python",
   "name": "python3"
  },
  "language_info": {
   "codemirror_mode": {
    "name": "ipython",
    "version": 3
   },
   "file_extension": ".py",
   "mimetype": "text/x-python",
   "name": "python",
   "nbconvert_exporter": "python",
   "pygments_lexer": "ipython3",
   "version": "3.8.2"
  },
  "orig_nbformat": 4,
  "vscode": {
   "interpreter": {
    "hash": "570feb405e2e27c949193ac68f46852414290d515b0ba6e5d90d076ed2284471"
   }
  }
 },
 "nbformat": 4,
 "nbformat_minor": 2
}
