{
 "cells": [
  {
   "cell_type": "code",
   "execution_count": 1,
   "metadata": {},
   "outputs": [
    {
     "name": "stdout",
     "output_type": "stream",
     "text": [
      "1703\n"
     ]
    }
   ],
   "source": [
    "with open('input.txt') as f:\n",
    "    file = f.read()\n",
    "\n",
    "rows = file.split('\\n')\n",
    "matrix = []\n",
    "n_row = 0\n",
    "n_col = 0\n",
    "\n",
    "for row in rows:\n",
    "    empty_row = [int(char) for char in row]\n",
    "    matrix.append(empty_row)\n",
    "    n_row += 1\n",
    "n_col = len(matrix[0])\n",
    "\n",
    "def check_seen(matrix, x, y,  n_col, n_row):\n",
    "    if x == 0 or x == (n_col - 1):\n",
    "        return True\n",
    "    elif y == 0 or y == (n_row - 1):\n",
    "        return True\n",
    "    else:\n",
    "        # check from left\n",
    "        seen_left = True\n",
    "        for i in range(0, x):\n",
    "            if matrix[y][i] >= matrix[y][x]:\n",
    "                seen_left = False\n",
    "                break\n",
    "        # check from right\n",
    "        seen_right = True\n",
    "        for i in range(x + 1, n_col):\n",
    "            if matrix[y][i] >= matrix[y][x]:\n",
    "                seen_right = False\n",
    "                break\n",
    "        # check from top\n",
    "        seen_top = True\n",
    "        for i in range(0, y):\n",
    "            if matrix[i][x] >= matrix[y][x]:\n",
    "                seen_top = False\n",
    "                break\n",
    "        # check from bottom\n",
    "        seen_down = True\n",
    "        for i in range(y+1, n_row):\n",
    "            if matrix[i][x] >= matrix[y][x]:\n",
    "                seen_down = False\n",
    "                break\n",
    "        # print(seen_left, seen_right, seen_top, seen_down)\n",
    "        return seen_left or seen_right or seen_top or seen_down\n",
    "\n",
    "total_seen = 0\n",
    "\n",
    "for r in range(n_row):\n",
    "    for c in range(n_col):\n",
    "        # check left\n",
    "        seen = check_seen(matrix, c, r, n_col, n_row)\n",
    "        if seen:\n",
    "            total_seen += 1\n",
    "        # print(seen,end='')\n",
    "    # print()\n",
    "\n",
    "print(total_seen)\n"
   ]
  },
  {
   "cell_type": "code",
   "execution_count": 2,
   "metadata": {},
   "outputs": [
    {
     "data": {
      "text/plain": [
       "False"
      ]
     },
     "execution_count": 2,
     "metadata": {},
     "output_type": "execute_result"
    }
   ],
   "source": [
    "check_seen(matrix, 2, 2, n_col, n_row)"
   ]
  },
  {
   "cell_type": "code",
   "execution_count": null,
   "metadata": {},
   "outputs": [],
   "source": [
    "with open('input.txt') as f:\n",
    "    file = f.read()\n",
    "\n",
    "rows = file.split('\\n')\n",
    "matrix = []\n",
    "n_row = 0\n",
    "n_col = 0\n",
    "\n",
    "for row in rows:\n",
    "    empty_row = [int(char) for char in row]\n",
    "    matrix.append(empty_row)\n",
    "    n_row += 1\n",
    "n_col = len(matrix[0])\n",
    "\n",
    "def give_score(matrix, x, y,  n_col, n_row):\n",
    "    # check from left\n",
    "    score_left = 0\n",
    "    highest_seen = 0\n",
    "    for i in reversed(range(0, x)):\n",
    "        if matrix[y][i] > matrix[y][x]:\n",
    "            score_left += 1\n",
    "            break\n",
    "        if highest_seen > matrix[y][i]:\n",
    "            break\n",
    "        if matrix[y][i] > highest_seen:\n",
    "\n",
    "            highest_seen = matrix[y][i]\n",
    "        score_left += 1\n",
    "            \n",
    "    # check from right\n",
    "    score_right = 0\n",
    "    highest_seen = 0\n",
    "    for i in range(x + 1, n_col):\n",
    "        # print(f'{y} {i}' , matrix[y][i], score_right, highest_seen)\n",
    "        if matrix[y][i] > matrix[y][x]:\n",
    "            score_right += 1\n",
    "            break\n",
    "        if highest_seen > matrix[y][i]:\n",
    "            break\n",
    "        if matrix[y][i] > highest_seen:\n",
    "            highest_seen = matrix[y][i]\n",
    "        score_right += 1\n",
    "    # check from top\n",
    "    score_top = 0\n",
    "    highest_seen = 0\n",
    "    for i in reversed(range(0, y)):\n",
    "        # print(i)\n",
    "        if matrix[i][x] > matrix[y][x]:\n",
    "            score_top += 1\n",
    "            break\n",
    "        if highest_seen > matrix[i][x]:\n",
    "            break\n",
    "        if matrix[i][x] > highest_seen:\n",
    "            highest_seen = matrix[i][x]\n",
    "        score_top += 1\n",
    "    # check from bottom\n",
    "    score_down = 0\n",
    "    highest_seen = 0\n",
    "    for i in range(y+1, n_row):\n",
    "        if matrix[i][x] > matrix[y][x]:\n",
    "            score_down += 1\n",
    "            break\n",
    "        if highest_seen > matrix[i][x]:\n",
    "            break\n",
    "        if matrix[i][x] > highest_seen:\n",
    "            highest_seen = matrix[i][x]\n",
    "        score_down += 1\n",
    "    print(score_left, score_right, score_top, score_down)\n",
    "    return score_left * score_right * score_top * score_down\n",
    "\n",
    "max = 0\n",
    "\n",
    "for r in range(n_row):\n",
    "    for c in range(n_col):\n",
    "        # check left\n",
    "        seen = give_score(matrix, c, r, n_col, n_row)\n",
    "        if seen > max:\n",
    "            max = seen\n",
    "    #     print(seen,end='')\n",
    "    # print()\n",
    "\n",
    "print(max)\n"
   ]
  },
  {
   "cell_type": "code",
   "execution_count": 52,
   "metadata": {},
   "outputs": [
    {
     "name": "stdout",
     "output_type": "stream",
     "text": [
      "496650\n"
     ]
    }
   ],
   "source": [
    "# Had to just summarize logic, too much random stuff earlier\n",
    "\n",
    "with open('input.txt') as f:\n",
    "    file = f.read()\n",
    "\n",
    "rows = file.split('\\n')\n",
    "matrix = []\n",
    "n_row = 0\n",
    "n_col = 0\n",
    "\n",
    "for row in rows:\n",
    "    empty_row = [int(char) for char in row]\n",
    "    matrix.append(empty_row)\n",
    "    n_row += 1\n",
    "n_col = len(matrix[0])\n",
    "\n",
    "def give_score(matrix, x, y,  n_col, n_row):\n",
    "    # check from left\n",
    "    score_left = 0\n",
    "    for i in reversed(range(0, x)):\n",
    "        if matrix[y][i] >= matrix[y][x]:\n",
    "            score_left += 1\n",
    "            break\n",
    "        score_left += 1\n",
    "            \n",
    "    # check from right\n",
    "    score_right = 0\n",
    "    for i in range(x + 1, n_col):\n",
    "        if matrix[y][i] >= matrix[y][x]:\n",
    "            score_right += 1\n",
    "            break\n",
    "        score_right += 1\n",
    "    # check from top\n",
    "    score_top = 0\n",
    "    for i in reversed(range(0, y)):\n",
    "        if matrix[i][x] >= matrix[y][x]:\n",
    "            score_top += 1\n",
    "            break\n",
    "        score_top += 1\n",
    "    # check from bottom\n",
    "    score_down = 0\n",
    "    for i in range(y+1, n_row):\n",
    "        if matrix[i][x] >= matrix[y][x]:\n",
    "            score_down += 1\n",
    "            break\n",
    "        score_down += 1\n",
    "    # print(score_left, score_right, score_top, score_down)\n",
    "    return score_left * score_right * score_top * score_down\n",
    "\n",
    "max = 0\n",
    "\n",
    "for r in range(n_row):\n",
    "    for c in range(n_col):\n",
    "        # check left\n",
    "        seen = give_score(matrix, c, r, n_col, n_row)\n",
    "        if seen > max:\n",
    "            max = seen\n",
    "    #     print(seen,end='')\n",
    "    # print()\n",
    "\n",
    "print(max)\n"
   ]
  },
  {
   "cell_type": "code",
   "execution_count": 38,
   "metadata": {},
   "outputs": [
    {
     "name": "stdout",
     "output_type": "stream",
     "text": [
      "1 1 2 3\n"
     ]
    },
    {
     "data": {
      "text/plain": [
       "6"
      ]
     },
     "execution_count": 38,
     "metadata": {},
     "output_type": "execute_result"
    }
   ],
   "source": [
    "give_score(matrix, 1, 2, n_col, n_row)"
   ]
  },
  {
   "cell_type": "code",
   "execution_count": 39,
   "metadata": {},
   "outputs": [
    {
     "data": {
      "text/plain": [
       "3"
      ]
     },
     "execution_count": 39,
     "metadata": {},
     "output_type": "execute_result"
    }
   ],
   "source": [
    "matrix[2][94]"
   ]
  },
  {
   "cell_type": "code",
   "execution_count": 40,
   "metadata": {},
   "outputs": [
    {
     "name": "stdout",
     "output_type": "stream",
     "text": [
      "1 2 2 5\n"
     ]
    },
    {
     "data": {
      "text/plain": [
       "20"
      ]
     },
     "execution_count": 40,
     "metadata": {},
     "output_type": "execute_result"
    }
   ],
   "source": [
    "# score_left * score_right * score_top * score_down\n",
    "give_score(matrix, 94, 2, n_col, n_row)"
   ]
  },
  {
   "cell_type": "code",
   "execution_count": null,
   "metadata": {},
   "outputs": [],
   "source": []
  }
 ],
 "metadata": {
  "kernelspec": {
   "display_name": "Python 3.8.2 64-bit",
   "language": "python",
   "name": "python3"
  },
  "language_info": {
   "codemirror_mode": {
    "name": "ipython",
    "version": 3
   },
   "file_extension": ".py",
   "mimetype": "text/x-python",
   "name": "python",
   "nbconvert_exporter": "python",
   "pygments_lexer": "ipython3",
   "version": "3.8.2 (tags/v3.8.2:7b3ab59, Feb 25 2020, 23:03:10) [MSC v.1916 64 bit (AMD64)]"
  },
  "orig_nbformat": 4,
  "vscode": {
   "interpreter": {
    "hash": "570feb405e2e27c949193ac68f46852414290d515b0ba6e5d90d076ed2284471"
   }
  }
 },
 "nbformat": 4,
 "nbformat_minor": 2
}
