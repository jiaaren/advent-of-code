{
 "cells": [
  {
   "cell_type": "code",
   "execution_count": 94,
   "metadata": {},
   "outputs": [],
   "source": [
    "from ast import literal_eval\n",
    "\n",
    "with open('input.txt') as f:\n",
    "    file = f.read()\n",
    "\n",
    "lst_pairs_str = file.split('\\n\\n')\n",
    "lst_pairs = []\n",
    "\n",
    "for s in lst_pairs_str:\n",
    "    x, y = s.split('\\n')\n",
    "    lst_pairs.append((literal_eval(x), literal_eval(y)))"
   ]
  },
  {
   "cell_type": "code",
   "execution_count": 95,
   "metadata": {},
   "outputs": [],
   "source": [
    "def is_right_order(lst1, lst2):\n",
    "    if type(lst1) == int:\n",
    "        lst1 = [lst1]\n",
    "    if type(lst2) == int:\n",
    "        lst2 = [lst2]\n",
    "\n",
    "    max_l = max(len(lst1), len(lst2))\n",
    "    # print('huh', lst1, lst2, max_l)\n",
    "    for i in range(max_l):\n",
    "        # check length\n",
    "        if len(lst1) <= i:\n",
    "            return True\n",
    "        if len(lst2) <= i:\n",
    "            return False\n",
    "\n",
    "        if type(lst1[i]) == list or type(lst2[i]) == list:\n",
    "            \n",
    "            # if is_right_order(lst1[i], lst2[i]):\n",
    "            #   return False\n",
    "            # had to store res because our return values are actually -1, True and False. \n",
    "            # have 3 outcomes instead of 2\n",
    "            res = is_right_order(lst1[i], lst2[i])\n",
    "            if res == -1:\n",
    "                continue\n",
    "            return res\n",
    "        elif lst2[i] > lst1[i]:\n",
    "            return True\n",
    "        elif lst1[i] > lst2[i]:\n",
    "            return False\n",
    "    return -1"
   ]
  },
  {
   "cell_type": "code",
   "execution_count": 96,
   "metadata": {},
   "outputs": [
    {
     "data": {
      "text/plain": [
       "5580"
      ]
     },
     "execution_count": 96,
     "metadata": {},
     "output_type": "execute_result"
    }
   ],
   "source": [
    "right_order_lst = []\n",
    "\n",
    "for i, pair in enumerate(lst_pairs):\n",
    "    if is_right_order(*pair):\n",
    "        right_order_lst.append(i + 1)\n",
    "    #     print('right')\n",
    "    # print()\n",
    "\n",
    "sum(right_order_lst)"
   ]
  },
  {
   "cell_type": "code",
   "execution_count": 97,
   "metadata": {},
   "outputs": [
    {
     "data": {
      "text/plain": [
       "300"
      ]
     },
     "execution_count": 97,
     "metadata": {},
     "output_type": "execute_result"
    }
   ],
   "source": [
    "# brea lst_pairs_str into 2\n",
    "\n",
    "lst_pairs_all = []\n",
    "for l in lst_pairs:\n",
    "    lst_pairs_all.append(l[0])\n",
    "    lst_pairs_all.append(l[1])\n",
    "len(lst_pairs_all)"
   ]
  },
  {
   "cell_type": "code",
   "execution_count": 98,
   "metadata": {},
   "outputs": [],
   "source": [
    "tmp_index = 0\n",
    "tmp = []\n",
    "\n",
    "lst_pairs_all.extend([[[2]], [[6]]])\n",
    "\n",
    "# just bubble sort\n",
    "for i in range(len(lst_pairs_all)):\n",
    "    for j in range(i + 1, len(lst_pairs_all)):\n",
    "        if is_right_order(lst_pairs_all[j], lst_pairs_all[i]):\n",
    "            tmp = lst_pairs_all[i]\n",
    "            lst_pairs_all[i] = lst_pairs_all[j]\n",
    "            lst_pairs_all[j] = tmp\n"
   ]
  },
  {
   "cell_type": "code",
   "execution_count": 99,
   "metadata": {},
   "outputs": [
    {
     "data": {
      "text/plain": [
       "26200"
      ]
     },
     "execution_count": 99,
     "metadata": {},
     "output_type": "execute_result"
    }
   ],
   "source": [
    "packet1 = lst_pairs_all.index([[2]]) + 1\n",
    "packet2 = lst_pairs_all.index([[6]]) + 1\n",
    "packet1 * packet2"
   ]
  },
  {
   "cell_type": "code",
   "execution_count": null,
   "metadata": {},
   "outputs": [],
   "source": []
  },
  {
   "cell_type": "code",
   "execution_count": null,
   "metadata": {},
   "outputs": [],
   "source": []
  }
 ],
 "metadata": {
  "kernelspec": {
   "display_name": "Python 3",
   "language": "python",
   "name": "python3"
  },
  "language_info": {
   "codemirror_mode": {
    "name": "ipython",
    "version": 3
   },
   "file_extension": ".py",
   "mimetype": "text/x-python",
   "name": "python",
   "nbconvert_exporter": "python",
   "pygments_lexer": "ipython3",
   "version": "3.8.2"
  },
  "orig_nbformat": 4,
  "vscode": {
   "interpreter": {
    "hash": "570feb405e2e27c949193ac68f46852414290d515b0ba6e5d90d076ed2284471"
   }
  }
 },
 "nbformat": 4,
 "nbformat_minor": 2
}
