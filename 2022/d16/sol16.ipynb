{
 "cells": [
  {
   "cell_type": "code",
   "execution_count": 163,
   "metadata": {},
   "outputs": [],
   "source": [
    "import re\n",
    "with open('input.txt') as f:\n",
    "    file = f.read()\n",
    "\n",
    "valves_lst_str = []\n",
    "for l in file.split('\\n'):\n",
    "    # https://developer.mozilla.org/en-US/docs/Web/JavaScript/Guide/Regular_Expressions\n",
    "    # use .\n",
    "    # optional character - https://stackoverflow.com/questions/4007302/regex-how-to-match-an-optional-character\n",
    "    # use ?\n",
    "    matched = re.match(r'Valve (.+) has flow rate=(\\d+); tunnel[s]? lead[s]? to valve[s]? (.+)', l)\n",
    "    valves_lst_str.append(matched.groups())\n",
    "valves_lst = []\n",
    "for from_, flow, to_ in valves_lst_str:\n",
    "    valves_lst.append((from_, int(flow), to_.split(', ')))"
   ]
  },
  {
   "cell_type": "code",
   "execution_count": 164,
   "metadata": {},
   "outputs": [
    {
     "data": {
      "text/plain": [
       "[('VN', 0, ['LW', 'TK']),\n",
       " ('FQ', 0, ['AJ', 'YC']),\n",
       " ('DO', 0, ['RV', 'HJ']),\n",
       " ('MW', 0, ['TE', 'HJ']),\n",
       " ('LT', 5, ['KO', 'SG', 'KH', 'HZ', 'RV']),\n",
       " ('UJ', 0, ['FW', 'DE']),\n",
       " ('IZ', 0, ['LU', 'SX']),\n",
       " ('FE', 17, ['WG', 'WI', 'LC']),\n",
       " ('KS', 25, ['QA', 'BT']),\n",
       " ('HJ', 11, ['MW', 'CZ', 'ZE', 'DO']),\n",
       " ('WI', 0, ['WX', 'FE']),\n",
       " ('EK', 0, ['KE', 'BS']),\n",
       " ('HD', 0, ['KH', 'FW']),\n",
       " ('HZ', 0, ['XY', 'LT']),\n",
       " ('CD', 0, ['XD', 'LU']),\n",
       " ('OZ', 0, ['GX', 'LW']),\n",
       " ('AA', 0, ['EP', 'FU', 'DV', 'OU', 'HC']),\n",
       " ('OU', 0, ['VX', 'AA']),\n",
       " ('XD', 10, ['VX', 'VW', 'BS', 'XY', 'CD']),\n",
       " ('AI', 0, ['KE', 'FW']),\n",
       " ('GX', 0, ['OZ', 'WX']),\n",
       " ('FW', 8, ['AI', 'FU', 'UJ', 'TK', 'HD']),\n",
       " ('KO', 0, ['DV', 'LT']),\n",
       " ('DV', 0, ['KO', 'AA']),\n",
       " ('CZ', 0, ['LU', 'HJ']),\n",
       " ('WG', 0, ['KE', 'FE']),\n",
       " ('WX', 15, ['WI', 'GX']),\n",
       " ('AJ', 0, ['FQ', 'LU']),\n",
       " ('LC', 0, ['LW', 'FE']),\n",
       " ('XX', 0, ['LA', 'VW']),\n",
       " ('RK', 0, ['BX', 'LW']),\n",
       " ('YC', 22, ['FQ', 'QA']),\n",
       " ('KH', 0, ['HD', 'LT']),\n",
       " ('ZE', 0, ['HJ', 'SX']),\n",
       " ('BX', 0, ['KE', 'RK']),\n",
       " ('VS', 24, ['UP']),\n",
       " ('SX', 16, ['IZ', 'ZE', 'LV']),\n",
       " ('RV', 0, ['LT', 'DO']),\n",
       " ('UP', 0, ['VS', 'LW']),\n",
       " ('EP', 0, ['AA', 'AU']),\n",
       " ('VO', 0, ['KE', 'HC']),\n",
       " ('HC', 0, ['AA', 'VO']),\n",
       " ('TE', 0, ['LA', 'MW']),\n",
       " ('LW', 19, ['UP', 'OZ', 'LC', 'VN', 'RK']),\n",
       " ('SG', 0, ['OY', 'LT']),\n",
       " ('BT', 0, ['KS', 'LU']),\n",
       " ('DE', 0, ['LA', 'UJ']),\n",
       " ('BS', 0, ['EK', 'XD']),\n",
       " ('VX', 0, ['OU', 'XD']),\n",
       " ('TK', 0, ['VN', 'FW']),\n",
       " ('HQ', 14, ['LV']),\n",
       " ('LU', 20, ['CZ', 'IZ', 'AJ', 'BT', 'CD']),\n",
       " ('LA', 7, ['OY', 'XX', 'TE', 'DE', 'AU']),\n",
       " ('VW', 0, ['XD', 'XX']),\n",
       " ('LV', 0, ['SX', 'HQ']),\n",
       " ('XY', 0, ['XD', 'HZ']),\n",
       " ('OY', 0, ['SG', 'LA']),\n",
       " ('KE', 12, ['VO', 'EK', 'WG', 'AI', 'BX']),\n",
       " ('AU', 0, ['LA', 'EP']),\n",
       " ('QA', 0, ['YC', 'KS']),\n",
       " ('FU', 0, ['AA', 'FW'])]"
      ]
     },
     "execution_count": 164,
     "metadata": {},
     "output_type": "execute_result"
    }
   ],
   "source": [
    "valves_lst"
   ]
  },
  {
   "cell_type": "code",
   "execution_count": 165,
   "metadata": {},
   "outputs": [],
   "source": [
    "tmp_map = {\n",
    "    4: {\n",
    "        1: 2\n",
    "    },\n",
    "    1: {\n",
    "        2: 3,\n",
    "        4: 7\n",
    "    },\n",
    "    2: {\n",
    "        1: 8,\n",
    "        3: 2\n",
    "    },\n",
    "    3: {\n",
    "        1: 5,\n",
    "        4: 1\n",
    "    }\n",
    "}"
   ]
  },
  {
   "cell_type": "code",
   "execution_count": 166,
   "metadata": {},
   "outputs": [
    {
     "name": "stdout",
     "output_type": "stream",
     "text": [
      "inf\n",
      "True\n"
     ]
    }
   ],
   "source": [
    "# representing inf - https://stackoverflow.com/questions/7781260/how-can-i-represent-an-infinite-number-in-python\n",
    "print(float('inf') + float('inf'))\n",
    "print(float('inf') > 10)"
   ]
  },
  {
   "attachments": {},
   "cell_type": "markdown",
   "metadata": {},
   "source": [
    "### Floyd-Warshall\n",
    "- Video: https://www.youtube.com/watch?v=oNI0rf2P9gE\n",
    "\n",
    "#### Considerations\n",
    "1. Infinity must be comparable, infinity must be added to infinity to equal infinity\n",
    "2. In matrix:\n",
    "    - y axis represents from\n",
    "    - x axis represents to\n",
    "    - read as move from y to x"
   ]
  },
  {
   "cell_type": "code",
   "execution_count": 167,
   "metadata": {},
   "outputs": [],
   "source": [
    "# sort tmp map\n",
    "sorted_tmp_map = dict(sorted(tmp_map.items()))\n",
    "# index mapping\n",
    "index_map = {key:i for i, key in enumerate(sorted_tmp_map.keys())}\n",
    "\n",
    "def initialise_grid(tmp_map, index_map):\n",
    "    map_len = len(tmp_map)\n",
    "    # intialise matrix with inf\n",
    "    matrix = [[float('inf') for x in range(map_len)] for y in range(map_len)]\n",
    "    for i, i_val in tmp_map.items():\n",
    "        for j, j_val in i_val.items():\n",
    "            i_index = index_map[i]\n",
    "            j_index = index_map[j]\n",
    "            matrix[i_index][j_index] = j_val\n",
    "    # intialise diagonals to zero\n",
    "    for i in range(map_len):\n",
    "        matrix[i][i] = 0\n",
    "    return matrix\n",
    "\n",
    "mat = initialise_grid(sorted_tmp_map, index_map)"
   ]
  },
  {
   "cell_type": "code",
   "execution_count": 168,
   "metadata": {},
   "outputs": [],
   "source": [
    "def floyd_warshall(matrix):\n",
    "    rows = len(matrix)\n",
    "    # k = iterations, row also represents iterations\n",
    "    # k = mainly represents the itermediate matrix used to attempt in finding the shorted path\n",
    "    for k in range(rows):\n",
    "        for i in range(rows):\n",
    "            for j in range(rows):\n",
    "                # compare to find minimum distance of existing distance - matrix[i][j], \n",
    "                #   and the distance from source to intermediate and, from itermediate to dest\n",
    "                #   source to intermediate = [i][k], intermediate to dest = [k][j]\n",
    "                # by right we should skip when i == k or j == k, since we don't need to calculate an intermediate step from itself\n",
    "                #   however, the calculation resolves by itself, because it would be min(5, 0 + 5)\n",
    "                #   matrix[i][k] will be referencing a diagonal, so the result will always be zero\n",
    "                matrix[i][j] = min(matrix[i][j], matrix[i][k] + matrix[k][j])\n",
    "    return matrix\n",
    "\n",
    "mat = floyd_warshall(mat)"
   ]
  },
  {
   "cell_type": "code",
   "execution_count": 169,
   "metadata": {},
   "outputs": [
    {
     "data": {
      "text/plain": [
       "[('VN', 0, ['LW', 'TK']),\n",
       " ('FQ', 0, ['AJ', 'YC']),\n",
       " ('DO', 0, ['RV', 'HJ']),\n",
       " ('MW', 0, ['TE', 'HJ']),\n",
       " ('LT', 5, ['KO', 'SG', 'KH', 'HZ', 'RV']),\n",
       " ('UJ', 0, ['FW', 'DE']),\n",
       " ('IZ', 0, ['LU', 'SX']),\n",
       " ('FE', 17, ['WG', 'WI', 'LC']),\n",
       " ('KS', 25, ['QA', 'BT']),\n",
       " ('HJ', 11, ['MW', 'CZ', 'ZE', 'DO']),\n",
       " ('WI', 0, ['WX', 'FE']),\n",
       " ('EK', 0, ['KE', 'BS']),\n",
       " ('HD', 0, ['KH', 'FW']),\n",
       " ('HZ', 0, ['XY', 'LT']),\n",
       " ('CD', 0, ['XD', 'LU']),\n",
       " ('OZ', 0, ['GX', 'LW']),\n",
       " ('AA', 0, ['EP', 'FU', 'DV', 'OU', 'HC']),\n",
       " ('OU', 0, ['VX', 'AA']),\n",
       " ('XD', 10, ['VX', 'VW', 'BS', 'XY', 'CD']),\n",
       " ('AI', 0, ['KE', 'FW']),\n",
       " ('GX', 0, ['OZ', 'WX']),\n",
       " ('FW', 8, ['AI', 'FU', 'UJ', 'TK', 'HD']),\n",
       " ('KO', 0, ['DV', 'LT']),\n",
       " ('DV', 0, ['KO', 'AA']),\n",
       " ('CZ', 0, ['LU', 'HJ']),\n",
       " ('WG', 0, ['KE', 'FE']),\n",
       " ('WX', 15, ['WI', 'GX']),\n",
       " ('AJ', 0, ['FQ', 'LU']),\n",
       " ('LC', 0, ['LW', 'FE']),\n",
       " ('XX', 0, ['LA', 'VW']),\n",
       " ('RK', 0, ['BX', 'LW']),\n",
       " ('YC', 22, ['FQ', 'QA']),\n",
       " ('KH', 0, ['HD', 'LT']),\n",
       " ('ZE', 0, ['HJ', 'SX']),\n",
       " ('BX', 0, ['KE', 'RK']),\n",
       " ('VS', 24, ['UP']),\n",
       " ('SX', 16, ['IZ', 'ZE', 'LV']),\n",
       " ('RV', 0, ['LT', 'DO']),\n",
       " ('UP', 0, ['VS', 'LW']),\n",
       " ('EP', 0, ['AA', 'AU']),\n",
       " ('VO', 0, ['KE', 'HC']),\n",
       " ('HC', 0, ['AA', 'VO']),\n",
       " ('TE', 0, ['LA', 'MW']),\n",
       " ('LW', 19, ['UP', 'OZ', 'LC', 'VN', 'RK']),\n",
       " ('SG', 0, ['OY', 'LT']),\n",
       " ('BT', 0, ['KS', 'LU']),\n",
       " ('DE', 0, ['LA', 'UJ']),\n",
       " ('BS', 0, ['EK', 'XD']),\n",
       " ('VX', 0, ['OU', 'XD']),\n",
       " ('TK', 0, ['VN', 'FW']),\n",
       " ('HQ', 14, ['LV']),\n",
       " ('LU', 20, ['CZ', 'IZ', 'AJ', 'BT', 'CD']),\n",
       " ('LA', 7, ['OY', 'XX', 'TE', 'DE', 'AU']),\n",
       " ('VW', 0, ['XD', 'XX']),\n",
       " ('LV', 0, ['SX', 'HQ']),\n",
       " ('XY', 0, ['XD', 'HZ']),\n",
       " ('OY', 0, ['SG', 'LA']),\n",
       " ('KE', 12, ['VO', 'EK', 'WG', 'AI', 'BX']),\n",
       " ('AU', 0, ['LA', 'EP']),\n",
       " ('QA', 0, ['YC', 'KS']),\n",
       " ('FU', 0, ['AA', 'FW'])]"
      ]
     },
     "execution_count": 169,
     "metadata": {},
     "output_type": "execute_result"
    }
   ],
   "source": [
    "valves_lst"
   ]
  },
  {
   "cell_type": "code",
   "execution_count": 170,
   "metadata": {},
   "outputs": [],
   "source": [
    "# solve\n",
    "from collections import defaultdict\n",
    "valve_map = defaultdict(dict)\n",
    "zero_flow = [src for src, flow, dest in valves_lst if flow == 0]\n",
    "non_zero_flow = dict(sorted({src:flow for src, flow, dest in valves_lst if flow != 0}.items()))\n",
    "non_zero_index = {src: i for i, src in enumerate(non_zero_flow.keys())}\n",
    "non_zero_index_f = {x:y for y,x in non_zero_index.items()}\n",
    "all_flow = dict(sorted({src:flow for src, flow, dest in valves_lst}.items()))\n",
    "\n",
    "for src, flow, dest in valves_lst:\n",
    "    tmp_dict = {}\n",
    "    for d in dest:\n",
    "        tmp_dict[d] = 1\n",
    "    valve_map[src] = tmp_dict\n",
    "\n",
    "sorted_valve_map = dict(sorted(valve_map.items()))\n",
    "index_valve_map = {key:i for i, key in enumerate(sorted_valve_map.keys())}\n",
    "index_valve_map_rev = {i: key for key, i in index_valve_map.items()}\n",
    "\n",
    "valve_mat = initialise_grid(sorted_valve_map, index_valve_map)\n",
    "valve_mat = floyd_warshall(valve_mat)\n",
    "\n",
    "valve_mat_tmp = []\n",
    "routes_AA = []\n",
    "\n",
    "for i, valve in enumerate(all_flow.keys()):\n",
    "    if valve != 'AA' and valve in zero_flow:\n",
    "        continue\n",
    "    tmp_lst = [valve_mat[i][j] for j, x in enumerate(all_flow.values()) if x != 0]\n",
    "    if valve == 'AA':\n",
    "        routes_AA = tmp_lst\n",
    "    else: valve_mat_tmp.append(tmp_lst)\n",
    "valve_mat = valve_mat_tmp"
   ]
  },
  {
   "cell_type": "code",
   "execution_count": 171,
   "metadata": {},
   "outputs": [
    {
     "data": {
      "text/plain": [
       "[5, 2, 6, 9, 3, 7, 3, 3, 5, 5, 7, 7, 7, 3, 8]"
      ]
     },
     "execution_count": 171,
     "metadata": {},
     "output_type": "execute_result"
    }
   ],
   "source": [
    "routes_AA"
   ]
  },
  {
   "cell_type": "code",
   "execution_count": 172,
   "metadata": {},
   "outputs": [
    {
     "data": {
      "text/plain": [
       "{'FE': 0,\n",
       " 'FW': 1,\n",
       " 'HJ': 2,\n",
       " 'HQ': 3,\n",
       " 'KE': 4,\n",
       " 'KS': 5,\n",
       " 'LA': 6,\n",
       " 'LT': 7,\n",
       " 'LU': 8,\n",
       " 'LW': 9,\n",
       " 'SX': 10,\n",
       " 'VS': 11,\n",
       " 'WX': 12,\n",
       " 'XD': 13,\n",
       " 'YC': 14}"
      ]
     },
     "execution_count": 172,
     "metadata": {},
     "output_type": "execute_result"
    }
   ],
   "source": [
    "non_zero_index"
   ]
  },
  {
   "cell_type": "code",
   "execution_count": 173,
   "metadata": {},
   "outputs": [
    {
     "data": {
      "text/plain": [
       "[[0, 4, 9, 11, 2, 9, 7, 7, 7, 2, 9, 4, 2, 5, 10],\n",
       " [4, 0, 6, 10, 2, 9, 3, 3, 7, 3, 8, 5, 6, 5, 10],\n",
       " [9, 6, 0, 4, 7, 4, 3, 3, 2, 9, 2, 11, 11, 4, 5],\n",
       " [11, 10, 4, 0, 9, 6, 7, 7, 4, 12, 2, 14, 13, 6, 7],\n",
       " [2, 2, 7, 9, 0, 7, 5, 5, 5, 3, 7, 5, 4, 3, 8],\n",
       " [9, 9, 4, 6, 7, 0, 7, 7, 2, 10, 4, 12, 11, 4, 2],\n",
       " [7, 3, 3, 7, 5, 7, 0, 3, 5, 6, 5, 8, 9, 3, 8],\n",
       " [7, 3, 3, 7, 5, 7, 3, 0, 5, 6, 5, 8, 9, 3, 8],\n",
       " [7, 7, 2, 4, 5, 2, 5, 5, 0, 8, 2, 10, 9, 2, 3],\n",
       " [2, 3, 9, 12, 3, 10, 6, 6, 8, 0, 10, 2, 3, 6, 11],\n",
       " [9, 8, 2, 2, 7, 4, 5, 5, 2, 10, 0, 12, 11, 4, 5],\n",
       " [4, 5, 11, 14, 5, 12, 8, 8, 10, 2, 12, 0, 5, 8, 13],\n",
       " [2, 6, 11, 13, 4, 11, 9, 9, 9, 3, 11, 5, 0, 7, 12],\n",
       " [5, 5, 4, 6, 3, 4, 3, 3, 2, 6, 4, 8, 7, 0, 5],\n",
       " [10, 10, 5, 7, 8, 2, 8, 8, 3, 11, 5, 13, 12, 5, 0]]"
      ]
     },
     "execution_count": 173,
     "metadata": {},
     "output_type": "execute_result"
    }
   ],
   "source": [
    "valve_mat"
   ]
  },
  {
   "cell_type": "code",
   "execution_count": 174,
   "metadata": {},
   "outputs": [],
   "source": [
    "# basically DFS\n",
    "def traverse(v_current, p_released, p_rate, v_visited: set, min_remainder):\n",
    "    # base case\n",
    "    if len(v_visited) >= len(non_zero_flow):\n",
    "        # print(v_current, p_released, p_rate, v_visited, min_remainder)\n",
    "        return p_released + (p_rate * min_remainder)\n",
    "    max_p_released = 0\n",
    "    # -1 = 'AA'\n",
    "    if v_current == -1:\n",
    "        for valve_i, min_steps in enumerate(routes_AA):\n",
    "            # assume that time won't run out after visiting one area\n",
    "            pressure = list(non_zero_flow.values())[valve_i]\n",
    "            upt_p_rate = p_rate + pressure\n",
    "            # +2 instead of +1 to skip 1 step, initially +1, but additionally counted 1 day\n",
    "            step_n_open = min_steps + 1\n",
    "            v_visited.add(valve_i)\n",
    "            max_p_released = max(max_p_released, traverse(valve_i, 0, upt_p_rate, v_visited.copy(), min_remainder - step_n_open))\n",
    "            # need to remove, something like sudoku lol?\n",
    "            v_visited.remove(valve_i)\n",
    "        return max_p_released\n",
    "    else:\n",
    "        for valve_i, min_steps in enumerate(valve_mat[v_current]):\n",
    "            # skip instances where the valve is referencing itself \n",
    "            # need to add checks to make sure not visiting same place\n",
    "            if v_current == valve_i or valve_i in v_visited:\n",
    "                continue\n",
    "            step_n_open = min_steps + 1\n",
    "            # previously it's only - max_p_released = p_released + (p_rate * min_remainder)\n",
    "            if (min_remainder - step_n_open) <= 0:\n",
    "                max_p_released = max(max_p_released, p_released + (p_rate * min_remainder))\n",
    "                continue\n",
    "            # assume open\n",
    "            pressure = list(non_zero_flow.values())[valve_i]\n",
    "            upt_p_rate = p_rate + pressure\n",
    "            # changed from p_released to tmp_p_released, I was constantly updating the global variable in every single loop\n",
    "            tmp_p_released = p_released + (p_rate * step_n_open)\n",
    "            v_visited.add(valve_i)\n",
    "            # previously don't know why tmp_p_released + pressure\n",
    "            max_p_released = max(max_p_released, traverse(valve_i, tmp_p_released, upt_p_rate, v_visited.copy(), min_remainder - step_n_open))\n",
    "            v_visited.remove(valve_i)\n",
    "\n",
    "        return max_p_released\n",
    "    print('Does anything reach here')"
   ]
  },
  {
   "cell_type": "code",
   "execution_count": 175,
   "metadata": {},
   "outputs": [
    {
     "data": {
      "text/plain": [
       "{'FE': 17,\n",
       " 'FW': 8,\n",
       " 'HJ': 11,\n",
       " 'HQ': 14,\n",
       " 'KE': 12,\n",
       " 'KS': 25,\n",
       " 'LA': 7,\n",
       " 'LT': 5,\n",
       " 'LU': 20,\n",
       " 'LW': 19,\n",
       " 'SX': 16,\n",
       " 'VS': 24,\n",
       " 'WX': 15,\n",
       " 'XD': 10,\n",
       " 'YC': 22}"
      ]
     },
     "execution_count": 175,
     "metadata": {},
     "output_type": "execute_result"
    }
   ],
   "source": [
    "non_zero_flow"
   ]
  },
  {
   "cell_type": "code",
   "execution_count": 176,
   "metadata": {},
   "outputs": [
    {
     "data": {
      "text/plain": [
       "[[0, 4, 9, 11, 2, 9, 7, 7, 7, 2, 9, 4, 2, 5, 10],\n",
       " [4, 0, 6, 10, 2, 9, 3, 3, 7, 3, 8, 5, 6, 5, 10],\n",
       " [9, 6, 0, 4, 7, 4, 3, 3, 2, 9, 2, 11, 11, 4, 5],\n",
       " [11, 10, 4, 0, 9, 6, 7, 7, 4, 12, 2, 14, 13, 6, 7],\n",
       " [2, 2, 7, 9, 0, 7, 5, 5, 5, 3, 7, 5, 4, 3, 8],\n",
       " [9, 9, 4, 6, 7, 0, 7, 7, 2, 10, 4, 12, 11, 4, 2],\n",
       " [7, 3, 3, 7, 5, 7, 0, 3, 5, 6, 5, 8, 9, 3, 8],\n",
       " [7, 3, 3, 7, 5, 7, 3, 0, 5, 6, 5, 8, 9, 3, 8],\n",
       " [7, 7, 2, 4, 5, 2, 5, 5, 0, 8, 2, 10, 9, 2, 3],\n",
       " [2, 3, 9, 12, 3, 10, 6, 6, 8, 0, 10, 2, 3, 6, 11],\n",
       " [9, 8, 2, 2, 7, 4, 5, 5, 2, 10, 0, 12, 11, 4, 5],\n",
       " [4, 5, 11, 14, 5, 12, 8, 8, 10, 2, 12, 0, 5, 8, 13],\n",
       " [2, 6, 11, 13, 4, 11, 9, 9, 9, 3, 11, 5, 0, 7, 12],\n",
       " [5, 5, 4, 6, 3, 4, 3, 3, 2, 6, 4, 8, 7, 0, 5],\n",
       " [10, 10, 5, 7, 8, 2, 8, 8, 3, 11, 5, 13, 12, 5, 0]]"
      ]
     },
     "execution_count": 176,
     "metadata": {},
     "output_type": "execute_result"
    }
   ],
   "source": [
    "valve_mat"
   ]
  },
  {
   "cell_type": "code",
   "execution_count": 177,
   "metadata": {},
   "outputs": [
    {
     "data": {
      "text/plain": [
       "1915"
      ]
     },
     "execution_count": 177,
     "metadata": {},
     "output_type": "execute_result"
    }
   ],
   "source": [
    "traverse(-1, 0, 0, set(), 30)"
   ]
  },
  {
   "cell_type": "code",
   "execution_count": 178,
   "metadata": {},
   "outputs": [],
   "source": [
    "def get_pressure(i):\n",
    "    return list(non_zero_flow.values())[i]\n",
    "\n",
    "half_released = 0\n",
    "\n",
    "# per minute\n",
    "def traverse2(v1_current, v1_wait, v2_current, v2_wait,\n",
    "    p_released, p_rate, v_visited: set, min_remainder, max_=26):\n",
    "    # print(v1_current, v1_wait, v2_current, v2_wait, p_released, p_rate, v_visited, min_remainder)\n",
    "\n",
    "    # if len(v_visited) >= len(non_zero_flow) or min_remainder <= 0:\n",
    "    if min_remainder <= 0:\n",
    "        # print(v1_current, v1_wait, v2_current, v2_wait, p_released, p_rate, v_visited, min_remainder)\n",
    "        return p_released + (p_rate * min_remainder)\n",
    "\n",
    "    global half_released\n",
    "    if min_remainder == max_ // 26:\n",
    "        if p_released < half_released:\n",
    "            return p_released + (p_rate * min_remainder)\n",
    "        else:\n",
    "            half_released = p_released\n",
    "    \n",
    "    p_released += p_rate\n",
    "    min_remainder -= 1\n",
    "    max_p_released = 0\n",
    "\n",
    "    if v1_wait != 0:\n",
    "        v1_wait -= 1\n",
    "        if v1_wait == 0:\n",
    "            p_rate += get_pressure(v1_current)\n",
    "            v_visited.add(v1_current)\n",
    "    if v2_wait != 0: \n",
    "        v2_wait -= 1\n",
    "        if v2_wait == 0:\n",
    "            p_rate += get_pressure(v2_current)\n",
    "            v_visited.add(v2_current)\n",
    "\n",
    "    if v1_current and v2_current == -1:\n",
    "        print('is this executed again')\n",
    "        for valve_1, min_steps1 in enumerate(routes_AA):\n",
    "            for valve_2, min_steps2 in enumerate(routes_AA):\n",
    "                # skip if 2nd choice is found in choice 1\n",
    "                if valve_2 == valve_1:\n",
    "                    continue\n",
    "                # previously accidentally put max_p_released in traverse2 instead of p_released, \n",
    "                #   this made my pressure released to constantly increase\n",
    "                res = traverse2(valve_1, min_steps1 + 1,\\\n",
    "                    valve_2, min_steps2 + 1, p_released, p_rate, v_visited.copy(), min_remainder)\n",
    "                max_p_released = max(max_p_released, res)\n",
    "        return max_p_released\n",
    "    else:\n",
    "        action_grid = []\n",
    "        # union produces a new set\n",
    "        if (v1_wait and v2_wait) or (len(v_visited.union(set([v1_current, v2_current]))) >= len(non_zero_flow)):\n",
    "            # print('is this triggered')\n",
    "            action_grid.append((v1_current, v1_wait, v2_current, v2_wait, p_released, p_rate, v_visited.copy(), min_remainder))\n",
    "        elif v1_wait == 0 and v2_wait != 0:\n",
    "            for valve, min_steps in enumerate(valve_mat[v1_current]):\n",
    "                if valve in v_visited or valve == v2_current:\n",
    "                    continue\n",
    "                # print(v1_wait, v2_wait, p_rate, v_visited)\n",
    "                action_grid.append((valve, min_steps + 1, v2_current, v2_wait, p_released, p_rate, v_visited.copy(), min_remainder))\n",
    "        elif v1_wait != 0 and v2_wait == 0:\n",
    "            for valve, min_steps in enumerate(valve_mat[v2_current]):\n",
    "                \n",
    "                if valve in v_visited or valve == v1_current:\n",
    "                    continue\n",
    "                action_grid.append((v1_current, v1_wait, valve, min_steps + 1, p_released, p_rate, v_visited.copy(), min_remainder))\n",
    "        else:\n",
    "            for valve_1, min_steps1 in enumerate(valve_mat[v1_current]):\n",
    "                if valve_1 in v_visited:\n",
    "                    continue\n",
    "                for valve_2, min_steps2 in enumerate(valve_mat[v2_current]):\n",
    "                    if valve_2 in v_visited or valve_2 == valve_1:\n",
    "                        continue\n",
    "                    action_grid.append((valve_1, min_steps1 + 1, valve_2, min_steps2 + 1, p_released, p_rate, v_visited.copy(), min_remainder))\n",
    "        for action in action_grid:\n",
    "            res = traverse2(*action)\n",
    "            max_p_released = max(max_p_released, res)\n",
    "\n",
    "    return max_p_released\n",
    "    "
   ]
  },
  {
   "cell_type": "code",
   "execution_count": 179,
   "metadata": {},
   "outputs": [
    {
     "name": "stdout",
     "output_type": "stream",
     "text": [
      "is this executed again\n"
     ]
    },
    {
     "data": {
      "text/plain": [
       "2772"
      ]
     },
     "execution_count": 179,
     "metadata": {},
     "output_type": "execute_result"
    }
   ],
   "source": [
    "traverse2(-1, 0, -1, 0, 0, 0, set(), 26 + 1)"
   ]
  },
  {
   "cell_type": "code",
   "execution_count": 180,
   "metadata": {},
   "outputs": [
    {
     "data": {
      "text/plain": [
       "defaultdict(dict,\n",
       "            {'VN': {'LW': 1, 'TK': 1},\n",
       "             'FQ': {'AJ': 1, 'YC': 1},\n",
       "             'DO': {'RV': 1, 'HJ': 1},\n",
       "             'MW': {'TE': 1, 'HJ': 1},\n",
       "             'LT': {'KO': 1, 'SG': 1, 'KH': 1, 'HZ': 1, 'RV': 1},\n",
       "             'UJ': {'FW': 1, 'DE': 1},\n",
       "             'IZ': {'LU': 1, 'SX': 1},\n",
       "             'FE': {'WG': 1, 'WI': 1, 'LC': 1},\n",
       "             'KS': {'QA': 1, 'BT': 1},\n",
       "             'HJ': {'MW': 1, 'CZ': 1, 'ZE': 1, 'DO': 1},\n",
       "             'WI': {'WX': 1, 'FE': 1},\n",
       "             'EK': {'KE': 1, 'BS': 1},\n",
       "             'HD': {'KH': 1, 'FW': 1},\n",
       "             'HZ': {'XY': 1, 'LT': 1},\n",
       "             'CD': {'XD': 1, 'LU': 1},\n",
       "             'OZ': {'GX': 1, 'LW': 1},\n",
       "             'AA': {'EP': 1, 'FU': 1, 'DV': 1, 'OU': 1, 'HC': 1},\n",
       "             'OU': {'VX': 1, 'AA': 1},\n",
       "             'XD': {'VX': 1, 'VW': 1, 'BS': 1, 'XY': 1, 'CD': 1},\n",
       "             'AI': {'KE': 1, 'FW': 1},\n",
       "             'GX': {'OZ': 1, 'WX': 1},\n",
       "             'FW': {'AI': 1, 'FU': 1, 'UJ': 1, 'TK': 1, 'HD': 1},\n",
       "             'KO': {'DV': 1, 'LT': 1},\n",
       "             'DV': {'KO': 1, 'AA': 1},\n",
       "             'CZ': {'LU': 1, 'HJ': 1},\n",
       "             'WG': {'KE': 1, 'FE': 1},\n",
       "             'WX': {'WI': 1, 'GX': 1},\n",
       "             'AJ': {'FQ': 1, 'LU': 1},\n",
       "             'LC': {'LW': 1, 'FE': 1},\n",
       "             'XX': {'LA': 1, 'VW': 1},\n",
       "             'RK': {'BX': 1, 'LW': 1},\n",
       "             'YC': {'FQ': 1, 'QA': 1},\n",
       "             'KH': {'HD': 1, 'LT': 1},\n",
       "             'ZE': {'HJ': 1, 'SX': 1},\n",
       "             'BX': {'KE': 1, 'RK': 1},\n",
       "             'VS': {'UP': 1},\n",
       "             'SX': {'IZ': 1, 'ZE': 1, 'LV': 1},\n",
       "             'RV': {'LT': 1, 'DO': 1},\n",
       "             'UP': {'VS': 1, 'LW': 1},\n",
       "             'EP': {'AA': 1, 'AU': 1},\n",
       "             'VO': {'KE': 1, 'HC': 1},\n",
       "             'HC': {'AA': 1, 'VO': 1},\n",
       "             'TE': {'LA': 1, 'MW': 1},\n",
       "             'LW': {'UP': 1, 'OZ': 1, 'LC': 1, 'VN': 1, 'RK': 1},\n",
       "             'SG': {'OY': 1, 'LT': 1},\n",
       "             'BT': {'KS': 1, 'LU': 1},\n",
       "             'DE': {'LA': 1, 'UJ': 1},\n",
       "             'BS': {'EK': 1, 'XD': 1},\n",
       "             'VX': {'OU': 1, 'XD': 1},\n",
       "             'TK': {'VN': 1, 'FW': 1},\n",
       "             'HQ': {'LV': 1},\n",
       "             'LU': {'CZ': 1, 'IZ': 1, 'AJ': 1, 'BT': 1, 'CD': 1},\n",
       "             'LA': {'OY': 1, 'XX': 1, 'TE': 1, 'DE': 1, 'AU': 1},\n",
       "             'VW': {'XD': 1, 'XX': 1},\n",
       "             'LV': {'SX': 1, 'HQ': 1},\n",
       "             'XY': {'XD': 1, 'HZ': 1},\n",
       "             'OY': {'SG': 1, 'LA': 1},\n",
       "             'KE': {'VO': 1, 'EK': 1, 'WG': 1, 'AI': 1, 'BX': 1},\n",
       "             'AU': {'LA': 1, 'EP': 1},\n",
       "             'QA': {'YC': 1, 'KS': 1},\n",
       "             'FU': {'AA': 1, 'FW': 1}})"
      ]
     },
     "execution_count": 180,
     "metadata": {},
     "output_type": "execute_result"
    }
   ],
   "source": [
    "valve_map"
   ]
  },
  {
   "cell_type": "code",
   "execution_count": null,
   "metadata": {},
   "outputs": [],
   "source": []
  }
 ],
 "metadata": {
  "kernelspec": {
   "display_name": "Python 3",
   "language": "python",
   "name": "python3"
  },
  "language_info": {
   "codemirror_mode": {
    "name": "ipython",
    "version": 3
   },
   "file_extension": ".py",
   "mimetype": "text/x-python",
   "name": "python",
   "nbconvert_exporter": "python",
   "pygments_lexer": "ipython3",
   "version": "3.8.2 (tags/v3.8.2:7b3ab59, Feb 25 2020, 23:03:10) [MSC v.1916 64 bit (AMD64)]"
  },
  "orig_nbformat": 4,
  "vscode": {
   "interpreter": {
    "hash": "570feb405e2e27c949193ac68f46852414290d515b0ba6e5d90d076ed2284471"
   }
  }
 },
 "nbformat": 4,
 "nbformat_minor": 2
}
