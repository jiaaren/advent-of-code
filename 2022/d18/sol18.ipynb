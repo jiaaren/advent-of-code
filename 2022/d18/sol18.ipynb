{
 "cells": [
  {
   "cell_type": "code",
   "execution_count": 149,
   "metadata": {},
   "outputs": [
    {
     "data": {
      "text/plain": [
       "4310"
      ]
     },
     "execution_count": 149,
     "metadata": {},
     "output_type": "execute_result"
    }
   ],
   "source": [
    "from collections import defaultdict\n",
    "\n",
    "with open('input.txt') as f:\n",
    "    file = f.read()\n",
    "droplets = []\n",
    "for coor in file.split('\\n'):\n",
    "    coor = [int(c) for c in coor.split(',')]\n",
    "    droplets.append(tuple(coor))\n",
    "\n",
    "coor_mvmt = [(-1, 0, 0), (1, 0, 0), (0, -1, 0), (0, 1, 0), (0, 0, -1), (0, 0, 1)]\n",
    "\n",
    "droplets_dict = defaultdict(int)\n",
    "for coor in droplets:\n",
    "    droplets_dict[(coor)] = 6\n",
    "    x, y, z = coor\n",
    "    for x_mvmt, y_mvmt, z_mvmt in coor_mvmt:\n",
    "        coor_tocheck = (x + x_mvmt, y + y_mvmt, z + z_mvmt)\n",
    "        # check if all values in coor to be check is more than zero\n",
    "        # also check if coor is in droplets_dict\n",
    "        if not all(i >= 0 for i in coor_tocheck) or coor_tocheck not in droplets_dict:\n",
    "            continue\n",
    "        droplets_dict[coor] -= 1\n",
    "        droplets_dict[coor_tocheck] -= 1\n",
    "\n",
    "sum(droplets_dict.values())"
   ]
  },
  {
   "cell_type": "code",
   "execution_count": 150,
   "metadata": {},
   "outputs": [
    {
     "data": {
      "text/plain": [
       "False"
      ]
     },
     "execution_count": 150,
     "metadata": {},
     "output_type": "execute_result"
    }
   ],
   "source": [
    "# https://stackoverflow.com/questions/20229822/check-if-all-values-in-list-are-greater-than-a-certain-number\n",
    "all(i > 0 for i in (-1, 0, 0))"
   ]
  },
  {
   "cell_type": "code",
   "execution_count": 151,
   "metadata": {},
   "outputs": [],
   "source": [
    "def find_group(droplet, droplets_dict, group_lst):\n",
    "    # droplet is in the form of a tuple of (x, y, z)\n",
    "    x, y, z = droplet\n",
    "    for x_mvmt, y_mvmt, z_mvmt in coor_mvmt:\n",
    "        coor_tocheck = (x + x_mvmt, y + y_mvmt, z + z_mvmt)\n",
    "        # check if droplet is already in the group list\n",
    "        if not all(i >= 0 for i in coor_tocheck) or \\\n",
    "            coor_tocheck in group_lst or coor_tocheck not in droplets_dict:\n",
    "            continue\n",
    "        group_lst.append(coor_tocheck)\n",
    "        find_group(coor_tocheck, droplets_dict, group_lst)\n",
    "\n",
    "\n",
    "d = (2, 2, 2)\n",
    "l_d = [d]\n",
    "find_group(d, droplets_dict, l_d)"
   ]
  },
  {
   "cell_type": "code",
   "execution_count": 152,
   "metadata": {},
   "outputs": [
    {
     "data": {
      "text/plain": [
       "[(2, 2, 2)]"
      ]
     },
     "execution_count": 152,
     "metadata": {},
     "output_type": "execute_result"
    }
   ],
   "source": [
    "l_d"
   ]
  },
  {
   "cell_type": "code",
   "execution_count": null,
   "metadata": {},
   "outputs": [],
   "source": []
  },
  {
   "cell_type": "code",
   "execution_count": 153,
   "metadata": {},
   "outputs": [],
   "source": [
    "# part 2\n",
    "# identify how many groups are there based on the current number of droplets\n",
    "# actually this step is kinda useless?\n",
    "checked_droplet = []\n",
    "droplet_groups = []\n",
    "\n",
    "for droplet in droplets:\n",
    "    if droplet not in checked_droplet:\n",
    "        d_lst = [droplet]\n",
    "        find_group(droplet, droplets_dict, d_lst)\n",
    "        checked_droplet.extend(d_lst)\n",
    "        droplet_groups.append(d_lst)\n",
    "\n",
    "\n",
    "# for each group, identify missing pockets, by calculating the min and max, or basically  coor_tocheck which are not in droplets_dict\n",
    "# non_droplets do not cover all the non_droplets in entirety, we just need a catalyst to start the recursion process\n",
    "non_droplets = []\n",
    "for coor in droplets:\n",
    "    x, y, z = coor\n",
    "    for x_mvmt, y_mvmt, z_mvmt in coor_mvmt:\n",
    "        coor_tocheck = (x + x_mvmt, y + y_mvmt, z + z_mvmt)\n",
    "        if not all(i >= 0 for i in coor_tocheck):\n",
    "            continue\n",
    "        if coor_tocheck not in droplets_dict:\n",
    "            non_droplets.append(coor_tocheck)\n",
    "\n",
    "x_non_coor = [i[0] for i in non_droplets]\n",
    "y_non_coor = [i[1] for i in non_droplets]\n",
    "z_non_coor = [i[2] for i in non_droplets]\n",
    "\n",
    "x_non_max, x_non_min = max(x_non_coor), min(x_non_coor)\n",
    "y_non_max, y_non_min = max(y_non_coor), min(y_non_coor)\n",
    "z_non_max, z_non_min = max(z_non_coor), min(z_non_coor)\n",
    "\n",
    "# find groups of missing pockets\n",
    "def find_non_group(droplet, droplets_dict, group_lst, droplet_const, droplet_i):\n",
    "    if droplet_i >= droplet_const:\n",
    "        return False\n",
    "    # droplet is in the form of a tuple of (x, y, z)\n",
    "    x, y, z = droplet\n",
    "    # conclude if missing pockets reside on the edge\n",
    "    # if not on the edge, then it relates to an internal droplet\n",
    "    if x >= x_non_max or x <= x_non_min or y >= y_non_max or y <= y_non_min or z >= z_non_max or z <= z_non_min:\n",
    "        return False\n",
    "\n",
    "    for x_mvmt, y_mvmt, z_mvmt in coor_mvmt:\n",
    "        coor_tocheck = (x + x_mvmt, y + y_mvmt, z + z_mvmt)\n",
    "        # check if droplet is already in the group list\n",
    "        if not all(i >= 0 for i in coor_tocheck) or \\\n",
    "            coor_tocheck in group_lst or coor_tocheck in droplets_dict:\n",
    "            continue\n",
    "        group_lst.append(coor_tocheck)\n",
    "        if not find_non_group(coor_tocheck, droplets_dict, group_lst, droplet_const, droplet_i + 1):\n",
    "            return False\n",
    "    return True\n",
    "\n",
    "checked_empty = []\n",
    "empty_groups = []\n",
    "\n",
    "for empty in non_droplets:\n",
    "    if empty not in checked_empty:\n",
    "        d_lst = [empty]\n",
    "        # droplets_dict refers to valid droplets\n",
    "        res = find_non_group(empty, droplets_dict, d_lst, len(droplets), 1)\n",
    "        # even if res==False, extend anyway to reduce number of function calls if empty is not in checked empty\n",
    "        checked_empty.extend(d_lst)\n",
    "        if res:\n",
    "            empty_groups.append(d_lst)\n"
   ]
  },
  {
   "cell_type": "code",
   "execution_count": 154,
   "metadata": {},
   "outputs": [],
   "source": [
    "# basically same function as part 1\n",
    "def get_surface_area(droplets_group):\n",
    "    coor_mvmt = [(-1, 0, 0), (1, 0, 0), (0, -1, 0), (0, 1, 0), (0, 0, -1), (0, 0, 1)]\n",
    "    droplets_dict = defaultdict(int)\n",
    "    for coor in droplets_group:\n",
    "        droplets_dict[(coor)] = 6\n",
    "        x, y, z = coor\n",
    "        for x_mvmt, y_mvmt, z_mvmt in coor_mvmt:\n",
    "            coor_tocheck = (x + x_mvmt, y + y_mvmt, z + z_mvmt)\n",
    "            # check if all values in coor to be check is more than zero\n",
    "            # also check if coor is in droplets_dict\n",
    "            if not all(i >= 0 for i in coor_tocheck) or coor_tocheck not in droplets_dict:\n",
    "                continue\n",
    "            droplets_dict[coor] -= 1\n",
    "            droplets_dict[coor_tocheck] -= 1\n",
    "    return sum(droplets_dict.values())"
   ]
  },
  {
   "cell_type": "code",
   "execution_count": 155,
   "metadata": {},
   "outputs": [
    {
     "name": "stdout",
     "output_type": "stream",
     "text": [
      "1844\n",
      "2466\n"
     ]
    }
   ],
   "source": [
    "sum_l = []\n",
    "for group in empty_groups:\n",
    "    sum_l.append(get_surface_area(group))\n",
    "print(sum(sum_l))\n",
    "print(get_surface_area(droplets) - sum(sum_l))"
   ]
  },
  {
   "cell_type": "code",
   "execution_count": null,
   "metadata": {},
   "outputs": [],
   "source": []
  },
  {
   "cell_type": "code",
   "execution_count": null,
   "metadata": {},
   "outputs": [],
   "source": []
  },
  {
   "cell_type": "code",
   "execution_count": 107,
   "metadata": {},
   "outputs": [
    {
     "data": {
      "text/plain": [
       "False"
      ]
     },
     "execution_count": 107,
     "metadata": {},
     "output_type": "execute_result"
    }
   ],
   "source": [
    "# testing\n",
    "def find_non_group(droplet, droplets_dict, group_lst, droplet_const, droplet_i):\n",
    "    if droplet_i >= droplet_const:\n",
    "        return False\n",
    "    # droplet is in the form of a tuple of (x, y, z)\n",
    "    x, y, z = droplet\n",
    "    if x >= x_non_max or x <= x_non_min or y >= y_non_max or y <= y_non_min or z >= z_non_max or z <= z_non_min:\n",
    "        return False\n",
    "\n",
    "    for x_mvmt, y_mvmt, z_mvmt in coor_mvmt:\n",
    "        coor_tocheck = (x + x_mvmt, y + y_mvmt, z + z_mvmt)\n",
    "        # check if droplet is already in the group list\n",
    "        if not all(i >= 0 for i in coor_tocheck) or \\\n",
    "            coor_tocheck in group_lst or coor_tocheck in droplets_dict:\n",
    "            continue\n",
    "        group_lst.append(coor_tocheck)\n",
    "        if not find_non_group(coor_tocheck, droplets_dict, group_lst, droplet_const, droplet_i + 1):\n",
    "            return False\n",
    "    return True\n",
    "\n",
    "d = (2, 2, 4)\n",
    "l_ng = [d]\n",
    "find_non_group(d, droplets_dict, l_ng, len(droplets), 1)"
   ]
  },
  {
   "cell_type": "code",
   "execution_count": 108,
   "metadata": {},
   "outputs": [
    {
     "data": {
      "text/plain": [
       "[(2, 2, 4), (1, 2, 4), (0, 2, 4)]"
      ]
     },
     "execution_count": 108,
     "metadata": {},
     "output_type": "execute_result"
    }
   ],
   "source": [
    "l_ng"
   ]
  },
  {
   "cell_type": "code",
   "execution_count": null,
   "metadata": {},
   "outputs": [],
   "source": []
  }
 ],
 "metadata": {
  "kernelspec": {
   "display_name": "Python 3",
   "language": "python",
   "name": "python3"
  },
  "language_info": {
   "codemirror_mode": {
    "name": "ipython",
    "version": 3
   },
   "file_extension": ".py",
   "mimetype": "text/x-python",
   "name": "python",
   "nbconvert_exporter": "python",
   "pygments_lexer": "ipython3",
   "version": "3.8.2"
  },
  "orig_nbformat": 4,
  "vscode": {
   "interpreter": {
    "hash": "570feb405e2e27c949193ac68f46852414290d515b0ba6e5d90d076ed2284471"
   }
  }
 },
 "nbformat": 4,
 "nbformat_minor": 2
}
