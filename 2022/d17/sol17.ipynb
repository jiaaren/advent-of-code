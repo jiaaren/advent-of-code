{
 "cells": [
  {
   "cell_type": "code",
   "execution_count": 89,
   "metadata": {},
   "outputs": [],
   "source": [
    "from functools import reduce\n",
    "\n",
    "with open('input.txt') as f:\n",
    "    init_stream =  f.read()\n",
    "\n",
    "\n",
    "stream = init_stream * 1000\n",
    "\n",
    "pieces = [\n",
    "    [0b0011110],\n",
    "\n",
    "    [0b0001000,\n",
    "    0b0011100,\n",
    "    0b0001000],\n",
    "    \n",
    "    [0b0000100,\n",
    "    0b0000100,\n",
    "    0b0011100],\n",
    "    \n",
    "    [0b0010000,\n",
    "    0b0010000,\n",
    "    0b0010000,\n",
    "    0b0010000],\n",
    "    \n",
    "    [0b0011000,\n",
    "    0b0011000]\n",
    "]\n",
    "\n",
    "tower = [0b1111111]\n",
    "\n",
    "def give_row_str(row):\n",
    "    return f'{row:07b}'\n",
    "\n",
    "def print_row(row):\n",
    "    print(give_row_str(row).replace('1', '#').replace('0', '.'))\n",
    "\n",
    "def print_piece(piece):\n",
    "    s = ''\n",
    "    for row in piece:\n",
    "        s += give_row_str(row) + '\\n'\n",
    "    print(s.replace('1', '#').replace('0', '.'), end='')\n",
    "\n",
    "def print_tower(tower=tower):\n",
    "    s = ''\n",
    "    for row in tower[::-1]:\n",
    "        s += give_row_str(row) + '\\n'\n",
    "    print(s.replace('1', '#').replace('0', '.'), end='')\n",
    "\n",
    "# https://www.geeksforgeeks.org/python-bitwise-or-among-list-elements/\n",
    "def check_right_edge(piece):\n",
    "    res = reduce(lambda x, y: x | y, piece)\n",
    "    return (res & 0b0000001) > 0\n",
    "\n",
    "def check_left_edge(piece):\n",
    "    res = reduce(lambda x, y: x | y, piece)\n",
    "    return (res & 0b1000000) > 0\n",
    "\n",
    "def get_drop_pos(piece, steps):\n",
    "    piece = piece.copy()\n",
    "    for step in steps:\n",
    "        if step == '>' and not check_right_edge(piece):\n",
    "            for i in range(len(piece)):\n",
    "                piece[i] = piece[i] >> 1\n",
    "        elif step == '<' and not check_left_edge(piece):\n",
    "            for i in range(len(piece)):\n",
    "                piece[i] = piece[i] << 1\n",
    "    return piece\n",
    "\n",
    "def compare_overlap(drop_piece, tower):\n",
    "    # drop piece and tower must have same number of rows\n",
    "    for x, y in zip(drop_piece, tower):\n",
    "        if x & y > 0:\n",
    "            return True\n",
    "    return False\n",
    "    # drop_piece_red = reduce(lambda x, y: x | y, drop_piece)\n",
    "    # tower_red = reduce(lambda x, y: x | y, tower)\n",
    "    # return (drop_piece_red | tower_red) > 0\n",
    "\n"
   ]
  },
  {
   "cell_type": "code",
   "execution_count": 66,
   "metadata": {},
   "outputs": [],
   "source": [
    "piece_i = 0\n",
    "stream_i = 0\n",
    "blocks = 0\n",
    "\n",
    "while True:\n",
    "    # get drop pos\n",
    "    blocks += 1\n",
    "    drop_piece = get_drop_pos(pieces[piece_i], stream[stream_i: stream_i + 4])\n",
    "\n",
    "    stream_i += 4\n",
    "    if len(tower) == 1:\n",
    "        tower.extend(drop_piece[::-1])\n",
    "\n",
    "    else:\n",
    "        pos = 0\n",
    "        while True:\n",
    "            drop_piece_l = len(drop_piece)\n",
    "            # simulate pos\n",
    "            sim_pos = pos - 1\n",
    "            # test down one, deep down would show how much of the piece is exposed\n",
    "            tmp_submerged = min(abs(sim_pos), drop_piece_l)\n",
    "            if abs(sim_pos) <= drop_piece_l:\n",
    "                overlap_down = compare_overlap(drop_piece[-tmp_submerged:], tower[-tmp_submerged:][::-1])\n",
    "            else:\n",
    "                overlap_down = compare_overlap(drop_piece[-tmp_submerged:], tower[sim_pos:sim_pos+tmp_submerged][::-1])\n",
    "                # print(overlap_down, pos, tmp_submerged, drop_piece_l)\n",
    "                # print_piece(drop_piece[-tmp_submerged:])\n",
    "                # # print_piece(tower[-tmp_submerged:][::-1])\n",
    "                # print()\n",
    "                # print_piece(tower[pos-1:pos-1+tmp_submerged][::-1])\n",
    "\n",
    "            if overlap_down:\n",
    "                break\n",
    "\n",
    "            pos -= 1\n",
    "            # added this here because i have been constantly using the prior tmp_piece...\n",
    "            tmp_piece = drop_piece\n",
    "            # shift left or right\n",
    "            if stream[stream_i] == '<':\n",
    "                if not check_left_edge(drop_piece):\n",
    "                    tmp_piece = [x << 1 for x in drop_piece]\n",
    "            elif stream[stream_i] == '>':\n",
    "                if not check_right_edge(drop_piece):\n",
    "                    tmp_piece = [x >> 1 for x in drop_piece]\n",
    "            stream_i += 1\n",
    "            if abs(pos) <= drop_piece_l:\n",
    "                overlap_hori = compare_overlap(tmp_piece[-tmp_submerged:], tower[-tmp_submerged:][::-1])\n",
    "            else:\n",
    "                overlap_hori = compare_overlap(tmp_piece[-tmp_submerged:], tower[pos:pos+tmp_submerged][::-1])\n",
    "            if overlap_hori:\n",
    "                # change from break to continue, even if cannot overlap, will not break here\n",
    "                continue\n",
    "            drop_piece = tmp_piece\n",
    "\n",
    "\n",
    "            # if move down, then increment pos and deep, deep has max val depending on the height of the piece\n",
    "        if pos == 0:\n",
    "            tower.extend(drop_piece[::-1])\n",
    "            # print_piece(drop_piece)\n",
    "            # print()\n",
    "        else:\n",
    "            submerged = min(abs(pos), drop_piece_l)\n",
    "            piece_deep = drop_piece[-submerged:]\n",
    "            piece_not_deep = drop_piece[:-submerged]\n",
    "\n",
    "            # find overlapping segment\n",
    "            # if pos + submerged == 0:\n",
    "            #     tower_deep = tower[pos:]\n",
    "            # else:\n",
    "            #     tower_deep = tower[pos:pos+submerged]\n",
    "            if abs(pos) <= drop_piece_l:\n",
    "                tower_deep = tower[-submerged:]\n",
    "            else:\n",
    "                tower_deep = tower[pos:pos+submerged]\n",
    "                # print('Hi')\n",
    "            \n",
    "            # print(pos, submerged)\n",
    "            # print_piece(tower_deep)\n",
    "            # print_piece(piece_deep)\n",
    "            # print_piece(piece_not_deep)\n",
    "\n",
    "            # print(submerged, piece_deep, piece_not_deep, tower_deep)\n",
    "            # somehow having piece_deep[::-1] makes algo work...\n",
    "\n",
    "            # had to change range to reversed, and tower_deep to tower_deep[::-1]\n",
    "            for i, pd, td in zip(reversed(range(pos, pos+submerged)), tower_deep[::-1], piece_deep):\n",
    "                # print_row(pd)\n",
    "                # print_row(td)\n",
    "                # print()\n",
    "                comb = pd | td\n",
    "\n",
    "                if pd & td:\n",
    "                    print(blocks, pd, td)\n",
    "                tower[i] = comb\n",
    "                \n",
    "            # append not deep piece\n",
    "            if piece_not_deep:\n",
    "                tower.extend(piece_not_deep[::-1])\n",
    "    piece_i = (piece_i + 1) % (len(pieces))\n",
    "\n",
    "    # if blocks == 38:\n",
    "    #     print_piece(drop_piece)\n",
    "    #     print()\n",
    "    #     print(pos, submerged)\n",
    "    #     print()\n",
    "    #     print_piece(tower_deep[::-1])\n",
    "    #     print()\n",
    "    #     print_piece(piece_deep)\n",
    "    #     print()\n",
    "    #     print_piece(piece_not_deep)\n",
    "    if blocks >= 2022:\n",
    "        break\n"
   ]
  },
  {
   "cell_type": "code",
   "execution_count": 67,
   "metadata": {},
   "outputs": [
    {
     "data": {
      "text/plain": [
       "3068"
      ]
     },
     "execution_count": 67,
     "metadata": {},
     "output_type": "execute_result"
    }
   ],
   "source": [
    "len(tower) - 1"
   ]
  },
  {
   "cell_type": "code",
   "execution_count": 62,
   "metadata": {},
   "outputs": [
    {
     "data": {
      "text/plain": [
       "40"
      ]
     },
     "execution_count": 62,
     "metadata": {},
     "output_type": "execute_result"
    }
   ],
   "source": [
    "len(init_stream)"
   ]
  },
  {
   "cell_type": "code",
   "execution_count": 90,
   "metadata": {},
   "outputs": [
    {
     "data": {
      "text/plain": [
       "15445"
      ]
     },
     "execution_count": 90,
     "metadata": {},
     "output_type": "execute_result"
    }
   ],
   "source": [
    "# part 2\n",
    "piece_i = 0\n",
    "stream_i = 0\n",
    "blocks = 0\n",
    "\n",
    "tower = [0b1111111]\n",
    "\n",
    "stream_used_5_blocks = []\n",
    "height_5_blocks = []\n",
    "\n",
    "while True:\n",
    "    blocks += 1\n",
    "    if blocks % 5 == 1:\n",
    "        start_stream_i = stream_i\n",
    "        start_height = len(tower)\n",
    "\n",
    "    # get drop pos\n",
    "    drop_piece = get_drop_pos(pieces[piece_i], stream[stream_i: stream_i + 4])\n",
    "\n",
    "    stream_i += 4\n",
    "    if len(tower) == 1:\n",
    "        tower.extend(drop_piece[::-1])\n",
    "    else:\n",
    "        pos = 0\n",
    "        while True:\n",
    "            drop_piece_l = len(drop_piece)\n",
    "            # simulate pos\n",
    "            sim_pos = pos - 1\n",
    "            # test down one, deep down would show how much of the piece is exposed\n",
    "            tmp_submerged = min(abs(sim_pos), drop_piece_l)\n",
    "            if abs(sim_pos) <= drop_piece_l:\n",
    "                overlap_down = compare_overlap(drop_piece[-tmp_submerged:], tower[-tmp_submerged:][::-1])\n",
    "            else:\n",
    "                overlap_down = compare_overlap(drop_piece[-tmp_submerged:], tower[sim_pos:sim_pos+tmp_submerged][::-1])\n",
    "            if overlap_down:\n",
    "                break\n",
    "\n",
    "            pos -= 1\n",
    "            # added this here because i have been constantly using the prior tmp_piece...\n",
    "            tmp_piece = drop_piece\n",
    "            # shift left or right\n",
    "            if stream[stream_i] == '<':\n",
    "                if not check_left_edge(drop_piece):\n",
    "                    tmp_piece = [x << 1 for x in drop_piece]\n",
    "            elif stream[stream_i] == '>':\n",
    "                if not check_right_edge(drop_piece):\n",
    "                    tmp_piece = [x >> 1 for x in drop_piece]\n",
    "            stream_i += 1\n",
    "            if abs(pos) <= drop_piece_l:\n",
    "                overlap_hori = compare_overlap(tmp_piece[-tmp_submerged:], tower[-tmp_submerged:][::-1])\n",
    "            else:\n",
    "                overlap_hori = compare_overlap(tmp_piece[-tmp_submerged:], tower[pos:pos+tmp_submerged][::-1])\n",
    "            if overlap_hori:\n",
    "                # change from break to continue, even if cannot overlap, will not break here\n",
    "                continue\n",
    "            drop_piece = tmp_piece\n",
    "\n",
    "\n",
    "            # if move down, then increment pos and deep, deep has max val depending on the height of the piece\n",
    "        if pos == 0:\n",
    "            tower.extend(drop_piece[::-1])\n",
    "        else:\n",
    "            submerged = min(abs(pos), drop_piece_l)\n",
    "            piece_deep = drop_piece[-submerged:]\n",
    "            piece_not_deep = drop_piece[:-submerged]\n",
    "\n",
    "            if abs(pos) <= drop_piece_l:\n",
    "                tower_deep = tower[-submerged:]\n",
    "            else:\n",
    "                tower_deep = tower[pos:pos+submerged]\n",
    "            # somehow having piece_deep[::-1] makes algo work...\n",
    "            # had to change range to reversed, and tower_deep to tower_deep[::-1]\n",
    "            for i, pd, td in zip(reversed(range(pos, pos+submerged)), tower_deep[::-1], piece_deep):\n",
    "                comb = pd | td\n",
    "                tower[i] = comb\n",
    "               \n",
    "            # append not deep piece\n",
    "            if piece_not_deep:\n",
    "                tower.extend(piece_not_deep[::-1])\n",
    "    piece_i = (piece_i + 1) % (len(pieces))\n",
    "\n",
    "    if blocks % 5 == 0:\n",
    "        stream_used_5_blocks.append(stream_i - start_stream_i)\n",
    "        height_5_blocks.append(len(tower) - start_height)\n",
    "\n",
    "    if blocks >= 10000:\n",
    "        break\n",
    "\n",
    "len(tower) - 1"
   ]
  },
  {
   "cell_type": "code",
   "execution_count": 91,
   "metadata": {},
   "outputs": [
    {
     "name": "stdout",
     "output_type": "stream",
     "text": [
      "[8, 7, 10, 11, 13, 9, 6, 8, 7, 2, 6, 7, 9, 9, 12, 5, 8, 7, 7, 11, 8, 12, 7, 9, 7, 8, 10, 7, 10, 8, 9, 7, 4, 7, 8, 6, 4, 8, 6, 11, 6, 8, 9, 9, 6, 7, 8, 9, 9, 6, 8, 8, 6, 8, 9, 9, 6, 8, 7, 7, 8, 7, 4, 10, 13, 6, 6, 7, 6, 5, 7, 6, 5, 6, 7, 9, 11, 6, 6, 9, 11, 5, 5, 10, 6, 7, 6, 6, 9, 6, 11, 4, 10, 10, 10, 6, 9, 9, 9, 11, 7, 7, 7, 6, 10, 4, 5, 6, 11, 8, 11, 10, 7, 6, 7, 9, 10, 9, 7, 9, 7, 7, 9, 13, 8, 7, 9, 9, 9, 9, 6, 5, 4, 7, 7, 6, 7, 7, 6, 8, 8, 6, 7, 9, 8, 7, 6, 7, 9, 8, 7, 8, 2, 8, 8, 9, 9, 3, 8, 7, 8, 7, 8, 7, 5, 5, 6, 9, 7, 8, 4, 9, 8, 6, 7, 9, 9, 8, 9, 9, 4, 8, 9, 6, 11, 7, 7, 9, 10, 6, 7, 8, 8, 9, 5, 6, 10, 5, 8, 7, 7, 7, 7, 8, 10, 8, 7, 7, 12, 7, 6, 7, 11, 9, 5, 8, 6, 8, 7, 8, 3, 7, 7, 7, 8, 5, 9, 10, 13, 7, 9, 8, 10, 7, 9, 7, 6, 8, 7, 7, 10, 10, 6, 8, 5, 6, 9, 10, 9, 8, 8, 6, 10, 8, 6, 11, 7, 6, 10, 9, 11, 7, 7, 12, 7, 11, 9, 9, 11, 10, 6, 8, 7, 9, 9, 9, 7, 9, 9, 8, 7, 10, 7, 7, 6, 11, 3, 7, 7, 11, 12, 9, 8, 6, 9, 7, 6, 10, 10, 8, 9, 8, 5, 7, 8, 6, 9, 5, 8, 5, 8, 6, 9, 8, 7, 7, 8, 7, 7, 8, 8, 6, 7, 9, 11, 7, 6, 9, 9, 6, 6, 7, 7, 10, 9, 7, 6, 8, 9, 8, 8, 8, 4, 7, 9, 8, 3, 11, 6, 10, 9, 9, 5, 7, 6, 8, 13, 6, 10, 8, 8, 12, 7, 9, 7, 8, 10, 7, 10, 8, 9, 7, 4, 7, 8, 6, 4, 8, 6, 11, 6, 8, 9, 9, 6, 7, 8, 9, 9, 6, 8, 8, 6, 8, 9, 9, 6, 8, 7, 7, 8, 7, 4, 10, 13, 6, 6, 7, 6, 5, 7, 6, 5, 6, 7, 9, 11, 6, 6, 9, 11, 5, 5, 10, 6, 7, 6, 6, 9, 6, 11, 4, 10, 10, 10, 6, 9, 9, 9, 11, 7, 7, 7, 6, 10, 4, 5, 6, 11, 8, 11, 10, 7, 6, 7, 9, 10, 9, 7, 9, 7, 7, 9, 13, 8, 7, 9, 9, 9, 9, 6, 5, 4, 7, 7, 6, 7, 7, 6, 8, 8, 6, 7, 9, 8, 7, 6, 7, 9, 8, 7, 8, 2, 8, 8, 9, 9, 3, 8, 7, 8, 7, 8, 7, 5, 5, 6, 9, 7, 8, 4, 9, 8, 6, 7, 9, 9, 8, 9, 9, 4, 8, 9, 6, 11, 7, 7, 9, 10, 6, 7, 8, 8, 9, 5, 6, 10, 5, 8, 7, 7, 7, 7, 8, 10, 8, 7, 7, 12, 7, 6, 7, 11, 9, 5, 8, 6, 8, 7, 8, 3, 7, 7, 7, 8, 5, 9, 10, 13, 7, 9, 8, 10, 7, 9, 7, 6, 8, 7, 7, 10, 10, 6, 8, 5, 6, 9, 10, 9, 8, 8, 6, 10, 8, 6, 11, 7, 6, 10, 9, 11, 7, 7, 12, 7, 11, 9, 9, 11, 10, 6, 8, 7, 9, 9, 9, 7, 9, 9, 8, 7, 10, 7, 7, 6, 11, 3, 7, 7, 11, 12, 9, 8, 6, 9, 7, 6, 10, 10, 8, 9, 8, 5, 7, 8, 6, 9, 5, 8, 5, 8, 6, 9, 8, 7, 7, 8, 7, 7, 8, 8, 6, 7, 9, 11, 7, 6, 9, 9, 6, 6, 7, 7, 10, 9, 7, 6, 8, 9, 8, 8, 8, 4, 7, 9, 8, 3, 11, 6, 10, 9, 9, 5, 7, 6, 8, 13, 6, 10, 8, 8, 12, 7, 9, 7, 8, 10, 7, 10, 8, 9, 7, 4, 7, 8, 6, 4, 8, 6, 11, 6, 8, 9, 9, 6, 7, 8, 9, 9, 6, 8, 8, 6, 8, 9, 9, 6, 8, 7, 7, 8, 7, 4, 10, 13, 6, 6, 7, 6, 5, 7, 6, 5, 6, 7, 9, 11, 6, 6, 9, 11, 5, 5, 10, 6, 7, 6, 6, 9, 6, 11, 4, 10, 10, 10, 6, 9, 9, 9, 11, 7, 7, 7, 6, 10, 4, 5, 6, 11, 8, 11, 10, 7, 6, 7, 9, 10, 9, 7, 9, 7, 7, 9, 13, 8, 7, 9, 9, 9, 9, 6, 5, 4, 7, 7, 6, 7, 7, 6, 8, 8, 6, 7, 9, 8, 7, 6, 7, 9, 8, 7, 8, 2, 8, 8, 9, 9, 3, 8, 7, 8, 7, 8, 7, 5, 5, 6, 9, 7, 8, 4, 9, 8, 6, 7, 9, 9, 8, 9, 9, 4, 8, 9, 6, 11, 7, 7, 9, 10, 6, 7, 8, 8, 9, 5, 6, 10, 5, 8, 7, 7, 7, 7, 8, 10, 8, 7, 7, 12, 7, 6, 7, 11, 9, 5, 8, 6, 8, 7, 8, 3, 7, 7, 7, 8, 5, 9, 10, 13, 7, 9, 8, 10, 7, 9, 7, 6, 8, 7, 7, 10, 10, 6, 8, 5, 6, 9, 10, 9, 8, 8, 6, 10, 8, 6, 11, 7, 6, 10, 9, 11, 7, 7, 12, 7, 11, 9, 9, 11, 10, 6, 8, 7, 9, 9, 9, 7, 9, 9, 8, 7, 10, 7, 7, 6, 11, 3, 7, 7, 11, 12, 9, 8, 6, 9, 7, 6, 10, 10, 8, 9, 8, 5, 7, 8, 6, 9, 5, 8, 5, 8, 6, 9, 8, 7, 7, 8, 7, 7, 8, 8, 6, 7, 9, 11, 7, 6, 9, 9, 6, 6, 7, 7, 10, 9, 7, 6, 8, 9, 8, 8, 8, 4, 7, 9, 8, 3, 11, 6, 10, 9, 9, 5, 7, 6, 8, 13, 6, 10, 8, 8, 12, 7, 9, 7, 8, 10, 7, 10, 8, 9, 7, 4, 7, 8, 6, 4, 8, 6, 11, 6, 8, 9, 9, 6, 7, 8, 9, 9, 6, 8, 8, 6, 8, 9, 9, 6, 8, 7, 7, 8, 7, 4, 10, 13, 6, 6, 7, 6, 5, 7, 6, 5, 6, 7, 9, 11, 6, 6, 9, 11, 5, 5, 10, 6, 7, 6, 6, 9, 6, 11, 4, 10, 10, 10, 6, 9, 9, 9, 11, 7, 7, 7, 6, 10, 4, 5, 6, 11, 8, 11, 10, 7, 6, 7, 9, 10, 9, 7, 9, 7, 7, 9, 13, 8, 7, 9, 9, 9, 9, 6, 5, 4, 7, 7, 6, 7, 7, 6, 8, 8, 6, 7, 9, 8, 7, 6, 7, 9, 8, 7, 8, 2, 8, 8, 9, 9, 3, 8, 7, 8, 7, 8, 7, 5, 5, 6, 9, 7, 8, 4, 9, 8, 6, 7, 9, 9, 8, 9, 9, 4, 8, 9, 6, 11, 7, 7, 9, 10, 6, 7, 8, 8, 9, 5, 6, 10, 5, 8, 7, 7, 7, 7, 8, 10, 8, 7, 7, 12, 7, 6, 7, 11, 9, 5, 8, 6, 8, 7, 8, 3, 7, 7, 7, 8, 5, 9, 10, 13, 7, 9, 8, 10, 7, 9, 7, 6, 8, 7, 7, 10, 10, 6, 8, 5, 6, 9, 10, 9, 8, 8, 6, 10, 8, 6, 11, 7, 6, 10, 9, 11, 7, 7, 12, 7, 11, 9, 9, 11, 10, 6, 8, 7, 9, 9, 9, 7, 9, 9, 8, 7, 10, 7, 7, 6, 11, 3, 7, 7, 11, 12, 9, 8, 6, 9, 7, 6, 10, 10, 8, 9, 8, 5, 7, 8, 6, 9, 5, 8, 5, 8, 6, 9, 8, 7, 7, 8, 7, 7, 8, 8, 6, 7, 9, 11, 7, 6, 9, 9, 6, 6, 7, 7, 10, 9, 7, 6, 8, 9, 8, 8, 8, 4, 7, 9, 8, 3, 11, 6, 10, 9, 9, 5, 7, 6, 8, 13, 6, 10, 8, 8, 12, 7, 9, 7, 8, 10, 7, 10, 8, 9, 7, 4, 7, 8, 6, 4, 8, 6, 11, 6, 8, 9, 9, 6, 7, 8, 9, 9, 6, 8, 8, 6, 8, 9, 9, 6, 8, 7, 7, 8, 7, 4, 10, 13, 6, 6, 7, 6, 5, 7, 6, 5, 6, 7, 9, 11, 6, 6, 9, 11, 5, 5, 10, 6, 7, 6, 6, 9, 6, 11, 4, 10, 10, 10, 6, 9, 9, 9, 11, 7, 7, 7, 6, 10, 4, 5, 6, 11, 8, 11, 10, 7, 6, 7, 9, 10, 9, 7, 9, 7, 7, 9, 13, 8, 7, 9, 9, 9, 9, 6, 5, 4, 7, 7, 6, 7, 7, 6, 8, 8, 6, 7, 9, 8, 7, 6, 7, 9, 8, 7, 8, 2, 8, 8, 9, 9, 3, 8, 7, 8, 7, 8, 7, 5, 5, 6, 9, 7, 8, 4, 9, 8, 6, 7, 9, 9, 8, 9, 9, 4, 8, 9, 6, 11, 7, 7, 9, 10, 6, 7, 8, 8, 9, 5, 6, 10, 5, 8, 7, 7, 7, 7, 8, 10, 8, 7, 7, 12, 7, 6, 7, 11, 9, 5, 8, 6, 8, 7, 8, 3, 7, 7, 7, 8, 5, 9, 10, 13, 7, 9, 8, 10, 7, 9, 7, 6, 8, 7, 7, 10, 10, 6, 8, 5, 6, 9, 10, 9, 8, 8, 6, 10, 8, 6, 11, 7, 6, 10, 9, 11, 7, 7, 12, 7, 11, 9, 9, 11, 10, 6, 8, 7, 9, 9, 9, 7, 9, 9, 8, 7, 10, 7, 7, 6, 11, 3, 7, 7, 11, 12, 9, 8, 6, 9, 7, 6, 10, 10, 8, 9, 8, 5, 7, 8, 6, 9, 5, 8, 5, 8, 6, 9, 8, 7, 7, 8, 7, 7, 8, 8, 6, 7, 9, 11, 7, 6, 9, 9, 6, 6, 7, 7, 10, 9, 7, 6, 8, 9, 8, 8, 8, 4, 7, 9, 8, 3, 11, 6, 10, 9, 9, 5, 7, 6, 8, 13, 6, 10, 8, 8, 12, 7, 9, 7, 8, 10, 7, 10, 8, 9, 7, 4, 7, 8, 6, 4, 8, 6, 11, 6, 8, 9, 9, 6, 7, 8, 9, 9, 6, 8, 8, 6, 8, 9, 9, 6, 8, 7, 7, 8, 7, 4, 10, 13, 6, 6, 7, 6, 5, 7, 6, 5, 6, 7, 9, 11, 6, 6, 9, 11, 5, 5, 10, 6, 7, 6, 6, 9, 6, 11, 4, 10, 10, 10, 6, 9, 9, 9, 11, 7, 7, 7, 6, 10, 4, 5, 6, 11, 8, 11, 10, 7, 6, 7, 9, 10, 9, 7, 9, 7, 7, 9, 13, 8, 7, 9, 9, 9, 9, 6, 5, 4, 7, 7, 6, 7, 7, 6, 8, 8, 6, 7, 9, 8, 7, 6, 7, 9, 8, 7, 8, 2, 8, 8, 9, 9, 3, 8, 7, 8, 7, 8, 7, 5, 5, 6, 9, 7, 8, 4, 9, 8, 6, 7, 9, 9, 8, 9, 9, 4, 8, 9, 6, 11, 7, 7, 9, 10, 6, 7, 8, 8, 9, 5, 6, 10, 5, 8, 7, 7, 7, 7, 8, 10, 8, 7, 7, 12, 7, 6, 7, 11, 9, 5, 8, 6, 8, 7, 8, 3, 7, 7, 7, 8, 5, 9, 10, 13, 7, 9, 8, 10, 7, 9, 7, 6, 8, 7, 7, 10, 10, 6, 8, 5, 6, 9, 10, 9, 8, 8, 6, 10, 8, 6, 11, 7, 6, 10, 9, 11, 7, 7, 12, 7, 11, 9, 9, 11, 10, 6, 8, 7, 9, 9, 9, 7, 9, 9, 8, 7, 10, 7, 7, 6, 11, 3, 7, 7, 11, 12, 9, 8, 6, 9, 7, 6, 10, 10, 8]\n"
     ]
    }
   ],
   "source": [
    "print(height_5_blocks)"
   ]
  },
  {
   "cell_type": "code",
   "execution_count": 92,
   "metadata": {},
   "outputs": [],
   "source": [
    "first_20 = [8, 7, 10, 11, 13, 9, 6, 8, 7, 2, 6, 7, 9, 9, 12, 5, 8, 7, 7, 11]\n",
    "seq = [8, 12, 7, 9, 7, 8, 10, 7, 10, 8, 9, 7, 4, 7, 8, 6, 4, 8, 6, 11, 6, 8, 9, 9, 6, 7, 8, 9, 9, 6, 8, 8, 6, 8, 9, 9, 6, 8, 7, 7, 8, 7, 4, 10, 13, 6, 6, 7, 6, 5, 7, 6, 5, 6, 7, 9, 11, 6, 6, 9, 11, 5, 5, 10, 6, 7, 6, 6, 9, 6, 11, 4, 10, 10, 10, 6, 9, 9, 9, 11, 7, 7, 7, 6, 10, 4, 5, 6, 11, 8, 11, 10, 7, 6, 7, 9, 10, 9, 7, 9, 7, 7, 9, 13, 8, 7, 9, 9, 9, 9, 6, 5, 4, 7, 7, 6, 7, 7, 6, 8, 8, 6, 7, 9, 8, 7, 6, 7, 9, 8, 7, 8, 2, 8, 8, 9, 9, 3, 8, 7, 8, 7, 8, 7, 5, 5, 6, 9, 7, 8, 4, 9, 8, 6, 7, 9, 9, 8, 9, 9, 4, 8, 9, 6, 11, 7, 7, 9, 10, 6, 7, 8, 8, 9, 5, 6, 10, 5, 8, 7, 7, 7, 7, 8, 10, 8, 7, 7, 12, 7, 6, 7, 11, 9, 5, 8, 6, 8, 7, 8, 3, 7, 7, 7, 8, 5, 9, 10, 13, 7, 9, 8, 10, 7, 9, 7, 6, 8, 7, 7, 10, 10, 6, 8, 5, 6, 9, 10, 9, 8, 8, 6, 10, 8, 6, 11, 7, 6, 10, 9, 11, 7, 7, 12, 7, 11, 9, 9, 11, 10, 6, 8, 7, 9, 9, 9, 7, 9, 9, 8, 7, 10, 7, 7, 6, 11, 3, 7, 7, 11, 12, 9, 8, 6, 9, 7, 6, 10, 10, 8, 9, 8, 5, 7, 8, 6, 9, 5, 8, 5, 8, 6, 9, 8, 7, 7, 8, 7, 7, 8, 8, 6, 7, 9, 11, 7, 6, 9, 9, 6, 6, 7, 7, 10, 9, 7, 6, 8, 9, 8, 8, 8, 4, 7, 9, 8, 3, 11, 6, 10, 9, 9, 5, 7, 6, 8, 13, 6, 10, 8]"
   ]
  },
  {
   "cell_type": "code",
   "execution_count": 93,
   "metadata": {},
   "outputs": [
    {
     "data": {
      "text/plain": [
       "340"
      ]
     },
     "execution_count": 93,
     "metadata": {},
     "output_type": "execute_result"
    }
   ],
   "source": [
    "len(seq)"
   ]
  },
  {
   "cell_type": "code",
   "execution_count": 96,
   "metadata": {},
   "outputs": [
    {
     "data": {
      "text/plain": [
       "588235294"
      ]
     },
     "execution_count": 96,
     "metadata": {},
     "output_type": "execute_result"
    }
   ],
   "source": [
    "(1000000000000 - len(first_20) * 5) // (len(seq) * 5)"
   ]
  },
  {
   "cell_type": "code",
   "execution_count": 100,
   "metadata": {},
   "outputs": [
    {
     "data": {
      "text/plain": [
       "100"
      ]
     },
     "execution_count": 100,
     "metadata": {},
     "output_type": "execute_result"
    }
   ],
   "source": [
    "(1000000000000 - len(first_20) * 5) % (len(seq) * 5)"
   ]
  },
  {
   "cell_type": "code",
   "execution_count": 99,
   "metadata": {},
   "outputs": [
    {
     "data": {
      "text/plain": [
       "999999999800"
      ]
     },
     "execution_count": 99,
     "metadata": {},
     "output_type": "execute_result"
    }
   ],
   "source": [
    "588235294 * len(seq) * 5"
   ]
  },
  {
   "cell_type": "code",
   "execution_count": 103,
   "metadata": {},
   "outputs": [
    {
     "data": {
      "text/plain": [
       "1542941176480"
      ]
     },
     "execution_count": 103,
     "metadata": {},
     "output_type": "execute_result"
    }
   ],
   "source": [
    "# // 5 since 1 \n",
    "sum(first_20) + 588235294 * sum(seq) + sum(seq[:100 // 5])"
   ]
  },
  {
   "cell_type": "code",
   "execution_count": 88,
   "metadata": {},
   "outputs": [
    {
     "name": "stdout",
     "output_type": "stream",
     "text": [
      "[9, 8, 8, 11, 7, 8, 9, 6, 6, 6, 11, 7, 8, 9, 6, 6, 6, 11, 7, 8, 9, 6, 6, 6, 11, 7, 8, 9, 6, 6, 6, 11, 7, 8, 9, 6, 6, 6, 11, 7, 8, 9, 6, 6, 6, 11, 7, 8, 9, 6, 6, 6, 11, 7, 8, 9, 6, 6, 6, 11, 7, 8, 9, 6, 6, 6, 11, 7, 8, 9, 6, 6, 6, 11, 7, 8, 9, 6, 6, 6, 11, 7, 8, 9, 6, 6, 6, 11, 7, 8, 9, 6, 6, 6, 11, 7, 8, 9, 6, 6, 6, 11, 7, 8, 9, 6, 6, 6, 11, 7, 8, 9, 6, 6, 6, 11, 7, 8, 9, 6, 6, 6, 11, 7, 8, 9, 6, 6, 6, 11, 7, 8, 9, 6, 6, 6, 11, 7, 8, 9, 6, 6, 6, 11, 7, 8, 9, 6, 6, 6, 11, 7, 8, 9, 6, 6, 6, 11, 7, 8, 9, 6, 6, 6, 11, 7, 8, 9, 6, 6, 6, 11, 7, 8, 9, 6, 6, 6, 11, 7, 8, 9, 6, 6, 6, 11, 7, 8, 9, 6, 6, 6, 11, 7, 8, 9, 6, 6, 6, 11, 7, 8, 9, 6, 6, 6, 11, 7, 8, 9, 6, 6, 6, 11, 7, 8, 9, 6, 6, 6, 11, 7, 8, 9, 6, 6, 6, 11, 7, 8, 9, 6, 6, 6, 11, 7, 8, 9, 6, 6, 6, 11, 7, 8, 9, 6, 6, 6, 11, 7, 8, 9, 6, 6, 6, 11, 7, 8, 9, 6, 6, 6, 11, 7, 8, 9, 6, 6, 6, 11, 7, 8, 9, 6, 6, 6, 11, 7, 8, 9, 6, 6, 6, 11, 7, 8, 9, 6, 6, 6, 11, 7, 8, 9, 6, 6, 6, 11, 7, 8, 9, 6, 6, 6, 11, 7, 8, 9, 6, 6, 6, 11, 7, 8, 9, 6, 6, 6, 11, 7, 8, 9, 6, 6, 6, 11, 7, 8, 9, 6, 6, 6, 11, 7, 8, 9, 6, 6, 6, 11, 7, 8, 9, 6, 6, 6, 11, 7, 8, 9, 6, 6, 6, 11, 7, 8, 9, 6, 6, 6, 11, 7, 8, 9, 6, 6, 6, 11, 7, 8, 9, 6, 6, 6, 11, 7, 8, 9, 6, 6, 6, 11, 7, 8, 9, 6, 6, 6, 11, 7, 8, 9, 6, 6, 6, 11, 7, 8, 9, 6, 6, 6, 11, 7]\n"
     ]
    },
    {
     "data": {
      "text/plain": [
       "1514285714285"
      ]
     },
     "execution_count": 88,
     "metadata": {},
     "output_type": "execute_result"
    }
   ],
   "source": [
    "print(height_5_blocks)\n",
    "\n",
    "sum([11, 7, 8, 9, 6, 6, 6]) * 1000000000000 // (7 * 5)"
   ]
  },
  {
   "cell_type": "code",
   "execution_count": null,
   "metadata": {},
   "outputs": [],
   "source": []
  },
  {
   "cell_type": "code",
   "execution_count": 2,
   "metadata": {},
   "outputs": [
    {
     "data": {
      "text/plain": [
       "'\\nIf bottom - Check bottom whether anything is in the way\\nIf left - perform overlap check\\nIf right - perform overlap check\\n'"
      ]
     },
     "execution_count": 2,
     "metadata": {},
     "output_type": "execute_result"
    }
   ],
   "source": [
    "# check overlap\n",
    "# struct for each to define the bottom, and the coordinates from a pivot\n",
    "\n",
    "'''\n",
    "If bottom - Check bottom whether anything is in the way\n",
    "If left - perform overlap check\n",
    "If right - perform overlap check\n",
    "'''\n",
    "\n"
   ]
  },
  {
   "cell_type": "code",
   "execution_count": 17,
   "metadata": {},
   "outputs": [
    {
     "data": {
      "text/plain": [
       "1"
      ]
     },
     "execution_count": 17,
     "metadata": {},
     "output_type": "execute_result"
    }
   ],
   "source": [
    "# if want to check no overlap, check if a & b is false\n",
    "a = 0b0000001 \n",
    "a & 0b1111101"
   ]
  },
  {
   "cell_type": "code",
   "execution_count": 25,
   "metadata": {},
   "outputs": [
    {
     "data": {
      "text/plain": [
       "0"
      ]
     },
     "execution_count": 25,
     "metadata": {},
     "output_type": "execute_result"
    }
   ],
   "source": [
    "(a << 1) & 0b1111101 # ok = false"
   ]
  },
  {
   "cell_type": "code",
   "execution_count": 28,
   "metadata": {},
   "outputs": [
    {
     "data": {
      "text/plain": [
       "[66, 40, 162, 67]"
      ]
     },
     "execution_count": 28,
     "metadata": {},
     "output_type": "execute_result"
    }
   ],
   "source": [
    "[0b1000010, 0b0101000, 0b10100010, 0b1000011]"
   ]
  },
  {
   "cell_type": "code",
   "execution_count": null,
   "metadata": {},
   "outputs": [],
   "source": []
  }
 ],
 "metadata": {
  "kernelspec": {
   "display_name": "Python 3",
   "language": "python",
   "name": "python3"
  },
  "language_info": {
   "codemirror_mode": {
    "name": "ipython",
    "version": 3
   },
   "file_extension": ".py",
   "mimetype": "text/x-python",
   "name": "python",
   "nbconvert_exporter": "python",
   "pygments_lexer": "ipython3",
   "version": "3.8.2 (tags/v3.8.2:7b3ab59, Feb 25 2020, 23:03:10) [MSC v.1916 64 bit (AMD64)]"
  },
  "orig_nbformat": 4,
  "vscode": {
   "interpreter": {
    "hash": "570feb405e2e27c949193ac68f46852414290d515b0ba6e5d90d076ed2284471"
   }
  }
 },
 "nbformat": 4,
 "nbformat_minor": 2
}
