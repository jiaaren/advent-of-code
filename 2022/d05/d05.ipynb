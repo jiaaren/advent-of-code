{
 "cells": [
  {
   "cell_type": "code",
   "execution_count": 86,
   "metadata": {},
   "outputs": [
    {
     "name": "stdout",
     "output_type": "stream",
     "text": [
      "VQZNJMWTR\n"
     ]
    }
   ],
   "source": [
    "with open('input.txt') as f:\n",
    "    file = f.read()\n",
    "\n",
    "from collections import defaultdict\n",
    "import re\n",
    "\n",
    "boxes, moves = file.split('\\n\\n')\n",
    "boxes_dict = defaultdict(list)\n",
    "\n",
    "# make boxes\n",
    "for box_row in boxes.split('\\n')[:-1]:\n",
    "    for i in range(1, len(box_row), 4):\n",
    "        box_col = i // 4 + 1 # don't know why // 4\n",
    "        char = box_row[i]\n",
    "        if char != ' ':\n",
    "            boxes_dict[box_col].append(char)\n",
    "\n",
    "for key, value in boxes_dict.items():\n",
    "    boxes_dict[key] = value[-1::-1]\n",
    "\n",
    "for move in moves.split('\\n'):\n",
    "    move_tmp = re.findall(r'move ([0-9]+) from ([0-9]+) to ([0-9]+)', move)\n",
    "    steps, frm, to = [int(x) for x in move_tmp[0]]\n",
    "\n",
    "    popped = boxes_dict[frm][-steps:]\n",
    "    boxes_dict[frm] = boxes_dict[frm][:-steps]\n",
    "    reverse_popped = popped[-1::-1]\n",
    "    boxes_dict[to].extend(reverse_popped)\n",
    "\n",
    "for i in range(1, len(boxes_dict) + 1):\n",
    "    print(boxes_dict[i][-1], end='')\n",
    "print()\n"
   ]
  },
  {
   "cell_type": "code",
   "execution_count": 87,
   "metadata": {},
   "outputs": [
    {
     "name": "stdout",
     "output_type": "stream",
     "text": [
      "NLCDCLVMQ\n"
     ]
    }
   ],
   "source": [
    "with open('input.txt') as f:\n",
    "    file = f.read()\n",
    "\n",
    "from collections import defaultdict\n",
    "import re\n",
    "\n",
    "boxes, moves = file.split('\\n\\n')\n",
    "boxes_dict = defaultdict(list)\n",
    "\n",
    "# make boxes\n",
    "for box_row in boxes.split('\\n')[:-1]:\n",
    "    for i in range(1, len(box_row), 4):\n",
    "        box_col = i // 4 + 1 # don't know why // 4\n",
    "        char = box_row[i]\n",
    "        if char != ' ':\n",
    "            boxes_dict[box_col].append(char)\n",
    "\n",
    "for key, value in boxes_dict.items():\n",
    "    boxes_dict[key] = value[-1::-1]\n",
    "\n",
    "for move in moves.split('\\n'):\n",
    "    move_tmp = re.findall(r'move ([0-9]+) from ([0-9]+) to ([0-9]+)', move)\n",
    "    steps, frm, to = [int(x) for x in move_tmp[0]]\n",
    "\n",
    "    popped = boxes_dict[frm][-steps:]\n",
    "    boxes_dict[frm] = boxes_dict[frm][:-steps]\n",
    "    # !!!! just changed this\n",
    "    # reverse_popped = popped[-1::-1]\n",
    "    boxes_dict[to].extend(popped)\n",
    "\n",
    "for i in range(1, len(boxes_dict) + 1):\n",
    "    print(boxes_dict[i][-1], end='')\n",
    "print()\n"
   ]
  },
  {
   "cell_type": "code",
   "execution_count": null,
   "metadata": {},
   "outputs": [],
   "source": []
  }
 ],
 "metadata": {
  "kernelspec": {
   "display_name": "Python 3.8.2 64-bit",
   "language": "python",
   "name": "python3"
  },
  "language_info": {
   "codemirror_mode": {
    "name": "ipython",
    "version": 3
   },
   "file_extension": ".py",
   "mimetype": "text/x-python",
   "name": "python",
   "nbconvert_exporter": "python",
   "pygments_lexer": "ipython3",
   "version": "3.8.2"
  },
  "orig_nbformat": 4,
  "vscode": {
   "interpreter": {
    "hash": "570feb405e2e27c949193ac68f46852414290d515b0ba6e5d90d076ed2284471"
   }
  }
 },
 "nbformat": 4,
 "nbformat_minor": 2
}
