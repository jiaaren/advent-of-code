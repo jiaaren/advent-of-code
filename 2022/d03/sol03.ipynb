{
 "cells": [
  {
   "cell_type": "code",
   "execution_count": 26,
   "metadata": {},
   "outputs": [
    {
     "data": {
      "text/plain": [
       "7848"
      ]
     },
     "execution_count": 26,
     "metadata": {},
     "output_type": "execute_result"
    }
   ],
   "source": [
    "with open('input.txt') as f:\n",
    "    file = f.read()\n",
    "\n",
    "def convert_digit(char):\n",
    "    ascii_digit = ord(char)\n",
    "    if ascii_digit >= ord('A') and ascii_digit <= ord('Z'):\n",
    "        return ascii_digit - (ord('A') - 27)\n",
    "    elif ascii_digit >= ord('a') and ascii_digit <= ord('z'):\n",
    "        return ascii_digit - (ord('a') - 1)\n",
    "\n",
    "lst = file.split('\\n')\n",
    "prio = []\n",
    "for sack in lst:\n",
    "    first_half = sack[:int(len(sack) / 2)]\n",
    "    second_half = sack[int(len(sack) / 2):]\n",
    "    for char in first_half:\n",
    "        if char in second_half:\n",
    "            prio.append(char)\n",
    "            break\n",
    "\n",
    "prio_num = [convert_digit(c) for c in prio]\n",
    "sum(prio_num)\n"
   ]
  },
  {
   "cell_type": "code",
   "execution_count": 7,
   "metadata": {},
   "outputs": [
    {
     "name": "stdout",
     "output_type": "stream",
     "text": [
      "first_half\n"
     ]
    }
   ],
   "source": [
    "print('first_half')"
   ]
  },
  {
   "cell_type": "code",
   "execution_count": 15,
   "metadata": {},
   "outputs": [
    {
     "data": {
      "text/plain": [
       "65"
      ]
     },
     "execution_count": 15,
     "metadata": {},
     "output_type": "execute_result"
    }
   ],
   "source": [
    "# https://stackoverflow.com/questions/4387138/pythonascii-character-decimal-representation-conversion\n",
    "\n",
    "ord('A')"
   ]
  },
  {
   "cell_type": "code",
   "execution_count": 37,
   "metadata": {},
   "outputs": [
    {
     "data": {
      "text/plain": [
       "2616"
      ]
     },
     "execution_count": 37,
     "metadata": {},
     "output_type": "execute_result"
    }
   ],
   "source": [
    "with open('input.txt') as f:\n",
    "    file = f.read()\n",
    "\n",
    "group_len = 3\n",
    "lst = file.split('\\n')\n",
    "group_badge = []\n",
    "\n",
    "for i in range(0, len(lst), group_len):\n",
    "    one, two, three = lst[i: i+group_len]\n",
    "    for char in one:\n",
    "        if char in two and char in three:\n",
    "            badge = char\n",
    "            group_badge.append(badge)\n",
    "            break\n",
    "\n",
    "\n",
    "group_badge_digit = [convert_digit(c) for c in group_badge]\n",
    "sum(group_badge_digit)"
   ]
  },
  {
   "cell_type": "code",
   "execution_count": 36,
   "metadata": {},
   "outputs": [
    {
     "data": {
      "text/plain": [
       "['r', 'Z']"
      ]
     },
     "execution_count": 36,
     "metadata": {},
     "output_type": "execute_result"
    }
   ],
   "source": [
    "group_badge"
   ]
  },
  {
   "cell_type": "code",
   "execution_count": null,
   "metadata": {},
   "outputs": [],
   "source": []
  }
 ],
 "metadata": {
  "kernelspec": {
   "display_name": "Python 3.8.2 64-bit",
   "language": "python",
   "name": "python3"
  },
  "language_info": {
   "codemirror_mode": {
    "name": "ipython",
    "version": 3
   },
   "file_extension": ".py",
   "mimetype": "text/x-python",
   "name": "python",
   "nbconvert_exporter": "python",
   "pygments_lexer": "ipython3",
   "version": "3.8.2"
  },
  "orig_nbformat": 4,
  "vscode": {
   "interpreter": {
    "hash": "570feb405e2e27c949193ac68f46852414290d515b0ba6e5d90d076ed2284471"
   }
  }
 },
 "nbformat": 4,
 "nbformat_minor": 2
}
