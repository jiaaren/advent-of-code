{
 "cells": [
  {
   "cell_type": "code",
   "execution_count": 80,
   "metadata": {},
   "outputs": [
    {
     "data": {
      "text/plain": [
       "12640"
      ]
     },
     "execution_count": 80,
     "metadata": {},
     "output_type": "execute_result"
    }
   ],
   "source": [
    "with open('input.txt') as f:\n",
    "    file = f.read()\n",
    "\n",
    "cmds = file.split('\\n')\n",
    "\n",
    "cycle = 0\n",
    "counter = 0\n",
    "X = 1\n",
    "\n",
    "cycle_lst = []\n",
    "\n",
    "for cmd in cmds:\n",
    "    if cmd == 'noop':\n",
    "        cycle += 1\n",
    "    elif 'addx' in cmd:\n",
    "        strength = counter = int(cmd.split()[1])\n",
    "        cycle += 2\n",
    "        X += strength\n",
    "        cycle_lst.append((cycle, X))\n",
    "\n",
    "prev_cycle = 1\n",
    "prev_X = 0\n",
    "\n",
    "strengths = [20, 60, 100, 140, 180, 220]\n",
    "strengths_score = []\n",
    "\n",
    "for s in strengths:\n",
    "    for cycle, X in cycle_lst:\n",
    "        if s <= cycle and s > prev_cycle:\n",
    "            strengths_score.append(s * prev_X)\n",
    "        prev_cycle, prev_X = cycle, X\n",
    "sum(strengths_score)"
   ]
  },
  {
   "cell_type": "code",
   "execution_count": null,
   "metadata": {},
   "outputs": [],
   "source": []
  },
  {
   "cell_type": "markdown",
   "metadata": {},
   "source": []
  },
  {
   "cell_type": "code",
   "execution_count": 83,
   "metadata": {},
   "outputs": [
    {
     "data": {
      "text/plain": [
       "'####.#..#.###..####.#....###....##.###..#....#..#.#..#....#.#....#..#....#.#..#.###..####.###....#..#....#..#....#.#..#.#....#..#.#..#..#...#....###.....#.###..#....#..#.#..#.#....#....#.#..#..#.#.#..####.#..#.###..####.####.#..#..##..#..#.'"
      ]
     },
     "execution_count": 83,
     "metadata": {},
     "output_type": "execute_result"
    }
   ],
   "source": [
    "prev_cycle = 0\n",
    "prev_X = 0\n",
    "\n",
    "string = ''\n",
    "\n",
    "cycle_lst_upt = [(0, 1)]\n",
    "cycle_lst_upt.extend(cycle_lst)\n",
    "cycle_lst_upt.append((240, cycle_lst[-1][1]))\n",
    "\n",
    "for cycle, X in cycle_lst_upt:\n",
    "    for i in range(cycle - prev_cycle):\n",
    "        # print(cycle, prev_cycle, X, len(string), list(range(X , X + 3)))\n",
    "        # print(cycle-prev_cycle)\n",
    "        magnitude =  len(string) // 40\n",
    "        prev_X_mag = prev_X + 40 * magnitude\n",
    "\n",
    "        if len(string) + 1 not in list(range(prev_X_mag , prev_X_mag + 3)):\n",
    "            string += '.'\n",
    "        else:\n",
    "            string += '#'\n",
    "\n",
    "    prev_cycle = cycle\n",
    "    prev_X = X\n",
    "\n",
    "string"
   ]
  },
  {
   "cell_type": "code",
   "execution_count": 84,
   "metadata": {},
   "outputs": [
    {
     "name": "stdout",
     "output_type": "stream",
     "text": [
      "####.#..#.###..####.#....###....##.###..\n",
      "#....#..#.#..#....#.#....#..#....#.#..#.\n",
      "###..####.###....#..#....#..#....#.#..#.\n",
      "#....#..#.#..#..#...#....###.....#.###..\n",
      "#....#..#.#..#.#....#....#.#..#..#.#.#..\n",
      "####.#..#.###..####.####.#..#..##..#..#.\n"
     ]
    }
   ],
   "source": [
    "for i in range(0, len(string), 40):\n",
    "    print(string[i:i+40])"
   ]
  },
  {
   "cell_type": "code",
   "execution_count": null,
   "metadata": {},
   "outputs": [],
   "source": []
  }
 ],
 "metadata": {
  "kernelspec": {
   "display_name": "Python 3",
   "language": "python",
   "name": "python3"
  },
  "language_info": {
   "codemirror_mode": {
    "name": "ipython",
    "version": 3
   },
   "file_extension": ".py",
   "mimetype": "text/x-python",
   "name": "python",
   "nbconvert_exporter": "python",
   "pygments_lexer": "ipython3",
   "version": "3.8.2"
  },
  "orig_nbformat": 4,
  "vscode": {
   "interpreter": {
    "hash": "570feb405e2e27c949193ac68f46852414290d515b0ba6e5d90d076ed2284471"
   }
  }
 },
 "nbformat": 4,
 "nbformat_minor": 2
}
