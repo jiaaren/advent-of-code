{
 "cells": [
  {
   "cell_type": "code",
   "execution_count": 109,
   "metadata": {},
   "outputs": [
    {
     "data": {
      "text/plain": [
       "61503"
      ]
     },
     "execution_count": 109,
     "metadata": {},
     "output_type": "execute_result"
    }
   ],
   "source": [
    "with open('input.txt') as f:\n",
    "    file = f.read()\n",
    "monkeys = file.split('\\n\\n')\n",
    "\n",
    "def give_monk_dict(monk):\n",
    "    num, start_items, operation, test, if_true, if_false = monk.split('\\n')\n",
    "    monk_dict = {}\n",
    "    monk_dict['num'] = int(num.split()[1].strip(':'))\n",
    "    monk_dict['items'] = [(int(item.strip(','))) for item in start_items.split()[2:]]\n",
    "    if '+' in operation:\n",
    "        monk_dict['func'] = lambda x: x + int(operation.split()[-1])\n",
    "    elif '*' in operation:\n",
    "        monk_dict['func'] = lambda x: x * int(operation.split()[-1])\n",
    "    if 'old * old' in operation:\n",
    "        monk_dict['func'] = lambda x: x * x\n",
    "    monk_dict['test_div'] = int(test.split()[-1])\n",
    "    monk_dict['throw_true'] = int(if_true.split()[-1])\n",
    "    monk_dict['throw_false'] = int(if_false.split()[-1])\n",
    "    monk_dict['inspected'] = 0\n",
    "\n",
    "    return (monk_dict['num'], monk_dict)\n",
    "\n",
    "give_monk_dict(monkeys[0])[1]['func'](10)\n",
    "\n",
    "group = {}\n",
    "for monk in monkeys:\n",
    "    key, val = give_monk_dict(monk)\n",
    "    group[key] = val\n",
    "\n",
    "def cycle(group, monk_index):\n",
    "    monk = group[monk_index]\n",
    "    tmp_items = monk['items'].copy()\n",
    "    for i, item in enumerate(monk['items']):\n",
    "        # uncomment for question 1\n",
    "        worry_level = monk['func'](monk['items'][i]) // 3\n",
    "        # worry_level = monk['func'](monk['items'][i])\n",
    "        if worry_level % monk['test_div'] == 0:\n",
    "            monk_to_pass = monk['throw_true']\n",
    "        else:\n",
    "            monk_to_pass = monk['throw_false']\n",
    "        del tmp_items[0]\n",
    "        group[monk_to_pass]['items'].append(worry_level)\n",
    "        group[monk_index]['inspected'] += 1\n",
    "    group[monk_index]['items'] = tmp_items\n",
    "\n",
    "\n",
    "rounds = 20\n",
    "for round in range(rounds):\n",
    "    for monk in group.keys():\n",
    "        cycle(group, monk)\n",
    "    # print(f'{round} ', end='')\n",
    "\n",
    "\n",
    "inspect_lst = [x['inspected'] for x in group.values()]\n",
    "sorted(inspect_lst)[-1] * sorted(inspect_lst)[-2]"
   ]
  },
  {
   "cell_type": "code",
   "execution_count": 110,
   "metadata": {},
   "outputs": [
    {
     "data": {
      "text/plain": [
       "{0: {'num': 0,\n",
       "  'items': [],\n",
       "  'func': <function __main__.give_monk_dict.<locals>.<lambda>(x)>,\n",
       "  'test_div': 19,\n",
       "  'throw_true': 6,\n",
       "  'throw_false': 4,\n",
       "  'inspected': 51},\n",
       " 1: {'num': 1,\n",
       "  'items': [1, 1, 1, 1, 1, 1, 1, 1, 1, 1, 1, 1],\n",
       "  'func': <function __main__.give_monk_dict.<locals>.<lambda>(x)>,\n",
       "  'test_div': 3,\n",
       "  'throw_true': 7,\n",
       "  'throw_false': 5,\n",
       "  'inspected': 247},\n",
       " 2: {'num': 2,\n",
       "  'items': [1, 1, 1, 1, 1, 1, 1],\n",
       "  'func': <function __main__.give_monk_dict.<locals>.<lambda>(x)>,\n",
       "  'test_div': 13,\n",
       "  'throw_true': 5,\n",
       "  'throw_false': 1,\n",
       "  'inspected': 204},\n",
       " 3: {'num': 3,\n",
       "  'items': [3, 3, 3, 3, 3, 3, 3, 3, 3, 3, 3, 3, 3, 3, 3, 3, 17],\n",
       "  'func': <function __main__.give_monk_dict.<locals>.<lambda>(x)>,\n",
       "  'test_div': 17,\n",
       "  'throw_true': 0,\n",
       "  'throw_false': 4,\n",
       "  'inspected': 201},\n",
       " 4: {'num': 4,\n",
       "  'items': [],\n",
       "  'func': <function __main__.give_monk_dict.<locals>.<lambda>(x)>,\n",
       "  'test_div': 2,\n",
       "  'throw_true': 6,\n",
       "  'throw_false': 2,\n",
       "  'inspected': 249},\n",
       " 5: {'num': 5,\n",
       "  'items': [],\n",
       "  'func': <function __main__.give_monk_dict.<locals>.<lambda>(x)>,\n",
       "  'test_div': 11,\n",
       "  'throw_true': 7,\n",
       "  'throw_false': 3,\n",
       "  'inspected': 216},\n",
       " 6: {'num': 6,\n",
       "  'items': [],\n",
       "  'func': <function __main__.give_monk_dict.<locals>.<lambda>(x)>,\n",
       "  'test_div': 5,\n",
       "  'throw_true': 2,\n",
       "  'throw_false': 1,\n",
       "  'inspected': 53},\n",
       " 7: {'num': 7,\n",
       "  'items': [],\n",
       "  'func': <function __main__.give_monk_dict.<locals>.<lambda>(x)>,\n",
       "  'test_div': 7,\n",
       "  'throw_true': 3,\n",
       "  'throw_false': 0,\n",
       "  'inspected': 47}}"
      ]
     },
     "execution_count": 110,
     "metadata": {},
     "output_type": "execute_result"
    }
   ],
   "source": [
    "group"
   ]
  },
  {
   "cell_type": "code",
   "execution_count": null,
   "metadata": {},
   "outputs": [],
   "source": []
  },
  {
   "cell_type": "code",
   "execution_count": 113,
   "metadata": {},
   "outputs": [
    {
     "data": {
      "text/plain": [
       "14081365540"
      ]
     },
     "execution_count": 113,
     "metadata": {},
     "output_type": "execute_result"
    }
   ],
   "source": [
    "with open('input.txt') as f:\n",
    "    file = f.read()\n",
    "monkeys = file.split('\\n\\n')\n",
    "\n",
    "def give_monk_dict(monk):\n",
    "    num, start_items, operation, test, if_true, if_false = monk.split('\\n')\n",
    "    monk_dict = {}\n",
    "    monk_dict['num'] = int(num.split()[1].strip(':'))\n",
    "    monk_dict['items'] = [(int(item.strip(','))) for item in start_items.split()[2:]]\n",
    "    if '+' in operation:\n",
    "        monk_dict['func'] = lambda x: x + int(operation.split()[-1])\n",
    "    elif '*' in operation:\n",
    "        monk_dict['func'] = lambda x: x * int(operation.split()[-1])\n",
    "    if 'old * old' in operation:\n",
    "        monk_dict['func'] = lambda x: int(x ** 2)\n",
    "    monk_dict['test_div'] = int(test.split()[-1])\n",
    "    monk_dict['throw_true'] = int(if_true.split()[-1])\n",
    "    monk_dict['throw_false'] = int(if_false.split()[-1])\n",
    "    monk_dict['inspected'] = 0\n",
    "\n",
    "    return (monk_dict['num'], monk_dict)\n",
    "\n",
    "give_monk_dict(monkeys[0])[1]['func'](10)\n",
    "\n",
    "group = {}\n",
    "for monk in monkeys:\n",
    "    key, val = give_monk_dict(monk)\n",
    "    group[key] = val\n",
    "\n",
    "# found that dividing by a most common multiple works\n",
    "from numpy import lcm\n",
    "lcm_divisor = int(lcm.reduce([monk['test_div'] for monk in group.values()]))\n",
    "\n",
    "def cycle(group, monk_index):\n",
    "    monk = group[monk_index]\n",
    "    tmp_items = monk['items'].copy()\n",
    "    for i, item in enumerate(monk['items']):\n",
    "        # Q2 no divide 3\n",
    "        worry_level = monk['func'](monk['items'][i])\n",
    "        # worry_level = monk['func'](monk['items'][i])\n",
    "        # if monk['func_type'] == '+' and worry_level % monk['test_div'] == 0:\n",
    "\n",
    "        if worry_level % monk['test_div'] == 0:\n",
    "            monk_to_pass = monk['throw_true']\n",
    "        else:\n",
    "            monk_to_pass = monk['throw_false']\n",
    "        del tmp_items[0]\n",
    "        # i kept passing the monk['test_div'] to mod, but realise that i needed a lcm across all the monkeys\n",
    "        group[monk_to_pass]['items'].append(worry_level % lcm_divisor)\n",
    "        group[monk_index]['inspected'] += 1\n",
    "    group[monk_index]['items'] = []\n",
    "\n",
    "# handle multiplication, check if either value is divisible by that amount\n",
    "\n",
    "rounds = 10000\n",
    "for round in range(rounds):\n",
    "    for monk in group.keys():\n",
    "        cycle(group, monk)\n",
    "    # print(f'{round} ', end='')\n",
    "\n",
    "inspect_lst = [x['inspected'] for x in group.values()]\n",
    "sorted(inspect_lst)[-1] * sorted(inspect_lst)[-2]"
   ]
  },
  {
   "cell_type": "code",
   "execution_count": 112,
   "metadata": {},
   "outputs": [
    {
     "data": {
      "text/plain": [
       "9699690"
      ]
     },
     "execution_count": 112,
     "metadata": {},
     "output_type": "execute_result"
    }
   ],
   "source": [
    "lcm_divisor"
   ]
  },
  {
   "cell_type": "code",
   "execution_count": null,
   "metadata": {},
   "outputs": [],
   "source": []
  }
 ],
 "metadata": {
  "kernelspec": {
   "display_name": "Python 3",
   "language": "python",
   "name": "python3"
  },
  "language_info": {
   "codemirror_mode": {
    "name": "ipython",
    "version": 3
   },
   "file_extension": ".py",
   "mimetype": "text/x-python",
   "name": "python",
   "nbconvert_exporter": "python",
   "pygments_lexer": "ipython3",
   "version": "3.8.2 (tags/v3.8.2:7b3ab59, Feb 25 2020, 23:03:10) [MSC v.1916 64 bit (AMD64)]"
  },
  "orig_nbformat": 4,
  "vscode": {
   "interpreter": {
    "hash": "570feb405e2e27c949193ac68f46852414290d515b0ba6e5d90d076ed2284471"
   }
  }
 },
 "nbformat": 4,
 "nbformat_minor": 2
}
