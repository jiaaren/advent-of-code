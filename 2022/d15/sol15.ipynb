{
 "cells": [
  {
   "cell_type": "code",
   "execution_count": 243,
   "metadata": {},
   "outputs": [],
   "source": [
    "from re import match\n",
    "\n",
    "with open('input.txt') as f:\n",
    "    file = f.read()\n",
    "\n",
    "sensor_beacon_lst = []\n",
    "for l in file.split('\\n'):\n",
    "    # using re.match\n",
    "    res = match(r'Sensor at x=([\\d-]+), y=([\\d-]+): closest beacon is at x=([\\d-]+), y=([\\d-]+)', l)\n",
    "    s_x, s_y, b_x, b_y = res.groups()\n",
    "    sensor_beacon_lst.append(((int(s_x), int(s_y)), (int(b_x), int(b_y))))"
   ]
  },
  {
   "cell_type": "code",
   "execution_count": 244,
   "metadata": {},
   "outputs": [],
   "source": [
    "def find_spread(sensor_beacon, row_index):\n",
    "    # sensor beacon in the form of ((s_x, s_y), (b_x, b_y))\n",
    "    # unpack here\n",
    "    ((s_x, s_y), (b_x, b_y)) = sensor_beacon\n",
    "    side_len = abs(s_x - b_x) + abs(s_y - b_y)\n",
    "    if (row_index < s_y - side_len) or (row_index > s_y + side_len):\n",
    "        return None\n",
    "    half_len = side_len - abs(row_index - s_y)\n",
    "    return (s_x - half_len, s_x + half_len)\n",
    "\n",
    "# spread at specific row, e.g. row 10\n",
    "total_spread = []\n",
    "\n",
    "for sensor_beacon in sensor_beacon_lst:\n",
    "    res = find_spread(sensor_beacon, 2000000)\n",
    "    if res: total_spread.append(res)"
   ]
  },
  {
   "cell_type": "code",
   "execution_count": 245,
   "metadata": {},
   "outputs": [
    {
     "data": {
      "text/plain": [
       "[(2551426, 2816974),\n",
       " (-529240, 2535964),\n",
       " (1936984, 2348326),\n",
       " (2775464, 2816974),\n",
       " (2907614, 4874050),\n",
       " (2816974, 2840710),\n",
       " (2634594, 2816974),\n",
       " (2964982, 4183712),\n",
       " (2816974, 2939030),\n",
       " (465023, 625803),\n",
       " (472610, 727652),\n",
       " (2121872, 2816974)]"
      ]
     },
     "execution_count": 245,
     "metadata": {},
     "output_type": "execute_result"
    }
   ],
   "source": [
    "total_spread"
   ]
  },
  {
   "cell_type": "code",
   "execution_count": 246,
   "metadata": {},
   "outputs": [],
   "source": [
    "# def find_island(total_spread):\n",
    "\n",
    "#     while True:\n",
    "#         ranges = []\n",
    "#         prev_spread = total_spread.copy()\n",
    "#         for x_start, x_end in total_spread:\n",
    "#             if not ranges: ranges.append([x_start, x_end])\n",
    "#             else:\n",
    "#                 for i, (rx_start, rx_end) in enumerate(ranges):\n",
    "#                     if x_start >= rx_start and x_end <= rx_end:\n",
    "#                         break\n",
    "#                     elif (x_start < rx_start and x_end < rx_start) or (x_start > rx_end and x_end > rx_end):\n",
    "#                         ranges.append([x_start, x_end])\n",
    "#                         break\n",
    "#                     else:\n",
    "#                         if x_start < rx_start:\n",
    "#                             ranges[i][0] = x_start\n",
    "#                         if x_end > rx_end:\n",
    "#                             ranges[i][1] = x_end\n",
    "#         if ranges == prev_spread:\n",
    "#             break\n",
    "#         total_spread = ranges.copy()\n",
    "        \n",
    "#     return ranges\n",
    "\n",
    "# ranges = find_island(total_spread)"
   ]
  },
  {
   "cell_type": "code",
   "execution_count": 247,
   "metadata": {},
   "outputs": [
    {
     "data": {
      "text/plain": [
       "[(-529240, 2535964),\n",
       " (465023, 625803),\n",
       " (472610, 727652),\n",
       " (1936984, 2348326),\n",
       " (2121872, 2816974),\n",
       " (2551426, 2816974),\n",
       " (2634594, 2816974),\n",
       " (2775464, 2816974),\n",
       " (2816974, 2840710),\n",
       " (2816974, 2939030),\n",
       " (2907614, 4874050),\n",
       " (2964982, 4183712)]"
      ]
     },
     "execution_count": 247,
     "metadata": {},
     "output_type": "execute_result"
    }
   ],
   "source": [
    "sorted(total_spread)"
   ]
  },
  {
   "cell_type": "code",
   "execution_count": 248,
   "metadata": {},
   "outputs": [
    {
     "data": {
      "text/plain": [
       "[[-529240, 4874050]]"
      ]
     },
     "execution_count": 248,
     "metadata": {},
     "output_type": "execute_result"
    }
   ],
   "source": [
    "def check_island(x_start, x_end, ranges):\n",
    "    t_ranges = ranges.copy()\n",
    "    if not ranges:\n",
    "        t_ranges.append([x_start, x_end])\n",
    "        return t_ranges\n",
    "    j = 0\n",
    "    for i, (rx_start, rx_end) in enumerate(t_ranges):\n",
    "        if x_start > rx_end:\n",
    "            j += 1\n",
    "        # these 2 conditions checks for partial ovelap, \n",
    "        elif (rx_end >= x_start >= rx_start) or (rx_end >= x_end >= rx_start):\n",
    "            if x_start < rx_start:\n",
    "                t_ranges[i][0] = x_start\n",
    "            if x_end > rx_end:\n",
    "                t_ranges[i][1] = x_end\n",
    "            break\n",
    "        # this condition checks for full overlap, basically the inverse of the first if statement\n",
    "        elif rx_start >= x_start and rx_end <= x_end:\n",
    "            t_ranges[i] = [x_start, x_end]\n",
    "            break\n",
    "    if j == len(t_ranges):\n",
    "        t_ranges.append([x_start, x_end])\n",
    "    return t_ranges\n",
    "\n",
    "def find_island(total_spread):\n",
    "    total_spread = sorted(total_spread)\n",
    "    ranges = []\n",
    "    for x_start, x_end in total_spread:\n",
    "        ranges = check_island(x_start, x_end, ranges)\n",
    "    return ranges\n",
    "\n",
    "ranges = find_island(sorted(total_spread))\n",
    "ranges"
   ]
  },
  {
   "cell_type": "code",
   "execution_count": 249,
   "metadata": {},
   "outputs": [
    {
     "data": {
      "text/plain": [
       "5403290"
      ]
     },
     "execution_count": 249,
     "metadata": {},
     "output_type": "execute_result"
    }
   ],
   "source": [
    "def count_ranges(ranges, row_num, sensor_beacon_lst=sensor_beacon_lst):\n",
    "    num_hash = 0\n",
    "    # add up all the ranges\n",
    "    for x_start, x_end in ranges:\n",
    "        num_hash += x_end - x_start + 1\n",
    "    # remove instances where sensors or beacons are in the range\n",
    "    # need to convert beacon into a set to remove duplciates\n",
    "\n",
    "    for (s_x, s_y), (b_x, b_y) in sensor_beacon_lst:\n",
    "        if s_y == row_num: num_hash -= 1\n",
    "        # need to convert beacon to set first\n",
    "        # if b_y == row_num: num_hash -= 1\n",
    "    beacon_set = set([x[1] for x in sensor_beacon_lst])\n",
    "    for (b_x, b_y) in beacon_set:\n",
    "        if b_y == row_num: num_hash -= 1\n",
    "    \n",
    "    return num_hash\n",
    "\n",
    "count_ranges(ranges, 2000000)"
   ]
  },
  {
   "cell_type": "code",
   "execution_count": 250,
   "metadata": {},
   "outputs": [
    {
     "data": {
      "text/plain": [
       "5403290"
      ]
     },
     "execution_count": 250,
     "metadata": {},
     "output_type": "execute_result"
    }
   ],
   "source": [
    "# part 1 summary\n",
    "def get_row_range(row_num):\n",
    "    total_spread = []\n",
    "\n",
    "    for sensor_beacon in sensor_beacon_lst:\n",
    "        res = find_spread(sensor_beacon, row_num)\n",
    "        if res: total_spread.append(res)\n",
    "\n",
    "    ranges = find_island(total_spread)\n",
    "    count = count_ranges(ranges, row_num)\n",
    "\n",
    "    return count\n",
    "\n",
    "get_row_range(2000000)"
   ]
  },
  {
   "cell_type": "code",
   "execution_count": 251,
   "metadata": {},
   "outputs": [],
   "source": [
    "# make map for part 2\n",
    "from collections import defaultdict\n",
    "sb_dict = defaultdict(list)\n",
    "\n",
    "for (s_x, s_y), (b_x, b_y) in sensor_beacon_lst:\n",
    "    sb_dict[s_y] = [(s_x, s_y)]\n",
    "beacon_set = set([x[1] for x in sensor_beacon_lst])\n",
    "for b_x, b_y in beacon_set:\n",
    "    if b_y not in sb_dict:\n",
    "        sb_dict[b_y] = [(b_x, b_y)]\n",
    "    else: sb_dict[b_y].append((b_x, b_y))"
   ]
  },
  {
   "cell_type": "code",
   "execution_count": 252,
   "metadata": {},
   "outputs": [
    {
     "data": {
      "text/plain": [
       "defaultdict(list,\n",
       "            {3759110: [(2557568, 3759110)],\n",
       "             1861612: [(2684200, 1861612)],\n",
       "             1946094: [(1003362, 1946094)],\n",
       "             1481541: [(2142655, 1481541)],\n",
       "             1955744: [(2796219, 1955744)],\n",
       "             1818644: [(3890832, 1818644)],\n",
       "             1921726: [(2828842, 1921726)],\n",
       "             583957: [(2065227, 583957)],\n",
       "             2088998: [(2725784, 2088998)],\n",
       "             927734: [(3574347, 927734)],\n",
       "             2652370: [(2939312, 2652370)],\n",
       "             3681541: [(2495187, 3681541)],\n",
       "             2054681: [(2878002, 2054681)],\n",
       "             3235516: [(1539310, 3235516)],\n",
       "             533006: [(545413, 533006)],\n",
       "             3980292: [(1828899, 3980292)],\n",
       "             2937931: [(3275729, 2937931)],\n",
       "             3861189: [(600131, 3861189)],\n",
       "             28975: [(2089895, 28975)],\n",
       "             3942666: [(2960402, 3942666)],\n",
       "             3905392: [(3785083, 3905392)],\n",
       "             1077173: [(1721938, 1077173)],\n",
       "             3751221: [(2515156, 3751221)],\n",
       "             2109095: [(2469423, 2109095)],\n",
       "             904092: [(1776986, 904092)],\n",
       "             3316115: [(2789294, 3316115)],\n",
       "             2695066: [(3538757, 2695066)],\n",
       "             2708004: [(2299738, 2708004)],\n",
       "             3234346: [(2388366, 3234346)],\n",
       "             967542: [(1932524, 967542)],\n",
       "             3703654: [(2431306, 3703654)],\n",
       "             2563441: [(1972523, 2563441)],\n",
       "             2547103: [(3454717, 2547103)],\n",
       "             69689: [(-538654, 69689)],\n",
       "             2000000: [(2816974, 2000000)],\n",
       "             3746832: [(2594124, 3746832)]})"
      ]
     },
     "execution_count": 252,
     "metadata": {},
     "output_type": "execute_result"
    }
   ],
   "source": [
    "sb_dict"
   ]
  },
  {
   "cell_type": "code",
   "execution_count": null,
   "metadata": {},
   "outputs": [],
   "source": []
  },
  {
   "cell_type": "code",
   "execution_count": 253,
   "metadata": {},
   "outputs": [],
   "source": [
    "# part 2\n",
    "\n",
    "def count_ranges2(ranges, row_num, limit, sensor_beacon_lst=sensor_beacon_lst):\n",
    "    num_hash = 0\n",
    "    # add up all the ranges\n",
    "    for x_start, x_end in ranges:\n",
    "        if x_end > limit: x_end = limit\n",
    "        if x_start < 0: x_start = 0\n",
    "        num_hash += x_end - x_start + 1\n",
    "    # if num_hash != limit + 1:\n",
    "    #     if row_num in sb_dict: num_hash += sb_dict[row_num]\n",
    "    return num_hash\n",
    "\n",
    "# part 2 summary\n",
    "def get_row_range2(row_num, limit=20):\n",
    "    total_spread = []\n",
    "\n",
    "    for sensor_beacon in sensor_beacon_lst:\n",
    "        res = find_spread(sensor_beacon, row_num)\n",
    "        if res: total_spread.append(res)\n",
    "    if row_num in sb_dict:\n",
    "        total_spread.extend(sb_dict[row_num])\n",
    "    # need to sort\n",
    "    ranges = find_island(sorted(total_spread))\n",
    "    count = count_ranges2(ranges, row_num, limit)\n",
    "\n",
    "    return count, ranges"
   ]
  },
  {
   "cell_type": "code",
   "execution_count": 254,
   "metadata": {},
   "outputs": [
    {
     "name": "stdout",
     "output_type": "stream",
     "text": [
      "y=2906626, x=[[-434016, 2572894], [2572896, 4135836]], count=4000000\n"
     ]
    }
   ],
   "source": [
    "for i in range(4000000 + 1):\n",
    "    count_hash, range_hash = get_row_range2(i, limit=4000000)\n",
    "    if count_hash != (4000000 + 1):\n",
    "        print(f'y={i}, x={range_hash}, count={count_hash}')\n",
    "        break"
   ]
  },
  {
   "cell_type": "code",
   "execution_count": 258,
   "metadata": {},
   "outputs": [
    {
     "data": {
      "text/plain": [
       "10291582906626"
      ]
     },
     "execution_count": 258,
     "metadata": {},
     "output_type": "execute_result"
    }
   ],
   "source": [
    "(2572895 * 4000000) + 2906626"
   ]
  },
  {
   "cell_type": "code",
   "execution_count": null,
   "metadata": {},
   "outputs": [],
   "source": []
  }
 ],
 "metadata": {
  "kernelspec": {
   "display_name": "Python 3",
   "language": "python",
   "name": "python3"
  },
  "language_info": {
   "codemirror_mode": {
    "name": "ipython",
    "version": 3
   },
   "file_extension": ".py",
   "mimetype": "text/x-python",
   "name": "python",
   "nbconvert_exporter": "python",
   "pygments_lexer": "ipython3",
   "version": "3.8.2 (tags/v3.8.2:7b3ab59, Feb 25 2020, 23:03:10) [MSC v.1916 64 bit (AMD64)]"
  },
  "orig_nbformat": 4,
  "vscode": {
   "interpreter": {
    "hash": "570feb405e2e27c949193ac68f46852414290d515b0ba6e5d90d076ed2284471"
   }
  }
 },
 "nbformat": 4,
 "nbformat_minor": 2
}
