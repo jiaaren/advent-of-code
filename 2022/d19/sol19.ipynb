{
 "cells": [
  {
   "cell_type": "code",
   "execution_count": 163,
   "metadata": {},
   "outputs": [],
   "source": [
    "import re\n",
    "from math import ceil\n",
    "with open('input2.txt') as f:\n",
    "    file = f.read()\n",
    "\n",
    "bp_dict = {}\n",
    "for l in file.split('\\n'):\n",
    "    r = re.match('Blueprint ([0-9]+): Each ore robot costs ([0-9]+) ore. Each clay robot costs ([0-9]+) ore. Each obsidian robot costs ([0-9]+) ore and ([0-9]+) clay. Each geode robot costs ([0-9]+) ore and ([0-9]+) obsidian.', l)\n",
    "    r = [int(x) for x in r.groups()]\n",
    "    t_d = {}\n",
    "    t_d['o_r'] = {'o': r[1]}\n",
    "    t_d['c_r'] = {'o': r[2]}\n",
    "    t_d['ob_r'] = {'o': r[3], 'c': r[4]}\n",
    "    t_d['g_r'] = {'o': r[5], 'ob': r[6]}\n",
    "    bp_dict[r[0]] = t_d\n",
    "\n",
    "robot_resource_mapping = {\n",
    "    'o_r': 'o',\n",
    "    'c_r': 'c',\n",
    "    'ob_r': 'ob',\n",
    "    'g_r': 'g'\n",
    "}\n",
    "\n",
    "resource_robot_mapping = {v:k for k,v in robot_resource_mapping.items()}\n",
    "\n",
    "start_robots = {\n",
    "    'o_r': 1,\n",
    "    'c_r': 0,\n",
    "    'ob_r': 0,\n",
    "    'g_r': 0\n",
    "}\n",
    "\n",
    "start_resources = {\n",
    "    'o': 0,\n",
    "    'c': 0,\n",
    "    'ob': 0,\n",
    "    'g': 0\n",
    "}\n",
    "\n",
    "def check_available_resources(robot_schema, resources):\n",
    "    for r, amt in robot_schema.items():\n",
    "        if resources[r] < amt:\n",
    "            return False\n",
    "    return True\n",
    "\n",
    "def check_available_robots(robot_schema, robots):\n",
    "    # robot schema, e.g. {'o': 4}\n",
    "    for r in robot_schema.keys():\n",
    "        if robots[f'{r}_r'] <= 0:\n",
    "            return False\n",
    "    return True\n",
    "\n",
    "def consume_resources(robot_schema, resources):\n",
    "    for r, amt in robot_schema.items():\n",
    "        resources[r] -= amt\n",
    "\n",
    "def increment_resources(robots, resources):\n",
    "    for r, amt in robots.items():\n",
    "        resources[r.strip('_r')] += amt\n",
    "\n",
    "def how_long_to_wait(resources, robot_schema, robots, robot_name):\n",
    "    resources = resources.copy()\n",
    "    robots = robots.copy()\n",
    "    time = 0\n",
    "    # make sure to execute only after check_available_robots is evaluated to be True\n",
    "    if check_available_resources(robot_schema, resources):\n",
    "        consume_resources(robot_schema, resources)\n",
    "        increment_resources(robots, resources)\n",
    "        robots[robot_name] += 1\n",
    "        time = 1\n",
    "    else:\n",
    "        if check_available_robots(robot_schema, robots):\n",
    "            add_resource_req = {}\n",
    "            for res, amt in robot_schema.items():\n",
    "                add_resource_req[res] = amt - resources[res]\n",
    "            time = []\n",
    "            for res, amt in add_resource_req.items():\n",
    "                time.append(ceil(amt / robots[f'{res}_r']))\n",
    "            time = max(time) + 1\n",
    "\n",
    "            increment_resources({k:v*(time ) for k, v in robots.items()}, resources)\n",
    "            consume_resources(robot_schema, resources)\n",
    "            robots[robot_name] += 1\n",
    "        else:\n",
    "            # increment_resources(robots, resources)\n",
    "            # time = 1\n",
    "            return None\n",
    "\n",
    "    return resources, robots, time\n",
    "\n"
   ]
  },
  {
   "cell_type": "code",
   "execution_count": 164,
   "metadata": {},
   "outputs": [
    {
     "data": {
      "text/plain": [
       "({'o': 1, 'c': 2, 'ob': 0, 'g': 0},\n",
       " {'o_r': 1, 'c_r': 1, 'ob_r': 1, 'g_r': 0},\n",
       " 2)"
      ]
     },
     "execution_count": 164,
     "metadata": {},
     "output_type": "execute_result"
    }
   ],
   "source": [
    "how_long_to_wait({'o': 1, 'c': 0, 'ob': 0, 'g': 0}, {'o': 2}, {'o_r': 1, 'c_r': 1, 'ob_r': 0, 'g_r': 0}, 'ob_r')"
   ]
  },
  {
   "cell_type": "code",
   "execution_count": 165,
   "metadata": {},
   "outputs": [
    {
     "data": {
      "text/plain": [
       "['g_r', 'ob_r', 'c_r', 'o_r']"
      ]
     },
     "execution_count": 165,
     "metadata": {},
     "output_type": "execute_result"
    }
   ],
   "source": [
    "rev_r_lst = list(robot_resource_mapping.keys())[::-1]\n",
    "rev_r_lst"
   ]
  },
  {
   "cell_type": "code",
   "execution_count": 168,
   "metadata": {},
   "outputs": [
    {
     "name": "stdout",
     "output_type": "stream",
     "text": [
      "{'o': 0, 'c': 0, 'ob': 0, 'g': 0} {'o_r': 1, 'c_r': 0, 'ob_r': 0, 'g_r': 0} 0 c_r\n",
      "{'o': 1, 'c': 0, 'ob': 0, 'g': 0} {'o_r': 1, 'c_r': 1, 'ob_r': 0, 'g_r': 0} 3 3 c_r\n",
      "\n",
      "{'o': 1, 'c': 0, 'ob': 0, 'g': 0} {'o_r': 1, 'c_r': 1, 'ob_r': 0, 'g_r': 0} 3 c_r\n",
      "{'o': 1, 'c': 2, 'ob': 0, 'g': 0} {'o_r': 1, 'c_r': 2, 'ob_r': 0, 'g_r': 0} 2 5 c_r\n",
      "\n",
      "{'o': 0, 'c': 0, 'ob': 0, 'g': 0} {'o_r': 1, 'c_r': 0, 'ob_r': 0, 'g_r': 0} 0 o_r\n",
      "{'o': 1, 'c': 0, 'ob': 0, 'g': 0} {'o_r': 2, 'c_r': 0, 'ob_r': 0, 'g_r': 0} 5 5 o_r\n",
      "\n"
     ]
    },
    {
     "data": {
      "text/plain": [
       "0"
      ]
     },
     "execution_count": 168,
     "metadata": {},
     "output_type": "execute_result"
    }
   ],
   "source": [
    "def get_key(resources):\n",
    "    i = 0\n",
    "    for val in resources.values():\n",
    "        i = i * 100 + val\n",
    "    return i\n",
    "\n",
    "def r(bp, resources, robots, min_, maxtime, state, bp_max):\n",
    "    max_geode = 0\n",
    "    if min_ > maxtime:\n",
    "        return resources['g']\n",
    "\n",
    "    for robot_name in rev_r_lst:\n",
    "        if robots[robot_name] >= bp_max[robot_name.strip('_r')]:\n",
    "            continue\n",
    "        tmp_tuple = how_long_to_wait(resources, bp[robot_name], robots, robot_name)\n",
    "        if tmp_tuple is not None:\n",
    "            upt_res, upt_rob, time = tmp_tuple\n",
    "            if min_ + time > maxtime:\n",
    "                continue\n",
    "            print(resources, robots, min_, robot_name)\n",
    "            print(upt_res, upt_rob, time, min_ + time , robot_name)\n",
    "            print()\n",
    "            max_geode = max(max_geode, r(bp, upt_res, upt_rob, min_ + time, maxtime, state, bp_max))\n",
    "\n",
    "            # if we can build a geode robot, don't bother building further robots\n",
    "            if robot_name == 'g_r':\n",
    "                break\n",
    "\n",
    "    return max_geode\n",
    "\n",
    "bp = bp_dict[1]\n",
    "bp_max = {'o': 0, 'c': 0, 'ob': 0, 'g': 0}\n",
    "for rob in bp.values():\n",
    "    for k, v in rob.items():\n",
    "        bp_max[k] = max(bp_max[k], v)\n",
    "r(bp, start_resources, start_robots, 0, 5, {}, bp_max)"
   ]
  },
  {
   "cell_type": "code",
   "execution_count": 82,
   "metadata": {},
   "outputs": [
    {
     "data": {
      "text/plain": [
       "24242424"
      ]
     },
     "execution_count": 82,
     "metadata": {},
     "output_type": "execute_result"
    }
   ],
   "source": [
    "def get_key(resources):\n",
    "    i = 0\n",
    "    for val in resources.values():\n",
    "        i = i * 100 + val\n",
    "    return i\n",
    "\n",
    "get_key({\n",
    "    'o': 24,\n",
    "    'c': 24,\n",
    "    'ob': 24,\n",
    "    'g': 24\n",
    "})\n"
   ]
  },
  {
   "cell_type": "code",
   "execution_count": 69,
   "metadata": {},
   "outputs": [
    {
     "data": {
      "text/plain": [
       "2678088"
      ]
     },
     "execution_count": 69,
     "metadata": {},
     "output_type": "execute_result"
    }
   ],
   "source": [
    "import sys\n",
    "sys.getsizeof([x for x in range(24**4)])"
   ]
  },
  {
   "cell_type": "code",
   "execution_count": null,
   "metadata": {
    "vscode": {
     "languageId": "javascript"
    }
   },
   "outputs": [],
   "source": []
  }
 ],
 "metadata": {
  "kernelspec": {
   "display_name": "Python 3",
   "language": "python",
   "name": "python3"
  },
  "language_info": {
   "codemirror_mode": {
    "name": "ipython",
    "version": 3
   },
   "file_extension": ".py",
   "mimetype": "text/x-python",
   "name": "python",
   "nbconvert_exporter": "python",
   "pygments_lexer": "ipython3",
   "version": "3.8.2"
  },
  "orig_nbformat": 4,
  "vscode": {
   "interpreter": {
    "hash": "570feb405e2e27c949193ac68f46852414290d515b0ba6e5d90d076ed2284471"
   }
  }
 },
 "nbformat": 4,
 "nbformat_minor": 2
}
