{
 "cells": [
  {
   "cell_type": "code",
   "execution_count": 8,
   "metadata": {},
   "outputs": [
    {
     "name": "stdout",
     "output_type": "stream",
     "text": [
      "1909\n"
     ]
    }
   ],
   "source": [
    "with open('input.txt') as f:\n",
    "    file = f.read()\n",
    "\n",
    "grp_len = 4\n",
    "\n",
    "for i in range(len(file)):\n",
    "    grp = set(file[i: i+grp_len])\n",
    "    if len(grp) == grp_len:\n",
    "        print(i + grp_len)\n",
    "        break"
   ]
  },
  {
   "cell_type": "code",
   "execution_count": 9,
   "metadata": {},
   "outputs": [
    {
     "name": "stdout",
     "output_type": "stream",
     "text": [
      "3380\n"
     ]
    }
   ],
   "source": [
    "with open('input.txt') as f:\n",
    "    file = f.read()\n",
    "\n",
    "# just change this to 14\n",
    "grp_len = 14\n",
    "\n",
    "for i in range(len(file)):\n",
    "    grp = set(file[i: i+grp_len])\n",
    "    if len(grp) == grp_len:\n",
    "        print(i + grp_len)\n",
    "        break"
   ]
  },
  {
   "cell_type": "code",
   "execution_count": null,
   "metadata": {},
   "outputs": [],
   "source": []
  }
 ],
 "metadata": {
  "kernelspec": {
   "display_name": "Python 3.8.2 64-bit",
   "language": "python",
   "name": "python3"
  },
  "language_info": {
   "codemirror_mode": {
    "name": "ipython",
    "version": 3
   },
   "file_extension": ".py",
   "mimetype": "text/x-python",
   "name": "python",
   "nbconvert_exporter": "python",
   "pygments_lexer": "ipython3",
   "version": "3.8.2 (tags/v3.8.2:7b3ab59, Feb 25 2020, 23:03:10) [MSC v.1916 64 bit (AMD64)]"
  },
  "orig_nbformat": 4,
  "vscode": {
   "interpreter": {
    "hash": "570feb405e2e27c949193ac68f46852414290d515b0ba6e5d90d076ed2284471"
   }
  }
 },
 "nbformat": 4,
 "nbformat_minor": 2
}
