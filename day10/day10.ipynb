{
 "cells": [
  {
   "cell_type": "code",
   "execution_count": 4,
   "metadata": {},
   "outputs": [],
   "source": [
    "with open('day10.txt', 'r') as f:\n",
    "    f_lst = [x.strip() for x in f]"
   ]
  },
  {
   "cell_type": "code",
   "execution_count": 5,
   "metadata": {},
   "outputs": [],
   "source": [
    "pairs = [\"{}\", \"()\", \"[]\", \"<>\"]\n",
    "close_mark = \")]}>\"\n",
    "\n",
    "def cut(s):\n",
    "    str_len = len(s)\n",
    "    tmp_s = s\n",
    "    while(True):\n",
    "        for pair in pairs:\n",
    "            tmp_s = tmp_s.replace(pair, \"\")\n",
    "        if len(tmp_s) == str_len:\n",
    "            break\n",
    "        str_len = len(tmp_s)\n",
    "    for c in tmp_s:\n",
    "        if c in close_mark:\n",
    "            return c\n",
    "    return 'x'"
   ]
  },
  {
   "cell_type": "code",
   "execution_count": 6,
   "metadata": {},
   "outputs": [],
   "source": [
    "close_dict = {x:0 for x in close_mark}\n",
    "corrupted = []\n",
    "incomplete = []\n",
    "\n",
    "for item in f_lst:\n",
    "    c = cut(item)\n",
    "    if c == 'x':\n",
    "        incomplete.append(item)\n",
    "        continue\n",
    "    close_dict[c] += 1\n",
    "    corrupted.append(item)"
   ]
  },
  {
   "cell_type": "code",
   "execution_count": 7,
   "metadata": {},
   "outputs": [
    {
     "data": {
      "text/plain": [
       "294195"
      ]
     },
     "execution_count": 7,
     "metadata": {},
     "output_type": "execute_result"
    }
   ],
   "source": [
    "score = [3, 57, 1197, 25137]\n",
    "for i in range(len(score)):\n",
    "    score[i] *= list(close_dict.values())[i]\n",
    "# part 1\n",
    "sum(score)"
   ]
  },
  {
   "cell_type": "code",
   "execution_count": null,
   "metadata": {},
   "outputs": [],
   "source": []
  },
  {
   "cell_type": "code",
   "execution_count": 8,
   "metadata": {},
   "outputs": [],
   "source": [
    "def cut2(s):\n",
    "    str_len = len(s)\n",
    "    tmp_s = s\n",
    "    while(True):\n",
    "        for pair in pairs:\n",
    "            tmp_s = tmp_s.replace(pair, \"\")\n",
    "        if len(tmp_s) == str_len:\n",
    "            break\n",
    "        str_len = len(tmp_s)\n",
    "    return tmp_s"
   ]
  },
  {
   "cell_type": "code",
   "execution_count": 9,
   "metadata": {},
   "outputs": [
    {
     "data": {
      "text/plain": [
       "{'(': 1, '[': 2, '{': 3, '<': 4}"
      ]
     },
     "execution_count": 9,
     "metadata": {},
     "output_type": "execute_result"
    }
   ],
   "source": [
    "open_marks = \"([{<\"\n",
    "marks = [1, 2, 3, 4]\n",
    "open_dict = {x:num for x, num in zip(open_marks, marks)}\n",
    "open_dict"
   ]
  },
  {
   "cell_type": "code",
   "execution_count": 10,
   "metadata": {},
   "outputs": [],
   "source": [
    "def score(s):\n",
    "    tmp_dict = open_dict\n",
    "    tot = 0\n",
    "    for c in reversed(s):\n",
    "        tot = tot * 5 + open_dict[c]\n",
    "    return tot"
   ]
  },
  {
   "cell_type": "code",
   "execution_count": 11,
   "metadata": {},
   "outputs": [
    {
     "data": {
      "text/plain": [
       "3490802734"
      ]
     },
     "execution_count": 11,
     "metadata": {},
     "output_type": "execute_result"
    }
   ],
   "source": [
    "scores = []\n",
    "for item in incomplete:\n",
    "    scores.append(score(cut2(item)))\n",
    "# Part 2\n",
    "sorted(scores)[len(scores)// 2]"
   ]
  }
 ],
 "metadata": {
  "kernelspec": {
   "display_name": "Python 3",
   "language": "python",
   "name": "python3"
  },
  "language_info": {
   "codemirror_mode": {
    "name": "ipython",
    "version": 3
   },
   "file_extension": ".py",
   "mimetype": "text/x-python",
   "name": "python",
   "nbconvert_exporter": "python",
   "pygments_lexer": "ipython3",
   "version": "3.8.3"
  }
 },
 "nbformat": 4,
 "nbformat_minor": 4
}
