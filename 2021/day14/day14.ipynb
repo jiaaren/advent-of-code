{
 "cells": [
  {
   "cell_type": "code",
   "execution_count": 1,
   "metadata": {},
   "outputs": [],
   "source": [
    "with open('day14.txt', 'r') as f:\n",
    "    f_lst = [x.strip().split(' -> ') for x in f]\n",
    "w = 'PHVCVBFHCVPFKBNHKNBO'\n",
    "pair_dict = {key:value for key, value in f_lst}"
   ]
  },
  {
   "cell_type": "code",
   "execution_count": 2,
   "metadata": {},
   "outputs": [],
   "source": [
    "my_pair = {}\n",
    "for i in range(len(w) - 1):\n",
    "    two = w[i:i+2]\n",
    "    if two not in my_pair:\n",
    "        my_pair[two] = 1\n",
    "    else:\n",
    "        my_pair[two] += 1"
   ]
  },
  {
   "cell_type": "code",
   "execution_count": 3,
   "metadata": {},
   "outputs": [],
   "source": [
    "def cycle(my_dict):\n",
    "    my_pair = my_dict.copy()\n",
    "    for key, values in my_dict.items():\n",
    "        if values == 0:\n",
    "            continue\n",
    "        if key in pair_dict:\n",
    "            val = pair_dict[key]\n",
    "            first = f'{key[0]}{val}'\n",
    "            second = f'{val}{key[1]}'\n",
    "            if first in my_pair:\n",
    "                my_pair[first] += values\n",
    "            else:\n",
    "                my_pair[first] = values\n",
    "            if second in my_pair:\n",
    "                my_pair[second] += values\n",
    "            else:\n",
    "                my_pair[second] = values\n",
    "            my_pair[key] -= values\n",
    "    return my_pair"
   ]
  },
  {
   "cell_type": "code",
   "execution_count": 4,
   "metadata": {},
   "outputs": [],
   "source": [
    "def gen_pairs(days, my_pair):\n",
    "    tmp = my_pair.copy()\n",
    "    for i in range(days):\n",
    "        tmp = cycle(tmp)\n",
    "    return tmp"
   ]
  },
  {
   "cell_type": "code",
   "execution_count": 5,
   "metadata": {},
   "outputs": [],
   "source": [
    "def calc_ans(days, my_pair):\n",
    "    tmp = my_pair.copy()\n",
    "    ans = gen_pairs(days, tmp)\n",
    "\n",
    "    char_lst = set()\n",
    "    for x in ans:\n",
    "        char_lst.add(x[0])\n",
    "        char_lst.add(x[1])\n",
    "    \n",
    "    empty = {}\n",
    "    for c in char_lst:\n",
    "        neg = 0\n",
    "        pos = 0\n",
    "        dub = 0\n",
    "        for key, value in ans.items():\n",
    "            if key[0] == c and key[1] == c:\n",
    "                dub = value\n",
    "            elif c == key[0]:\n",
    "                pos += value\n",
    "            elif c == key[1]:\n",
    "                neg += value\n",
    "        most = neg if neg > pos else pos\n",
    "        empty[c] = [neg, pos, dub, most + dub]\n",
    "    for key, value in empty.items():\n",
    "        print(f'{key} : {value[-1]}')\n",
    "    \n",
    "    least = float('inf')\n",
    "    most = 0\n",
    "    for key, item in empty.items():\n",
    "        if item[-1] > most:\n",
    "            most = item[-1]\n",
    "        if item[-1] < least:\n",
    "            least = item[-1]\n",
    "            \n",
    "    return most - least"
   ]
  },
  {
   "cell_type": "code",
   "execution_count": 6,
   "metadata": {},
   "outputs": [
    {
     "name": "stdout",
     "output_type": "stream",
     "text": [
      "O : 4461\n",
      "V : 2244\n",
      "B : 1811\n",
      "H : 1597\n",
      "C : 906\n",
      "K : 946\n",
      "N : 1239\n",
      "F : 1991\n",
      "P : 2617\n",
      "S : 1645\n"
     ]
    },
    {
     "data": {
      "text/plain": [
       "3555"
      ]
     },
     "execution_count": 6,
     "metadata": {},
     "output_type": "execute_result"
    }
   ],
   "source": [
    "# part1\n",
    "ans1 = calc_ans(10, my_pair)\n",
    "ans1"
   ]
  },
  {
   "cell_type": "code",
   "execution_count": 7,
   "metadata": {},
   "outputs": [
    {
     "name": "stdout",
     "output_type": "stream",
     "text": [
      "O : 5195084704903\n",
      "V : 2501671713686\n",
      "B : 1750740691551\n",
      "H : 1378718959755\n",
      "C : 755642661164\n",
      "K : 927295863022\n",
      "N : 1322198384438\n",
      "F : 2014715170153\n",
      "P : 3178628005225\n",
      "S : 1866024773848\n"
     ]
    },
    {
     "data": {
      "text/plain": [
       "4439442043739"
      ]
     },
     "execution_count": 7,
     "metadata": {},
     "output_type": "execute_result"
    }
   ],
   "source": [
    "# part 2\n",
    "ans2 = calc_ans(40, my_pair)\n",
    "ans2"
   ]
  },
  {
   "cell_type": "code",
   "execution_count": null,
   "metadata": {},
   "outputs": [],
   "source": []
  }
 ],
 "metadata": {
  "kernelspec": {
   "display_name": "Python 3",
   "language": "python",
   "name": "python3"
  },
  "language_info": {
   "codemirror_mode": {
    "name": "ipython",
    "version": 3
   },
   "file_extension": ".py",
   "mimetype": "text/x-python",
   "name": "python",
   "nbconvert_exporter": "python",
   "pygments_lexer": "ipython3",
   "version": "3.8.3"
  }
 },
 "nbformat": 4,
 "nbformat_minor": 4
}
