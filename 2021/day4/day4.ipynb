{
 "cells": [
  {
   "cell_type": "code",
   "execution_count": 1,
   "metadata": {
    "id": "lcsZUA7IWt-u"
   },
   "outputs": [],
   "source": [
    "f = open('day4.csv', 'r')\n",
    "file_contents = f.read()\n",
    "contents = file_contents.splitlines()"
   ]
  },
  {
   "cell_type": "code",
   "execution_count": 2,
   "metadata": {
    "id": "1OFFL9U8XkfE"
   },
   "outputs": [],
   "source": [
    "instruction = contents[0].split(',')\n",
    "instruction[0] = 26\n",
    "instruction[-1] = 48\n",
    "instruction = [int(x) for x in instruction]"
   ]
  },
  {
   "cell_type": "code",
   "execution_count": 3,
   "metadata": {
    "id": "Vy5vQoYIXwV8"
   },
   "outputs": [],
   "source": [
    "def make_grid(arr):\n",
    "  grid = []\n",
    "  for i in range(5):\n",
    "    # split without arguments split on whitespace by default\n",
    "    grid.append([int(x) for x in arr[i].split()])\n",
    "  return grid"
   ]
  },
  {
   "cell_type": "code",
   "execution_count": 4,
   "metadata": {
    "id": "x7Ta8wuxZENc"
   },
   "outputs": [],
   "source": [
    "# grid of grids\n",
    "gog = []\n",
    "# 6 to skip whitespace too\n",
    "for i in range (2, len(contents), 6):\n",
    "  gog.append(make_grid(contents[i: i+5]))"
   ]
  },
  {
   "cell_type": "code",
   "execution_count": 5,
   "metadata": {
    "id": "ePem0OXdZJMD"
   },
   "outputs": [],
   "source": [
    "# scan through grid and mark x\n",
    "def mark_x(grid, num):\n",
    "  for row in range(5):\n",
    "    for col in range(5):\n",
    "      if grid[row][col] == num:\n",
    "        grid[row][col] = 'X'"
   ]
  },
  {
   "cell_type": "code",
   "execution_count": 6,
   "metadata": {
    "id": "5jmLbx7PZqvI"
   },
   "outputs": [],
   "source": [
    "def is_complete(grid):\n",
    "  found = 0\n",
    "  \n",
    "  for row in range(5):\n",
    "    found = 0\n",
    "    for i in range(5):\n",
    "      if grid[row][i] == 'X':\n",
    "        found += 1\n",
    "    if found == 5:\n",
    "      return True\n",
    "\n",
    "  for col in range(5):\n",
    "    found = 0\n",
    "    for i in range(5):\n",
    "      if grid[i][col] == 'X':\n",
    "        found += 1\n",
    "    if found == 5:\n",
    "      return True\n",
    "\n",
    "  if grid[0][0] == grid[1][1] == grid[2][2] == grid[3][3] == grid[4][4] == 'X':\n",
    "    return True\n",
    "\n",
    "  if grid[4][0] == grid[3][1] == grid[2][2] == grid[1][3] == grid[0][4] == 'X':\n",
    "    return True\n",
    "\n",
    "  return False"
   ]
  },
  {
   "cell_type": "code",
   "execution_count": 7,
   "metadata": {
    "id": "6UsdifSEbww2"
   },
   "outputs": [],
   "source": [
    "def run():\n",
    "  tmp_gog = gog\n",
    "\n",
    "  for num in instruction:\n",
    "    for grid in tmp_gog:\n",
    "      mark_x(grid, num)\n",
    "\n",
    "    for grid in tmp_gog:\n",
    "      if is_complete(grid):\n",
    "        return (num, grid)\n",
    "      "
   ]
  },
  {
   "cell_type": "code",
   "execution_count": 8,
   "metadata": {
    "id": "tmNfimyud-dQ"
   },
   "outputs": [],
   "source": [
    "res = run()\n",
    "\n",
    "tot = 0\n",
    "\n",
    "for i in range(5):\n",
    "  for j in range(5):\n",
    "    if type(res[1][i][j]) == int:\n",
    "      tot += res[1][i][j]"
   ]
  },
  {
   "cell_type": "code",
   "execution_count": 9,
   "metadata": {
    "colab": {
     "base_uri": "https://localhost:8080/"
    },
    "id": "WAYqoO6Ifkfy",
    "outputId": "d68500fb-5a06-4a70-d3db-7b62fea7e4f8"
   },
   "outputs": [
    {
     "data": {
      "text/plain": [
       "870"
      ]
     },
     "execution_count": 9,
     "metadata": {},
     "output_type": "execute_result"
    }
   ],
   "source": [
    "tot"
   ]
  },
  {
   "cell_type": "code",
   "execution_count": 10,
   "metadata": {
    "colab": {
     "base_uri": "https://localhost:8080/"
    },
    "id": "4Jg1aIEEgiJC",
    "outputId": "1aefcd1a-3a8d-41ad-f336-33619d524c2f"
   },
   "outputs": [
    {
     "data": {
      "text/plain": [
       "(26,\n",
       " [[35, 30, 'X', 51, 'X'],\n",
       "  [98, 80, 'X', 62, 85],\n",
       "  [93, 'X', 'X', 65, 12],\n",
       "  [54, 32, 'X', 79, 'X'],\n",
       "  [5, 'X', 'X', 'X', 89]])"
      ]
     },
     "execution_count": 10,
     "metadata": {},
     "output_type": "execute_result"
    }
   ],
   "source": [
    "run()"
   ]
  },
  {
   "cell_type": "code",
   "execution_count": 11,
   "metadata": {
    "colab": {
     "base_uri": "https://localhost:8080/"
    },
    "id": "VreTzS4_hJQX",
    "outputId": "8b05c584-6857-4eea-a572-64452e75c7a0"
   },
   "outputs": [
    {
     "data": {
      "text/plain": [
       "870"
      ]
     },
     "execution_count": 11,
     "metadata": {},
     "output_type": "execute_result"
    }
   ],
   "source": [
    "35+30+51+98+80+62+85+93+65+12+54+32+79+5+89"
   ]
  },
  {
   "cell_type": "code",
   "execution_count": 12,
   "metadata": {
    "colab": {
     "base_uri": "https://localhost:8080/"
    },
    "id": "MWqiArLLhd-g",
    "outputId": "bd5bc450-b2eb-4e11-e7be-389b31dfcb83"
   },
   "outputs": [
    {
     "data": {
      "text/plain": [
       "35670"
      ]
     },
     "execution_count": 12,
     "metadata": {},
     "output_type": "execute_result"
    }
   ],
   "source": [
    "res[0] * tot"
   ]
  },
  {
   "cell_type": "code",
   "execution_count": null,
   "metadata": {
    "id": "rYq-cnzzh4Hk"
   },
   "outputs": [],
   "source": []
  },
  {
   "cell_type": "code",
   "execution_count": 13,
   "metadata": {
    "colab": {
     "base_uri": "https://localhost:8080/"
    },
    "id": "-wtnLkVKiO83",
    "outputId": "2890ccea-fb15-4681-d208-d11bd4b0e36f"
   },
   "outputs": [
    {
     "data": {
      "text/plain": [
       "100"
      ]
     },
     "execution_count": 13,
     "metadata": {},
     "output_type": "execute_result"
    }
   ],
   "source": [
    "len(gog)"
   ]
  },
  {
   "cell_type": "code",
   "execution_count": 14,
   "metadata": {
    "colab": {
     "base_uri": "https://localhost:8080/"
    },
    "id": "gHpaZjuwiP0l",
    "outputId": "f10ffb6e-59a4-4347-b8ee-c9f9a035023d"
   },
   "outputs": [
    {
     "data": {
      "text/plain": [
       "(88,\n",
       " [[3, 'X', 'X', 'X', 'X'],\n",
       "  ['X', 'X', 48, 'X', 'X'],\n",
       "  ['X', 5, 'X', 'X', 45],\n",
       "  ['X', 'X', 'X', 'X', 'X'],\n",
       "  [94, 'X', 'X', 'X', 63]])"
      ]
     },
     "execution_count": 14,
     "metadata": {},
     "output_type": "execute_result"
    }
   ],
   "source": [
    "def run2():\n",
    "  tmp_gog = gog\n",
    "  completed = 0\n",
    "  last_grid = []\n",
    "  index = []\n",
    "\n",
    "  for num in instruction:\n",
    "\n",
    "    for grid in tmp_gog:\n",
    "      mark_x(grid, num)\n",
    "\n",
    "    for i in range(len(tmp_gog)):\n",
    "      if i in index:\n",
    "        continue\n",
    "      if is_complete(tmp_gog[i]):\n",
    "        completed += 1\n",
    "        index.append(i)\n",
    "        last_grid = (tmp_gog[i])\n",
    "\n",
    "    if completed == 100:\n",
    "      return (num, last_grid)\n",
    "\n",
    "  \n",
    "run2()"
   ]
  },
  {
   "cell_type": "code",
   "execution_count": 15,
   "metadata": {
    "colab": {
     "base_uri": "https://localhost:8080/"
    },
    "id": "weKDbiQwipRD",
    "outputId": "96eca2c4-ba89-458b-f33b-a76de79715af"
   },
   "outputs": [
    {
     "data": {
      "text/plain": [
       "22704"
      ]
     },
     "execution_count": 15,
     "metadata": {},
     "output_type": "execute_result"
    }
   ],
   "source": [
    "(3+48+5+45+94+63) * 88"
   ]
  },
  {
   "cell_type": "code",
   "execution_count": null,
   "metadata": {
    "id": "aLyra7NzitFh"
   },
   "outputs": [],
   "source": []
  }
 ],
 "metadata": {
  "colab": {
   "collapsed_sections": [],
   "name": "day4.ipynb",
   "provenance": []
  },
  "kernelspec": {
   "display_name": "Python 3",
   "language": "python",
   "name": "python3"
  },
  "language_info": {
   "codemirror_mode": {
    "name": "ipython",
    "version": 3
   },
   "file_extension": ".py",
   "mimetype": "text/x-python",
   "name": "python",
   "nbconvert_exporter": "python",
   "pygments_lexer": "ipython3",
   "version": "3.8.3"
  }
 },
 "nbformat": 4,
 "nbformat_minor": 1
}
