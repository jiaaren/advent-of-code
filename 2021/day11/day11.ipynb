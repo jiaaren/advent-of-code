{
 "cells": [
  {
   "cell_type": "code",
   "execution_count": 1,
   "metadata": {},
   "outputs": [
    {
     "data": {
      "text/plain": [
       "[[4, 7, 2, 1, 2, 2, 4, 6, 6, 3],\n",
       " [6, 8, 7, 5, 4, 1, 5, 2, 7, 6],\n",
       " [2, 7, 4, 2, 4, 4, 8, 4, 2, 8],\n",
       " [4, 8, 7, 8, 2, 3, 1, 5, 5, 6],\n",
       " [5, 6, 8, 4, 6, 4, 3, 7, 4, 3],\n",
       " [3, 5, 5, 3, 6, 8, 1, 8, 6, 6],\n",
       " [4, 7, 8, 8, 1, 8, 3, 6, 2, 5],\n",
       " [4, 2, 5, 5, 8, 5, 6, 5, 3, 2],\n",
       " [1, 4, 1, 5, 8, 1, 8, 7, 7, 5],\n",
       " [2, 3, 2, 6, 8, 8, 6, 1, 2, 5]]"
      ]
     },
     "execution_count": 1,
     "metadata": {},
     "output_type": "execute_result"
    }
   ],
   "source": [
    "with open('day11.txt', 'r') as f:\n",
    "    f_lst = [x.strip() for x in f]\n",
    "grid = []\n",
    "for x in f_lst:\n",
    "    tmp = []\n",
    "    for a in x:\n",
    "        tmp.append(int(a))\n",
    "    grid.append(tmp)\n",
    "grid"
   ]
  },
  {
   "cell_type": "code",
   "execution_count": 2,
   "metadata": {},
   "outputs": [],
   "source": [
    "def inc_one(grid):\n",
    "    for x in range(len(grid)):\n",
    "        for y in range(len(grid[0])):\n",
    "            grid[x][y] += 1            "
   ]
  },
  {
   "cell_type": "code",
   "execution_count": 3,
   "metadata": {},
   "outputs": [],
   "source": [
    "mv = [[1, 1],[-1, 1],[1, -1],[-1, -1],[0, 1],[0, -1],[-1, 0],[1, 0]]\n",
    "\n",
    "def check_blow(grid):\n",
    "    y_len = len(grid)\n",
    "    x_len = len(grid[0])\n",
    "    changes = 0\n",
    "    flashes = 0\n",
    "    for y in range(y_len):\n",
    "        for x in range(x_len):\n",
    "            if grid[y][x] > 9:\n",
    "                grid[y][x] = 0\n",
    "                flashes += 1\n",
    "                for x_m, y_m in mv:\n",
    "                    adj_x = x + x_m\n",
    "                    adj_y = y + y_m\n",
    "                    if adj_x < 0 or adj_y < 0 or adj_x >= x_len or adj_y >= y_len:\n",
    "                        continue\n",
    "                    if grid[adj_y][adj_x] == 0:\n",
    "                        continue\n",
    "                    grid[adj_y][adj_x] += 1\n",
    "                    changes += 1\n",
    "    return changes, flashes"
   ]
  },
  {
   "cell_type": "code",
   "execution_count": 4,
   "metadata": {},
   "outputs": [],
   "source": [
    "def check_zero(grid):\n",
    "    for x in range(len(grid)):\n",
    "        for y in range(len(grid[0])):\n",
    "            if grid[y][x] != 0:\n",
    "                return False\n",
    "    return True"
   ]
  },
  {
   "cell_type": "code",
   "execution_count": 5,
   "metadata": {},
   "outputs": [],
   "source": [
    "def day(days):\n",
    "    count_flashes = 0\n",
    "    i = 0\n",
    "    while (True):\n",
    "        inc_one(grid)\n",
    "        while (True):\n",
    "            changes, flashes = check_blow(grid)\n",
    "            count_flashes += flashes\n",
    "            if changes == 0:\n",
    "                break\n",
    "        if i + 1 == days:\n",
    "            print(f'Part 1 - total flashes in day {days} - {count_flashes}')\n",
    "        if check_zero(grid):\n",
    "            print(f'Part 2 - all zero days - {i+1}')\n",
    "            break\n",
    "        i += 1"
   ]
  },
  {
   "cell_type": "code",
   "execution_count": 6,
   "metadata": {},
   "outputs": [
    {
     "name": "stdout",
     "output_type": "stream",
     "text": [
      "Part 1 - total flashes in day 100 - 1675\n",
      "Part 2 - all zero days - 515\n"
     ]
    }
   ],
   "source": [
    "day(100)"
   ]
  }
 ],
 "metadata": {
  "kernelspec": {
   "display_name": "Python 3",
   "language": "python",
   "name": "python3"
  },
  "language_info": {
   "codemirror_mode": {
    "name": "ipython",
    "version": 3
   },
   "file_extension": ".py",
   "mimetype": "text/x-python",
   "name": "python",
   "nbconvert_exporter": "python",
   "pygments_lexer": "ipython3",
   "version": "3.8.3"
  }
 },
 "nbformat": 4,
 "nbformat_minor": 4
}
