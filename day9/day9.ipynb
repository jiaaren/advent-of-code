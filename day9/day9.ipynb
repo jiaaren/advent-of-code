{
 "cells": [
  {
   "cell_type": "code",
   "execution_count": 1,
   "metadata": {},
   "outputs": [],
   "source": [
    "with open('day9.txt', 'r') as f:\n",
    "    f_lst = [x.strip() for x in f]\n",
    "f_lst\n",
    "grid = [list(x) for x in f_lst]\n",
    "grid\n",
    "\n",
    "row_h = len(grid)\n",
    "col_h = len(grid[0])\n",
    "for row in range(row_h):\n",
    "    for col in range(col_h):\n",
    "        grid[row][col] = int(grid[row][col])\n",
    "        \n",
    "empty = [[0 for x in range(col_h)] for a in range(row_h)]"
   ]
  },
  {
   "cell_type": "code",
   "execution_count": 2,
   "metadata": {},
   "outputs": [
    {
     "name": "stdout",
     "output_type": "stream",
     "text": [
      "[9, 8, 6, 5, 4, 5, 6, 7, 9, 2, 3, 4, 5, 6, 7, 8, 9, 2, 1, 2, 9, 8, 7, 6, 5, 4, 2, 1, 0, 1, 2, 3, 4, 5, 6, 7, 8, 9, 3, 4, 9, 9, 5, 4, 3, 2, 1, 2, 7, 9, 9, 5, 4, 5, 6, 7, 8, 9, 9, 8, 7, 6, 6, 2, 1, 3, 4, 5, 6, 8, 9, 9, 9, 8, 7, 6, 5, 3, 4, 5, 6, 7, 8, 9, 5, 4, 5, 6, 9, 9, 9, 1, 2, 3, 9, 8, 3, 2, 1, 0]\n"
     ]
    }
   ],
   "source": [
    "# first row in grid\n",
    "print(grid[0])"
   ]
  },
  {
   "cell_type": "code",
   "execution_count": 3,
   "metadata": {},
   "outputs": [],
   "source": [
    "lowest = []\n",
    "\n",
    "mv =  [[-1, 0],[0, -1],[0, 1],[1, 0]]\n",
    "\n",
    "row_h = len(grid)\n",
    "col_h = len(grid[0])\n",
    "for row in range(row_h):\n",
    "    for col in range(col_h):\n",
    "        is_lowest = True\n",
    "        for x, y in mv:\n",
    "            if row + y < 0 or col + x < 0:\n",
    "                continue\n",
    "            if row + y >= row_h or col + x >= col_h:\n",
    "                continue\n",
    "            if grid[row+y][col+x] <= grid[row][col]:\n",
    "                is_lowest = False\n",
    "        if is_lowest:\n",
    "            lowest.append(grid[row][col])"
   ]
  },
  {
   "cell_type": "code",
   "execution_count": 4,
   "metadata": {},
   "outputs": [
    {
     "data": {
      "text/plain": [
       "545"
      ]
     },
     "execution_count": 4,
     "metadata": {},
     "output_type": "execute_result"
    }
   ],
   "source": [
    "# Part 1\n",
    "sum(lowest) + len(lowest)"
   ]
  },
  {
   "cell_type": "code",
   "execution_count": null,
   "metadata": {},
   "outputs": [],
   "source": []
  },
  {
   "cell_type": "code",
   "execution_count": 5,
   "metadata": {},
   "outputs": [
    {
     "name": "stdout",
     "output_type": "stream",
     "text": [
      "[0, 1, 1, 1, 1, 1, 1, 1, 0, 1, 1, 1, 1, 1, 1, 1, 0, 1, 1, 1, 0, 1, 1, 1, 1, 1, 1, 1, 1, 1, 1, 1, 1, 1, 1, 1, 1, 0, 1, 1, 0, 0, 1, 1, 1, 1, 1, 1, 1, 0, 0, 1, 1, 1, 1, 1, 1, 0, 0, 1, 1, 1, 1, 1, 1, 1, 1, 1, 1, 1, 0, 0, 0, 1, 1, 1, 1, 1, 1, 1, 1, 1, 1, 0, 1, 1, 1, 1, 0, 0, 0, 1, 1, 1, 0, 1, 1, 1, 1, 1]\n"
     ]
    }
   ],
   "source": [
    "for row in range(row_h):\n",
    "    for col in range(col_h):\n",
    "        if grid[row][col] == 9:\n",
    "            empty[row][col] = 0\n",
    "        else:\n",
    "            empty[row][col] = 1\n",
    "\n",
    "# first row in empty\n",
    "print(empty[0])"
   ]
  },
  {
   "cell_type": "code",
   "execution_count": 6,
   "metadata": {},
   "outputs": [],
   "source": [
    "# https://www.youtube.com/watch?v=GLFcnR5P05U\n",
    "def depth_search(y, x):\n",
    "    if x < 0 or y < 0 or x >= col_h or y >= row_h:\n",
    "        return 0\n",
    "    if empty[y][x] != 1:\n",
    "        return 0\n",
    "    tot = 1\n",
    "    empty[y][x] = 2\n",
    "    tot += depth_search(y - 1, x)\n",
    "    tot += depth_search(y, x - 1)\n",
    "    tot += depth_search(y, x + 1)\n",
    "    tot += depth_search(y + 1, x)\n",
    "    return tot"
   ]
  },
  {
   "cell_type": "code",
   "execution_count": 7,
   "metadata": {},
   "outputs": [],
   "source": [
    "depths = []\n",
    "\n",
    "for row in range(row_h):\n",
    "    for col in range(col_h):\n",
    "        if empty[row][col] == 1:\n",
    "            depths.append(depth_search(row, col))"
   ]
  },
  {
   "cell_type": "code",
   "execution_count": 8,
   "metadata": {},
   "outputs": [
    {
     "data": {
      "text/plain": [
       "950600"
      ]
     },
     "execution_count": 8,
     "metadata": {},
     "output_type": "execute_result"
    }
   ],
   "source": [
    "# Part 2\n",
    "ans = 1\n",
    "for x in sorted(depths)[-3:]:\n",
    "    ans *= x\n",
    "ans"
   ]
  }
 ],
 "metadata": {
  "kernelspec": {
   "display_name": "Python 3",
   "language": "python",
   "name": "python3"
  },
  "language_info": {
   "codemirror_mode": {
    "name": "ipython",
    "version": 3
   },
   "file_extension": ".py",
   "mimetype": "text/x-python",
   "name": "python",
   "nbconvert_exporter": "python",
   "pygments_lexer": "ipython3",
   "version": "3.8.3"
  }
 },
 "nbformat": 4,
 "nbformat_minor": 4
}
