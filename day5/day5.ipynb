{
 "cells": [
  {
   "cell_type": "code",
   "execution_count": 109,
   "metadata": {},
   "outputs": [],
   "source": [
    "f = open('day5.csv', 'r')\n",
    "file_contents = f.read()\n",
    "contents = file_contents.splitlines()"
   ]
  },
  {
   "cell_type": "code",
   "execution_count": 107,
   "metadata": {},
   "outputs": [],
   "source": [
    "coor = []\n",
    "for i in contents:\n",
    "    tmp = []\n",
    "    single = i.replace(\"\\\"\", '').split(' -> ')\n",
    "    tmp.append(single[0].split(','))\n",
    "    tmp.append(single[1].split(','))\n",
    "    coor.append((int(tmp[0][0]), int(tmp[0][1]), int(tmp[1][0]), int(tmp[1][1])))"
   ]
  },
  {
   "cell_type": "code",
   "execution_count": 113,
   "metadata": {},
   "outputs": [
    {
     "data": {
      "text/plain": [
       "990"
      ]
     },
     "execution_count": 113,
     "metadata": {},
     "output_type": "execute_result"
    }
   ],
   "source": [
    "# find largest value\n",
    "largest = 0\n",
    "for pair in coor:\n",
    "    for a in pair:\n",
    "        if a > largest:\n",
    "            largest = a\n",
    "\n",
    "largest"
   ]
  },
  {
   "cell_type": "code",
   "execution_count": 82,
   "metadata": {},
   "outputs": [],
   "source": []
  },
  {
   "cell_type": "code",
   "execution_count": 114,
   "metadata": {},
   "outputs": [],
   "source": [
    "matrix = [[0 for x in range(1000)] for x in range(1000)]\n",
    "\n",
    "for x1,y1,x2,y2 in coor:\n",
    "    if x1 == x2:\n",
    "        if y1 < y2:\n",
    "            lesser = y1\n",
    "            more = y2\n",
    "        else:\n",
    "            lesser = y2\n",
    "            more = y1\n",
    "        for i in range(lesser, more + 1):\n",
    "            matrix[i][x1] += 1\n",
    "            \n",
    "    elif y1 == y2:\n",
    "        if x1 < x2:\n",
    "            lesser = x1\n",
    "            more = x2\n",
    "        else:\n",
    "            lesser = x2\n",
    "            more = x1\n",
    "        for i in range(lesser, more + 1):\n",
    "            matrix[y1][i] += 1"
   ]
  },
  {
   "cell_type": "code",
   "execution_count": 115,
   "metadata": {},
   "outputs": [],
   "source": [
    "count = 0\n",
    "\n",
    "for row in matrix:\n",
    "    for col in row:\n",
    "        if col > 1:\n",
    "            count += 1"
   ]
  },
  {
   "cell_type": "code",
   "execution_count": 116,
   "metadata": {},
   "outputs": [
    {
     "data": {
      "text/plain": [
       "6564"
      ]
     },
     "execution_count": 116,
     "metadata": {},
     "output_type": "execute_result"
    }
   ],
   "source": [
    "count"
   ]
  },
  {
   "cell_type": "code",
   "execution_count": null,
   "metadata": {},
   "outputs": [],
   "source": []
  },
  {
   "cell_type": "code",
   "execution_count": 117,
   "metadata": {},
   "outputs": [],
   "source": [
    "matrix = [[0 for x in range(1000)] for x in range(1000)]\n",
    "for x1,y1,x2,y2 in coor:\n",
    "    if x1 == x2:\n",
    "        if y1 < y2:\n",
    "            lesser = y1\n",
    "            more = y2\n",
    "        else:\n",
    "            lesser = y2\n",
    "            more = y1\n",
    "        for i in range(lesser, more + 1):\n",
    "            matrix[i][x1] += 1\n",
    "            \n",
    "    elif y1 == y2:\n",
    "        if x1 < x2:\n",
    "            lesser = x1\n",
    "            more = x2\n",
    "        else:\n",
    "            lesser = x2\n",
    "            more = x1\n",
    "        for i in range(lesser, more + 1):\n",
    "            matrix[y1][i] += 1\n",
    "    else:\n",
    "        # assume no 0\n",
    "        # all angles 45 degrees\n",
    "        grad = (y2-y1) /(x2-x1)\n",
    "        if x1 < x2:\n",
    "            lesser_x = x1\n",
    "            y = y1\n",
    "            more_x = x2\n",
    "        else:\n",
    "            lesser_x = x2\n",
    "            y = y2\n",
    "            more_x= x1\n",
    "        if grad > 0:\n",
    "            inc = 0\n",
    "            for i in range(lesser_x, more_x+1):\n",
    "                matrix[y + inc][i] += 1\n",
    "                inc += 1\n",
    "        elif grad < 0:\n",
    "            inc = 0\n",
    "            for i in range(lesser_x, more_x+1):\n",
    "                matrix[y + inc][i] += 1\n",
    "                inc -= 1\n",
    "            \n",
    "count = 0\n",
    "\n",
    "for row in matrix:\n",
    "    for col in row:\n",
    "        if col > 1:\n",
    "            count += 1"
   ]
  },
  {
   "cell_type": "code",
   "execution_count": 118,
   "metadata": {},
   "outputs": [
    {
     "data": {
      "text/plain": [
       "19172"
      ]
     },
     "execution_count": 118,
     "metadata": {},
     "output_type": "execute_result"
    }
   ],
   "source": [
    "count"
   ]
  },
  {
   "cell_type": "code",
   "execution_count": null,
   "metadata": {},
   "outputs": [],
   "source": []
  }
 ],
 "metadata": {
  "kernelspec": {
   "display_name": "Python 3",
   "language": "python",
   "name": "python3"
  },
  "language_info": {
   "codemirror_mode": {
    "name": "ipython",
    "version": 3
   },
   "file_extension": ".py",
   "mimetype": "text/x-python",
   "name": "python",
   "nbconvert_exporter": "python",
   "pygments_lexer": "ipython3",
   "version": "3.8.3"
  }
 },
 "nbformat": 4,
 "nbformat_minor": 4
}
